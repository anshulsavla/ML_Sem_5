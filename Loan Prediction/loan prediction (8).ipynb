{
 "cells": [
  {
   "cell_type": "markdown",
   "metadata": {},
   "source": [
    "# About the comapny"
   ]
  },
  {
   "cell_type": "markdown",
   "metadata": {},
   "source": [
    "Dream Housing Finance company deals in all home loans. They have presence across all urban, semi urban and rural areas. Customer first apply for home loan after that company validates the customer eligibility for loan."
   ]
  },
  {
   "cell_type": "markdown",
   "metadata": {},
   "source": [
    "# Problem"
   ]
  },
  {
   "cell_type": "markdown",
   "metadata": {},
   "source": [
    "Company wants to automate the loan eligibility process (real time) based on customer detail provided while filling online application form. These details are Gender, Marital Status, Education, Number of Dependents, Income, Loan Amount, Credit History and others. To automate this process, they have given a problem to identify the customers segments, those are eligible for loan amount so that they can specifically target these customers. Here they have provided a partial data set."
   ]
  },
  {
   "cell_type": "markdown",
   "metadata": {},
   "source": [
    "# Let us Start!"
   ]
  },
  {
   "cell_type": "code",
   "execution_count": 20,
   "metadata": {
    "scrolled": true
   },
   "outputs": [
    {
     "data": {
      "text/html": [
       "<div>\n",
       "<style scoped>\n",
       "    .dataframe tbody tr th:only-of-type {\n",
       "        vertical-align: middle;\n",
       "    }\n",
       "\n",
       "    .dataframe tbody tr th {\n",
       "        vertical-align: top;\n",
       "    }\n",
       "\n",
       "    .dataframe thead th {\n",
       "        text-align: right;\n",
       "    }\n",
       "</style>\n",
       "<table border=\"1\" class=\"dataframe\">\n",
       "  <thead>\n",
       "    <tr style=\"text-align: right;\">\n",
       "      <th></th>\n",
       "      <th>Loan_ID</th>\n",
       "      <th>Gender</th>\n",
       "      <th>Married</th>\n",
       "      <th>Dependents</th>\n",
       "      <th>Education</th>\n",
       "      <th>Self_Employed</th>\n",
       "      <th>ApplicantIncome</th>\n",
       "      <th>CoapplicantIncome</th>\n",
       "      <th>LoanAmount</th>\n",
       "      <th>Loan_Amount_Term</th>\n",
       "      <th>Credit_History</th>\n",
       "      <th>Property_Area</th>\n",
       "      <th>Loan_Status</th>\n",
       "    </tr>\n",
       "  </thead>\n",
       "  <tbody>\n",
       "    <tr>\n",
       "      <td>0</td>\n",
       "      <td>LP001002</td>\n",
       "      <td>Male</td>\n",
       "      <td>No</td>\n",
       "      <td>0</td>\n",
       "      <td>Graduate</td>\n",
       "      <td>No</td>\n",
       "      <td>5849</td>\n",
       "      <td>0.0</td>\n",
       "      <td>NaN</td>\n",
       "      <td>360.0</td>\n",
       "      <td>1.0</td>\n",
       "      <td>Urban</td>\n",
       "      <td>Y</td>\n",
       "    </tr>\n",
       "    <tr>\n",
       "      <td>1</td>\n",
       "      <td>LP001003</td>\n",
       "      <td>Male</td>\n",
       "      <td>Yes</td>\n",
       "      <td>1</td>\n",
       "      <td>Graduate</td>\n",
       "      <td>No</td>\n",
       "      <td>4583</td>\n",
       "      <td>1508.0</td>\n",
       "      <td>128000.0</td>\n",
       "      <td>360.0</td>\n",
       "      <td>1.0</td>\n",
       "      <td>Rural</td>\n",
       "      <td>N</td>\n",
       "    </tr>\n",
       "    <tr>\n",
       "      <td>2</td>\n",
       "      <td>LP001005</td>\n",
       "      <td>Male</td>\n",
       "      <td>Yes</td>\n",
       "      <td>0</td>\n",
       "      <td>Graduate</td>\n",
       "      <td>Yes</td>\n",
       "      <td>3000</td>\n",
       "      <td>0.0</td>\n",
       "      <td>66000.0</td>\n",
       "      <td>360.0</td>\n",
       "      <td>1.0</td>\n",
       "      <td>Urban</td>\n",
       "      <td>Y</td>\n",
       "    </tr>\n",
       "    <tr>\n",
       "      <td>3</td>\n",
       "      <td>LP001006</td>\n",
       "      <td>Male</td>\n",
       "      <td>Yes</td>\n",
       "      <td>0</td>\n",
       "      <td>Not Graduate</td>\n",
       "      <td>No</td>\n",
       "      <td>2583</td>\n",
       "      <td>2358.0</td>\n",
       "      <td>120000.0</td>\n",
       "      <td>360.0</td>\n",
       "      <td>1.0</td>\n",
       "      <td>Urban</td>\n",
       "      <td>Y</td>\n",
       "    </tr>\n",
       "    <tr>\n",
       "      <td>4</td>\n",
       "      <td>LP001008</td>\n",
       "      <td>Male</td>\n",
       "      <td>No</td>\n",
       "      <td>0</td>\n",
       "      <td>Graduate</td>\n",
       "      <td>No</td>\n",
       "      <td>6000</td>\n",
       "      <td>0.0</td>\n",
       "      <td>141000.0</td>\n",
       "      <td>360.0</td>\n",
       "      <td>1.0</td>\n",
       "      <td>Urban</td>\n",
       "      <td>Y</td>\n",
       "    </tr>\n",
       "  </tbody>\n",
       "</table>\n",
       "</div>"
      ],
      "text/plain": [
       "    Loan_ID Gender Married Dependents     Education Self_Employed  \\\n",
       "0  LP001002   Male      No          0      Graduate            No   \n",
       "1  LP001003   Male     Yes          1      Graduate            No   \n",
       "2  LP001005   Male     Yes          0      Graduate           Yes   \n",
       "3  LP001006   Male     Yes          0  Not Graduate            No   \n",
       "4  LP001008   Male      No          0      Graduate            No   \n",
       "\n",
       "   ApplicantIncome  CoapplicantIncome  LoanAmount  Loan_Amount_Term  \\\n",
       "0             5849                0.0         NaN             360.0   \n",
       "1             4583             1508.0    128000.0             360.0   \n",
       "2             3000                0.0     66000.0             360.0   \n",
       "3             2583             2358.0    120000.0             360.0   \n",
       "4             6000                0.0    141000.0             360.0   \n",
       "\n",
       "   Credit_History Property_Area Loan_Status  \n",
       "0             1.0         Urban           Y  \n",
       "1             1.0         Rural           N  \n",
       "2             1.0         Urban           Y  \n",
       "3             1.0         Urban           Y  \n",
       "4             1.0         Urban           Y  "
      ]
     },
     "execution_count": 20,
     "metadata": {},
     "output_type": "execute_result"
    }
   ],
   "source": [
    "#Importing the libraries\n",
    "\n",
    "import pandas as pd\n",
    "import numpy as np\n",
    "import matplotlib.pyplot as plt\n",
    "import seaborn as sns\n",
    "\n",
    "#Reading the training and test datafile\n",
    "\n",
    "train=pd.read_csv('C:\\\\Users\\\\User-1\\\\Downloads\\\\train_lp.csv')\n",
    "train['LoanAmount']=train['LoanAmount']*1000\n",
    "test=pd.read_csv('C:\\\\Users\\\\User-1\\\\Downloads\\\\test_.csv')\n",
    "test['LoanAmount']=test['LoanAmount']*1000\n",
    "\n",
    "#Printing first 5 rows of training file\n",
    "\n",
    "train.head()"
   ]
  },
  {
   "cell_type": "code",
   "execution_count": 21,
   "metadata": {},
   "outputs": [
    {
     "data": {
      "text/html": [
       "<div>\n",
       "<style scoped>\n",
       "    .dataframe tbody tr th:only-of-type {\n",
       "        vertical-align: middle;\n",
       "    }\n",
       "\n",
       "    .dataframe tbody tr th {\n",
       "        vertical-align: top;\n",
       "    }\n",
       "\n",
       "    .dataframe thead th {\n",
       "        text-align: right;\n",
       "    }\n",
       "</style>\n",
       "<table border=\"1\" class=\"dataframe\">\n",
       "  <thead>\n",
       "    <tr style=\"text-align: right;\">\n",
       "      <th></th>\n",
       "      <th>Loan_ID</th>\n",
       "      <th>Gender</th>\n",
       "      <th>Married</th>\n",
       "      <th>Dependents</th>\n",
       "      <th>Education</th>\n",
       "      <th>Self_Employed</th>\n",
       "      <th>ApplicantIncome</th>\n",
       "      <th>CoapplicantIncome</th>\n",
       "      <th>LoanAmount</th>\n",
       "      <th>Loan_Amount_Term</th>\n",
       "      <th>Credit_History</th>\n",
       "      <th>Property_Area</th>\n",
       "      <th>Loan_Status</th>\n",
       "    </tr>\n",
       "  </thead>\n",
       "  <tbody>\n",
       "    <tr>\n",
       "      <td>count</td>\n",
       "      <td>614</td>\n",
       "      <td>601</td>\n",
       "      <td>611</td>\n",
       "      <td>599</td>\n",
       "      <td>614</td>\n",
       "      <td>582</td>\n",
       "      <td>614.000000</td>\n",
       "      <td>614.000000</td>\n",
       "      <td>592.000000</td>\n",
       "      <td>600.00000</td>\n",
       "      <td>564.000000</td>\n",
       "      <td>614</td>\n",
       "      <td>614</td>\n",
       "    </tr>\n",
       "    <tr>\n",
       "      <td>unique</td>\n",
       "      <td>614</td>\n",
       "      <td>2</td>\n",
       "      <td>2</td>\n",
       "      <td>4</td>\n",
       "      <td>2</td>\n",
       "      <td>2</td>\n",
       "      <td>NaN</td>\n",
       "      <td>NaN</td>\n",
       "      <td>NaN</td>\n",
       "      <td>NaN</td>\n",
       "      <td>NaN</td>\n",
       "      <td>3</td>\n",
       "      <td>2</td>\n",
       "    </tr>\n",
       "    <tr>\n",
       "      <td>top</td>\n",
       "      <td>LP001776</td>\n",
       "      <td>Male</td>\n",
       "      <td>Yes</td>\n",
       "      <td>0</td>\n",
       "      <td>Graduate</td>\n",
       "      <td>No</td>\n",
       "      <td>NaN</td>\n",
       "      <td>NaN</td>\n",
       "      <td>NaN</td>\n",
       "      <td>NaN</td>\n",
       "      <td>NaN</td>\n",
       "      <td>Semiurban</td>\n",
       "      <td>Y</td>\n",
       "    </tr>\n",
       "    <tr>\n",
       "      <td>freq</td>\n",
       "      <td>1</td>\n",
       "      <td>489</td>\n",
       "      <td>398</td>\n",
       "      <td>345</td>\n",
       "      <td>480</td>\n",
       "      <td>500</td>\n",
       "      <td>NaN</td>\n",
       "      <td>NaN</td>\n",
       "      <td>NaN</td>\n",
       "      <td>NaN</td>\n",
       "      <td>NaN</td>\n",
       "      <td>233</td>\n",
       "      <td>422</td>\n",
       "    </tr>\n",
       "    <tr>\n",
       "      <td>mean</td>\n",
       "      <td>NaN</td>\n",
       "      <td>NaN</td>\n",
       "      <td>NaN</td>\n",
       "      <td>NaN</td>\n",
       "      <td>NaN</td>\n",
       "      <td>NaN</td>\n",
       "      <td>5403.459283</td>\n",
       "      <td>1621.245798</td>\n",
       "      <td>146412.162162</td>\n",
       "      <td>342.00000</td>\n",
       "      <td>0.842199</td>\n",
       "      <td>NaN</td>\n",
       "      <td>NaN</td>\n",
       "    </tr>\n",
       "    <tr>\n",
       "      <td>std</td>\n",
       "      <td>NaN</td>\n",
       "      <td>NaN</td>\n",
       "      <td>NaN</td>\n",
       "      <td>NaN</td>\n",
       "      <td>NaN</td>\n",
       "      <td>NaN</td>\n",
       "      <td>6109.041673</td>\n",
       "      <td>2926.248369</td>\n",
       "      <td>85587.325236</td>\n",
       "      <td>65.12041</td>\n",
       "      <td>0.364878</td>\n",
       "      <td>NaN</td>\n",
       "      <td>NaN</td>\n",
       "    </tr>\n",
       "    <tr>\n",
       "      <td>min</td>\n",
       "      <td>NaN</td>\n",
       "      <td>NaN</td>\n",
       "      <td>NaN</td>\n",
       "      <td>NaN</td>\n",
       "      <td>NaN</td>\n",
       "      <td>NaN</td>\n",
       "      <td>150.000000</td>\n",
       "      <td>0.000000</td>\n",
       "      <td>9000.000000</td>\n",
       "      <td>12.00000</td>\n",
       "      <td>0.000000</td>\n",
       "      <td>NaN</td>\n",
       "      <td>NaN</td>\n",
       "    </tr>\n",
       "    <tr>\n",
       "      <td>25%</td>\n",
       "      <td>NaN</td>\n",
       "      <td>NaN</td>\n",
       "      <td>NaN</td>\n",
       "      <td>NaN</td>\n",
       "      <td>NaN</td>\n",
       "      <td>NaN</td>\n",
       "      <td>2877.500000</td>\n",
       "      <td>0.000000</td>\n",
       "      <td>100000.000000</td>\n",
       "      <td>360.00000</td>\n",
       "      <td>1.000000</td>\n",
       "      <td>NaN</td>\n",
       "      <td>NaN</td>\n",
       "    </tr>\n",
       "    <tr>\n",
       "      <td>50%</td>\n",
       "      <td>NaN</td>\n",
       "      <td>NaN</td>\n",
       "      <td>NaN</td>\n",
       "      <td>NaN</td>\n",
       "      <td>NaN</td>\n",
       "      <td>NaN</td>\n",
       "      <td>3812.500000</td>\n",
       "      <td>1188.500000</td>\n",
       "      <td>128000.000000</td>\n",
       "      <td>360.00000</td>\n",
       "      <td>1.000000</td>\n",
       "      <td>NaN</td>\n",
       "      <td>NaN</td>\n",
       "    </tr>\n",
       "    <tr>\n",
       "      <td>75%</td>\n",
       "      <td>NaN</td>\n",
       "      <td>NaN</td>\n",
       "      <td>NaN</td>\n",
       "      <td>NaN</td>\n",
       "      <td>NaN</td>\n",
       "      <td>NaN</td>\n",
       "      <td>5795.000000</td>\n",
       "      <td>2297.250000</td>\n",
       "      <td>168000.000000</td>\n",
       "      <td>360.00000</td>\n",
       "      <td>1.000000</td>\n",
       "      <td>NaN</td>\n",
       "      <td>NaN</td>\n",
       "    </tr>\n",
       "    <tr>\n",
       "      <td>max</td>\n",
       "      <td>NaN</td>\n",
       "      <td>NaN</td>\n",
       "      <td>NaN</td>\n",
       "      <td>NaN</td>\n",
       "      <td>NaN</td>\n",
       "      <td>NaN</td>\n",
       "      <td>81000.000000</td>\n",
       "      <td>41667.000000</td>\n",
       "      <td>700000.000000</td>\n",
       "      <td>480.00000</td>\n",
       "      <td>1.000000</td>\n",
       "      <td>NaN</td>\n",
       "      <td>NaN</td>\n",
       "    </tr>\n",
       "  </tbody>\n",
       "</table>\n",
       "</div>"
      ],
      "text/plain": [
       "         Loan_ID Gender Married Dependents Education Self_Employed  \\\n",
       "count        614    601     611        599       614           582   \n",
       "unique       614      2       2          4         2             2   \n",
       "top     LP001776   Male     Yes          0  Graduate            No   \n",
       "freq           1    489     398        345       480           500   \n",
       "mean         NaN    NaN     NaN        NaN       NaN           NaN   \n",
       "std          NaN    NaN     NaN        NaN       NaN           NaN   \n",
       "min          NaN    NaN     NaN        NaN       NaN           NaN   \n",
       "25%          NaN    NaN     NaN        NaN       NaN           NaN   \n",
       "50%          NaN    NaN     NaN        NaN       NaN           NaN   \n",
       "75%          NaN    NaN     NaN        NaN       NaN           NaN   \n",
       "max          NaN    NaN     NaN        NaN       NaN           NaN   \n",
       "\n",
       "        ApplicantIncome  CoapplicantIncome     LoanAmount  Loan_Amount_Term  \\\n",
       "count        614.000000         614.000000     592.000000         600.00000   \n",
       "unique              NaN                NaN            NaN               NaN   \n",
       "top                 NaN                NaN            NaN               NaN   \n",
       "freq                NaN                NaN            NaN               NaN   \n",
       "mean        5403.459283        1621.245798  146412.162162         342.00000   \n",
       "std         6109.041673        2926.248369   85587.325236          65.12041   \n",
       "min          150.000000           0.000000    9000.000000          12.00000   \n",
       "25%         2877.500000           0.000000  100000.000000         360.00000   \n",
       "50%         3812.500000        1188.500000  128000.000000         360.00000   \n",
       "75%         5795.000000        2297.250000  168000.000000         360.00000   \n",
       "max        81000.000000       41667.000000  700000.000000         480.00000   \n",
       "\n",
       "        Credit_History Property_Area Loan_Status  \n",
       "count       564.000000           614         614  \n",
       "unique             NaN             3           2  \n",
       "top                NaN     Semiurban           Y  \n",
       "freq               NaN           233         422  \n",
       "mean          0.842199           NaN         NaN  \n",
       "std           0.364878           NaN         NaN  \n",
       "min           0.000000           NaN         NaN  \n",
       "25%           1.000000           NaN         NaN  \n",
       "50%           1.000000           NaN         NaN  \n",
       "75%           1.000000           NaN         NaN  \n",
       "max           1.000000           NaN         NaN  "
      ]
     },
     "execution_count": 21,
     "metadata": {},
     "output_type": "execute_result"
    }
   ],
   "source": [
    "#To study descriptive statistics of our data\n",
    "\n",
    "train.describe(include='all')"
   ]
  },
  {
   "cell_type": "code",
   "execution_count": 22,
   "metadata": {},
   "outputs": [
    {
     "data": {
      "text/plain": [
       "Text(0, 0.5, 'Count')"
      ]
     },
     "execution_count": 22,
     "metadata": {},
     "output_type": "execute_result"
    },
    {
     "data": {
      "image/png": "[encoded data removed]",
      "text/plain": [
       "<Figure size 432x288 with 1 Axes>"
      ]
     },
     "metadata": {
      "needs_background": "light"
     },
     "output_type": "display_data"
    }
   ],
   "source": [
    "#Plotted the countplot of our target variable to check whether our data is proper or biased\n",
    "\n",
    "train['Loan_Status'].value_counts().plot(kind='bar')\n",
    "plt.xlabel('Loan Status')\n",
    "plt.ylabel('Count')"
   ]
  },
  {
   "cell_type": "code",
   "execution_count": 23,
   "metadata": {
    "scrolled": true
   },
   "outputs": [
    {
     "data": {
      "image/png": "[encoded data removed]",
      "text/plain": [
       "<Figure size 432x288 with 2 Axes>"
      ]
     },
     "metadata": {
      "needs_background": "light"
     },
     "output_type": "display_data"
    }
   ],
   "source": [
    "#Plotted the heatmap to check the corelation of numerical featurres\n",
    "\n",
    "plt.figure()\n",
    "sns.heatmap(train.corr(),annot=True)\n",
    "plt.show()"
   ]
  },
  {
   "cell_type": "code",
   "execution_count": 24,
   "metadata": {},
   "outputs": [
    {
     "data": {
      "text/plain": [
       "['Gender',\n",
       " 'Married',\n",
       " 'Dependents',\n",
       " 'Education',\n",
       " 'Self_Employed',\n",
       " 'Loan_Amount_Term',\n",
       " 'Credit_History',\n",
       " 'Property_Area',\n",
       " 'Loan_Status']"
      ]
     },
     "execution_count": 24,
     "metadata": {},
     "output_type": "execute_result"
    }
   ],
   "source": [
    "#Since we know that Loan_Amount_Term and Credit_History are also categorical features we have use this code instead of using dtypes for selecting categorical features\n",
    "\n",
    "cat_features=[index for index in train.columns if len(train[index].unique())<15]\n",
    "cat_features"
   ]
  },
  {
   "cell_type": "code",
   "execution_count": 25,
   "metadata": {},
   "outputs": [
    {
     "data": {
      "image/png": "[encoded data removed]",
      "text/plain": [
       "<Figure size 432x288 with 1 Axes>"
      ]
     },
     "metadata": {
      "needs_background": "light"
     },
     "output_type": "display_data"
    },
    {
     "data": {
      "image/png": "[encoded data removed]",
      "text/plain": [
       "<Figure size 432x288 with 1 Axes>"
      ]
     },
     "metadata": {
      "needs_background": "light"
     },
     "output_type": "display_data"
    },
    {
     "data": {
      "image/png": "[encoded data removed]",
      "text/plain": [
       "<Figure size 432x288 with 1 Axes>"
      ]
     },
     "metadata": {
      "needs_background": "light"
     },
     "output_type": "display_data"
    },
    {
     "data": {
      "image/png": "[encoded data removed]",
      "text/plain": [
       "<Figure size 432x288 with 1 Axes>"
      ]
     },
     "metadata": {
      "needs_background": "light"
     },
     "output_type": "display_data"
    },
    {
     "data": {
      "image/png": "[encoded data removed]",
      "text/plain": [
       "<Figure size 432x288 with 1 Axes>"
      ]
     },
     "metadata": {
      "needs_background": "light"
     },
     "output_type": "display_data"
    },
    {
     "data": {
      "image/png": "[encoded data removed]",
      "text/plain": [
       "<Figure size 432x288 with 1 Axes>"
      ]
     },
     "metadata": {
      "needs_background": "light"
     },
     "output_type": "display_data"
    },
    {
     "data": {
      "image/png": "[encoded data removed]",
      "text/plain": [
       "<Figure size 432x288 with 1 Axes>"
      ]
     },
     "metadata": {
      "needs_background": "light"
     },
     "output_type": "display_data"
    },
    {
     "data": {
      "image/png": "[encoded data removed]",
      "text/plain": [
       "<Figure size 432x288 with 1 Axes>"
      ]
     },
     "metadata": {
      "needs_background": "light"
     },
     "output_type": "display_data"
    },
    {
     "data": {
      "image/png": "[encoded data removed]",
      "text/plain": [
       "<Figure size 432x288 with 1 Axes>"
      ]
     },
     "metadata": {
      "needs_background": "light"
     },
     "output_type": "display_data"
    }
   ],
   "source": [
    "#Plotted varoius countplot for categorical feaures \n",
    "\n",
    "for cat in cat_features:\n",
    "    train[cat].value_counts().plot(kind='bar')\n",
    "    plt.xlabel(cat)\n",
    "    plt.show()"
   ]
  },
  {
   "cell_type": "code",
   "execution_count": 26,
   "metadata": {},
   "outputs": [
    {
     "data": {
      "text/plain": [
       "Yes    398\n",
       "No     213\n",
       "Name: Married, dtype: int64"
      ]
     },
     "execution_count": 26,
     "metadata": {},
     "output_type": "execute_result"
    }
   ],
   "source": [
    "#Defined the function to check the unique values \n",
    "\n",
    "def counts(feature):\n",
    "    return train[feature].value_counts()\n",
    "counts('Married')"
   ]
  },
  {
   "cell_type": "markdown",
   "metadata": {},
   "source": [
    "After analysing all features independents now we will see how differnt categorical features have their effect on our target variable loan status"
   ]
  },
  {
   "cell_type": "code",
   "execution_count": 27,
   "metadata": {},
   "outputs": [
    {
     "data": {
      "image/png": "[encoded data removed]",
      "text/plain": [
       "<Figure size 432x288 with 1 Axes>"
      ]
     },
     "metadata": {
      "needs_background": "light"
     },
     "output_type": "display_data"
    },
    {
     "data": {
      "image/png": "[encoded data removed]",
      "text/plain": [
       "<Figure size 432x288 with 1 Axes>"
      ]
     },
     "metadata": {
      "needs_background": "light"
     },
     "output_type": "display_data"
    },
    {
     "data": {
      "image/png": "[encoded data removed]",
      "text/plain": [
       "<Figure size 432x288 with 1 Axes>"
      ]
     },
     "metadata": {
      "needs_background": "light"
     },
     "output_type": "display_data"
    },
    {
     "data": {
      "image/png": "[encoded data removed]",
      "text/plain": [
       "<Figure size 432x288 with 1 Axes>"
      ]
     },
     "metadata": {
      "needs_background": "light"
     },
     "output_type": "display_data"
    },
    {
     "data": {
      "image/png": "[encoded data removed]",
      "text/plain": [
       "<Figure size 432x288 with 1 Axes>"
      ]
     },
     "metadata": {
      "needs_background": "light"
     },
     "output_type": "display_data"
    },
    {
     "data": {
      "image/png": "[encoded data removed]",
      "text/plain": [
       "<Figure size 432x288 with 1 Axes>"
      ]
     },
     "metadata": {
      "needs_background": "light"
     },
     "output_type": "display_data"
    },
    {
     "data": {
      "image/png": "[encoded data removed]",
      "text/plain": [
       "<Figure size 432x288 with 1 Axes>"
      ]
     },
     "metadata": {
      "needs_background": "light"
     },
     "output_type": "display_data"
    },
    {
     "data": {
      "image/png": "[encoded data removed]",
      "text/plain": [
       "<Figure size 432x288 with 1 Axes>"
      ]
     },
     "metadata": {
      "needs_background": "light"
     },
     "output_type": "display_data"
    },
    {
     "data": {
      "image/png": "[encoded data removed]",
      "text/plain": [
       "<Figure size 432x288 with 1 Axes>"
      ]
     },
     "metadata": {
      "needs_background": "light"
     },
     "output_type": "display_data"
    }
   ],
   "source": [
    " for feature_x in cat_features:\n",
    "        a=pd.crosstab(train[feature_x],train['Loan_Status'])\n",
    "        a.plot(kind='bar',stacked=True)\n",
    "        plt.show()"
   ]
  },
  {
   "cell_type": "markdown",
   "metadata": {},
   "source": [
    "Graph 3-Distribution of applicants with 1 or 3+ dependents is similar across both categories of loan status.But applicant with 0 dependents have higher proportion of approved loans"
   ]
  },
  {
   "cell_type": "markdown",
   "metadata": {},
   "source": [
    "Graph 1-Proportion of male and female applicant is more or less same for approved and not approved loan status But male has somewhat higher proportion of approved loans compared to female applicant"
   ]
  },
  {
   "cell_type": "markdown",
   "metadata": {},
   "source": [
    "Graph 2-Proportion of married applicant is higher for approved loans"
   ]
  },
  {
   "cell_type": "markdown",
   "metadata": {},
   "source": [
    "\n",
    "Graph 4-Generally applicants who apply for loan are graduates and proportion of graduate applicant is higher for approved loans"
   ]
  },
  {
   "cell_type": "markdown",
   "metadata": {},
   "source": [
    "Graph 5-There is nothing significant that we can infer from graph of self employed vs loan status but there are are more no of appliacnt who are unemployed and they apply for loan.and proportion of unemployed applicant as well as employed applicant is higher for approved loans "
   ]
  },
  {
   "cell_type": "markdown",
   "metadata": {},
   "source": [
    "Graph-7 It seems like people with credit history as 1 are more likely to get their loans approved"
   ]
  },
  {
   "cell_type": "markdown",
   "metadata": {},
   "source": [
    "Graph 8-Proportion of loans getting approved in semi urban areas is higher as compared to rural and urban area"
   ]
  },
  {
   "cell_type": "code",
   "execution_count": 28,
   "metadata": {},
   "outputs": [
    {
     "data": {
      "text/plain": [
       "Loan_ID               0\n",
       "Gender               13\n",
       "Married               3\n",
       "Dependents           15\n",
       "Education             0\n",
       "Self_Employed        32\n",
       "ApplicantIncome       0\n",
       "CoapplicantIncome     0\n",
       "LoanAmount           22\n",
       "Loan_Amount_Term     14\n",
       "Credit_History       50\n",
       "Property_Area         0\n",
       "Loan_Status           0\n",
       "dtype: int64"
      ]
     },
     "execution_count": 28,
     "metadata": {},
     "output_type": "execute_result"
    }
   ],
   "source": [
    "#To check for the missing values\n",
    "\n",
    "train.isnull().sum()"
   ]
  },
  {
   "cell_type": "markdown",
   "metadata": {},
   "source": [
    "As there is no stong correlation of these variables with any other variable so i decided to fill missing values either by their median value or mode value"
   ]
  },
  {
   "cell_type": "code",
   "execution_count": 29,
   "metadata": {},
   "outputs": [],
   "source": [
    "#Fill the missing values\n",
    "\n",
    "train['Dependents'].replace('3+','3',inplace=True)\n",
    "train['Married'].fillna(train['Married'].mode()[0],inplace=True)\n",
    "train['Dependents'].fillna('0',inplace=True)\n",
    "\n",
    "#\n",
    "train['Loan_Amount_Term'].fillna(train['Loan_Amount_Term'].mode()[0],inplace=True)"
   ]
  },
  {
   "cell_type": "code",
   "execution_count": 30,
   "metadata": {},
   "outputs": [
    {
     "data": {
      "text/plain": [
       "<seaborn.axisgrid.FacetGrid at 0x22ee5c00ec8>"
      ]
     },
     "execution_count": 30,
     "metadata": {},
     "output_type": "execute_result"
    },
    {
     "data": {
      "image/png": "[encoded data removed]",
      "text/plain": [
       "<Figure size 360x360 with 1 Axes>"
      ]
     },
     "metadata": {
      "needs_background": "light"
     },
     "output_type": "display_data"
    }
   ],
   "source": [
    "sns.catplot('Loan_Amount_Term','LoanAmount',data=train)"
   ]
  },
  {
   "cell_type": "markdown",
   "metadata": {},
   "source": [
    "As we can see that there are many outliers in loan amount so it is better to fill missing values with the median or mode "
   ]
  },
  {
   "cell_type": "code",
   "execution_count": 31,
   "metadata": {},
   "outputs": [],
   "source": [
    "\n",
    "train['LoanAmount'].fillna(train['LoanAmount'].median(),inplace=True)"
   ]
  },
  {
   "cell_type": "code",
   "execution_count": 32,
   "metadata": {},
   "outputs": [
    {
     "data": {
      "image/png": "[encoded data removed]",
      "text/plain": [
       "<Figure size 432x288 with 1 Axes>"
      ]
     },
     "metadata": {
      "needs_background": "light"
     },
     "output_type": "display_data"
    }
   ],
   "source": [
    "a=pd.crosstab(train['Self_Employed'],train['Dependents'])\n",
    "a.plot(kind='bar')\n",
    "plt.show()"
   ]
  },
  {
   "cell_type": "markdown",
   "metadata": {},
   "source": [
    "Form the bar plot of dependents vs self_employed it can be observed that if there are 0 dependents around 270 of them are unemployed out of 345.\n",
    "\n",
    "\n",
    "0 Dependents also means that no one in his family is dependent on his/her income so one possibililty is that he/she is still studying\n",
    "\n",
    "But at the end of the day  90 % values of self employed corresponds to 'No' so we will fill the missing values with no."
   ]
  },
  {
   "cell_type": "code",
   "execution_count": 33,
   "metadata": {},
   "outputs": [],
   "source": [
    "train['Self_Employed'].fillna('No',inplace=True)"
   ]
  },
  {
   "cell_type": "markdown",
   "metadata": {},
   "source": [
    "I decided to fill missing values of credit history with 2 since null values in credit history signifies that applicant had not borrowd any loan previously"
   ]
  },
  {
   "cell_type": "code",
   "execution_count": 34,
   "metadata": {},
   "outputs": [],
   "source": [
    "train['Credit_History'].fillna(2,inplace=True)"
   ]
  },
  {
   "cell_type": "markdown",
   "metadata": {},
   "source": [
    "We shall fill missing values of Credit_History with 2 , since : -\n",
    "\n",
    "0 stands for applicants who took a Loan in the past but could not repay the Loan , due to different factors\n",
    "\n",
    "1 stands for applicants who took a Loan in the past and have repayed the Loan generously\n",
    "\n",
    "2 stands for applicants who are basically , the First Timers (Never - ever took a Loan)"
   ]
  },
  {
   "cell_type": "code",
   "execution_count": 35,
   "metadata": {},
   "outputs": [
    {
     "data": {
      "image/png": "[encoded data removed]",
      "text/plain": [
       "<Figure size 432x288 with 1 Axes>"
      ]
     },
     "metadata": {
      "needs_background": "light"
     },
     "output_type": "display_data"
    }
   ],
   "source": [
    "a=pd.crosstab(train['Gender'],train['Married'])\n",
    "a.div(a.sum(1),axis=0).plot(kind='bar',stacked=True)\n",
    "plt.show()"
   ]
  },
  {
   "cell_type": "markdown",
   "metadata": {},
   "source": [
    "None of the graph are able to depict as to what gender should be but looking at thi plot one can clearly say that counts of Female being married is really low"
   ]
  },
  {
   "cell_type": "code",
   "execution_count": 36,
   "metadata": {},
   "outputs": [],
   "source": [
    "dict={'Yes':'Male','No':'Female'}\n",
    "train['Gender'].fillna(train['Married'].map(dict),inplace=True)"
   ]
  },
  {
   "cell_type": "code",
   "execution_count": 37,
   "metadata": {},
   "outputs": [
    {
     "data": {
      "text/plain": [
       "Loan_ID              0\n",
       "Gender               0\n",
       "Married              0\n",
       "Dependents           0\n",
       "Education            0\n",
       "Self_Employed        0\n",
       "ApplicantIncome      0\n",
       "CoapplicantIncome    0\n",
       "LoanAmount           0\n",
       "Loan_Amount_Term     0\n",
       "Credit_History       0\n",
       "Property_Area        0\n",
       "Loan_Status          0\n",
       "dtype: int64"
      ]
     },
     "execution_count": 37,
     "metadata": {},
     "output_type": "execute_result"
    }
   ],
   "source": [
    "train.isnull().sum()"
   ]
  },
  {
   "cell_type": "markdown",
   "metadata": {},
   "source": [
    "After analyzing categorical features now we will look at our continuous variable and plot their histogram and boxplot to check the skewness and to identify the outliers present in our continuous variable"
   ]
  },
  {
   "cell_type": "markdown",
   "metadata": {},
   "source": [
    "### Histograms"
   ]
  },
  {
   "cell_type": "code",
   "execution_count": 38,
   "metadata": {},
   "outputs": [
    {
     "data": {
      "image/png": "[encoded data removed]",
      "text/plain": [
       "<Figure size 432x288 with 1 Axes>"
      ]
     },
     "metadata": {
      "needs_background": "light"
     },
     "output_type": "display_data"
    },
    {
     "data": {
      "image/png": "[encoded data removed]",
      "text/plain": [
       "<Figure size 432x288 with 1 Axes>"
      ]
     },
     "metadata": {
      "needs_background": "light"
     },
     "output_type": "display_data"
    },
    {
     "data": {
      "image/png": "[encoded data removed]",
      "text/plain": [
       "<Figure size 432x288 with 1 Axes>"
      ]
     },
     "metadata": {
      "needs_background": "light"
     },
     "output_type": "display_data"
    }
   ],
   "source": [
    "\n",
    "features=['ApplicantIncome','CoapplicantIncome','LoanAmount']\n",
    "for i in features:\n",
    "    plt.hist(train[i],bins=10)\n",
    "    plt.xlabel(i)\n",
    "    plt.show()"
   ]
  },
  {
   "cell_type": "markdown",
   "metadata": {},
   "source": [
    "The above histograms are positively skewed so in order to remove the skewness we will do log transformation"
   ]
  },
  {
   "cell_type": "code",
   "execution_count": 39,
   "metadata": {},
   "outputs": [],
   "source": [
    "train['log_appincome']=np.log(train['ApplicantIncome'])\n",
    "train['sqrt_coappincome']=np.sqrt(train['CoapplicantIncome'])"
   ]
  },
  {
   "cell_type": "code",
   "execution_count": 40,
   "metadata": {
    "scrolled": true
   },
   "outputs": [
    {
     "data": {
      "text/plain": [
       "<seaborn.axisgrid.FacetGrid at 0x22ee51a6a48>"
      ]
     },
     "execution_count": 40,
     "metadata": {},
     "output_type": "execute_result"
    },
    {
     "data": {
      "image/png": "[encoded data removed]",
      "text/plain": [
       "<Figure size 432x216 with 2 Axes>"
      ]
     },
     "metadata": {
      "needs_background": "light"
     },
     "output_type": "display_data"
    }
   ],
   "source": [
    "g=sns.FacetGrid(train,col='Self_Employed')\n",
    "g.map(plt.hist,'LoanAmount',bins=10)"
   ]
  },
  {
   "cell_type": "markdown",
   "metadata": {},
   "source": [
    "### Boxplots"
   ]
  },
  {
   "cell_type": "code",
   "execution_count": 41,
   "metadata": {},
   "outputs": [
    {
     "data": {
      "image/png": "[encoded data removed]",
      "text/plain": [
       "<Figure size 432x288 with 1 Axes>"
      ]
     },
     "metadata": {
      "needs_background": "light"
     },
     "output_type": "display_data"
    },
    {
     "data": {
      "image/png": "[encoded data removed]",
      "text/plain": [
       "<Figure size 432x288 with 1 Axes>"
      ]
     },
     "metadata": {
      "needs_background": "light"
     },
     "output_type": "display_data"
    },
    {
     "data": {
      "image/png": "[encoded data removed]",
      "text/plain": [
       "<Figure size 432x288 with 1 Axes>"
      ]
     },
     "metadata": {
      "needs_background": "light"
     },
     "output_type": "display_data"
    }
   ],
   "source": [
    "feature=['ApplicantIncome','CoapplicantIncome','LoanAmount']\n",
    "for i in feature:\n",
    "    plt.figure()\n",
    "    train[i].plot(kind='box')\n",
    "    plt.show()"
   ]
  },
  {
   "cell_type": "code",
   "execution_count": 42,
   "metadata": {},
   "outputs": [
    {
     "data": {
      "text/plain": [
       "<matplotlib.axes._subplots.AxesSubplot at 0x22ee5c04e48>"
      ]
     },
     "execution_count": 42,
     "metadata": {},
     "output_type": "execute_result"
    },
    {
     "data": {
      "image/png": "[encoded data removed]",
      "text/plain": [
       "<Figure size 432x288 with 1 Axes>"
      ]
     },
     "metadata": {
      "needs_background": "light"
     },
     "output_type": "display_data"
    }
   ],
   "source": [
    "def boxplot(feature,basis):\n",
    "    return sns.boxplot(train[feature],train[basis])\n",
    "boxplot('Education','ApplicantIncome')"
   ]
  },
  {
   "cell_type": "markdown",
   "metadata": {},
   "source": [
    "I've tried to make a function which can plot any graph amongst boxplot,barplot,catplot which is important for this dataset and i have missed . Instead of making many graph and rejecting it if it is not useful,function can plot all types of graph by writing just one line of code."
   ]
  },
  {
   "cell_type": "code",
   "execution_count": 43,
   "metadata": {},
   "outputs": [
    {
     "data": {
      "image/png": "[encoded data removed]",
      "text/plain": [
       "<Figure size 432x288 with 1 Axes>"
      ]
     },
     "metadata": {
      "needs_background": "light"
     },
     "output_type": "display_data"
    },
    {
     "data": {
      "image/png": "[encoded data removed]",
      "text/plain": [
       "<Figure size 432x288 with 1 Axes>"
      ]
     },
     "metadata": {
      "needs_background": "light"
     },
     "output_type": "display_data"
    },
    {
     "data": {
      "image/png": "[encoded data removed]",
      "text/plain": [
       "<Figure size 432x288 with 1 Axes>"
      ]
     },
     "metadata": {
      "needs_background": "light"
     },
     "output_type": "display_data"
    }
   ],
   "source": [
    "feature=['ApplicantIncome','CoapplicantIncome','LoanAmount']\n",
    "def plot_graph(x_axis_feature,type_of_graph,hue=None):\n",
    "    for i in feature:\n",
    "        if (type_of_graph=='boxplot'):\n",
    "            sns.boxplot(x_axis_feature,i,hue=hue,data=train)\n",
    "            plt.show()\n",
    "        elif (type_of_graph=='barplot'):\n",
    "             sns.barplot(x_axis_feature,i,data=train)\n",
    "             plt.show()\n",
    "        elif (type_of_graph=='catplot'):\n",
    "             sns.barplot(x_axis_feature,i,hue=hue,data=train)\n",
    "             plt.show()\n",
    "plot_graph('Dependents','boxplot')"
   ]
  },
  {
   "cell_type": "markdown",
   "metadata": {},
   "source": [
    "From above graph it is clearly visible that applicant having more no of dependents apply for more loan amount and they also have higher source of income"
   ]
  },
  {
   "cell_type": "markdown",
   "metadata": {},
   "source": [
    "### Removing the outliers"
   ]
  },
  {
   "cell_type": "markdown",
   "metadata": {},
   "source": [
    "Interquartile Range (IQR) is important because it is used to define the outliers. It is the difference between the third quartile and the first quartile (IQR = Q3 -Q1). Outliers in this case are defined as the observations that are below (Q1 − 1.5x IQR) or boxplot lower whisker or above (Q3 + 1.5x IQR) or boxplot upper whisker.\n",
    "\n",
    "If data distribution is approx normal then about 68% values lie within one standard deviation of mean and about 95% lie within two standard deviation and about 99.7% values lie within three standard deviation.\n",
    "Therefore, if you have any data point that is more than 3 times standard deviation then those points are likely to be considered as outlier\n",
    "\n"
   ]
  },
  {
   "cell_type": "code",
   "execution_count": 44,
   "metadata": {},
   "outputs": [],
   "source": [
    "#Removing outliers with the help of z score\n",
    "\n",
    "def remove_outlier(column):\n",
    "    std=np.std(train[column])\n",
    "    mean=np.mean(train[column])\n",
    "    outlier=[]\n",
    "    for i in train[column]:\n",
    "        zscore=(i-mean)/std\n",
    "        \n",
    "        #Considering z>3 because z>3 sinifies 99.7%values fall in that region\n",
    "        \n",
    "        if(zscore>3):\n",
    "            outlier.append(i)\n",
    "            minimum=np.min(outlier)\n",
    "    return minimum"
   ]
  },
  {
   "cell_type": "code",
   "execution_count": 45,
   "metadata": {},
   "outputs": [
    {
     "name": "stdout",
     "output_type": "stream",
     "text": [
      "23803\n",
      "10968.0\n",
      "400000.0\n"
     ]
    }
   ],
   "source": [
    "print(remove_outlier('ApplicantIncome'))\n",
    "print(remove_outlier('CoapplicantIncome'))\n",
    "print(remove_outlier('LoanAmount'))"
   ]
  },
  {
   "cell_type": "code",
   "execution_count": 46,
   "metadata": {},
   "outputs": [],
   "source": [
    "train['ApplicantIncome']=train['ApplicantIncome'].where(train['ApplicantIncome']<23803,train['ApplicantIncome'].median())\n",
    "train['CoapplicantIncome']=train['CoapplicantIncome'].where(train['CoapplicantIncome']<10968,train['CoapplicantIncome'].median())\n",
    "train['LoanAmount']=train['LoanAmount'].where(train['LoanAmount']<400000,train['LoanAmount'].median())"
   ]
  },
  {
   "cell_type": "code",
   "execution_count": 47,
   "metadata": {},
   "outputs": [
    {
     "data": {
      "text/html": [
       "<div>\n",
       "<style scoped>\n",
       "    .dataframe tbody tr th:only-of-type {\n",
       "        vertical-align: middle;\n",
       "    }\n",
       "\n",
       "    .dataframe tbody tr th {\n",
       "        vertical-align: top;\n",
       "    }\n",
       "\n",
       "    .dataframe thead th {\n",
       "        text-align: right;\n",
       "    }\n",
       "</style>\n",
       "<table border=\"1\" class=\"dataframe\">\n",
       "  <thead>\n",
       "    <tr style=\"text-align: right;\">\n",
       "      <th></th>\n",
       "      <th>ApplicantIncome</th>\n",
       "      <th>CoapplicantIncome</th>\n",
       "      <th>LoanAmount</th>\n",
       "      <th>Loan_Amount_Term</th>\n",
       "      <th>Credit_History</th>\n",
       "      <th>log_appincome</th>\n",
       "      <th>sqrt_coappincome</th>\n",
       "    </tr>\n",
       "  </thead>\n",
       "  <tbody>\n",
       "    <tr>\n",
       "      <td>count</td>\n",
       "      <td>614.000000</td>\n",
       "      <td>614.00000</td>\n",
       "      <td>614.000000</td>\n",
       "      <td>614.000000</td>\n",
       "      <td>614.000000</td>\n",
       "      <td>614.000000</td>\n",
       "      <td>614.000000</td>\n",
       "    </tr>\n",
       "    <tr>\n",
       "      <td>mean</td>\n",
       "      <td>4849.527687</td>\n",
       "      <td>1408.47544</td>\n",
       "      <td>136205.211726</td>\n",
       "      <td>342.410423</td>\n",
       "      <td>0.936482</td>\n",
       "      <td>8.341213</td>\n",
       "      <td>28.006444</td>\n",
       "    </tr>\n",
       "    <tr>\n",
       "      <td>std</td>\n",
       "      <td>3369.960378</td>\n",
       "      <td>1677.16081</td>\n",
       "      <td>58406.129191</td>\n",
       "      <td>64.428629</td>\n",
       "      <td>0.471924</td>\n",
       "      <td>0.645263</td>\n",
       "      <td>28.952550</td>\n",
       "    </tr>\n",
       "    <tr>\n",
       "      <td>min</td>\n",
       "      <td>150.000000</td>\n",
       "      <td>0.00000</td>\n",
       "      <td>9000.000000</td>\n",
       "      <td>12.000000</td>\n",
       "      <td>0.000000</td>\n",
       "      <td>5.010635</td>\n",
       "      <td>0.000000</td>\n",
       "    </tr>\n",
       "    <tr>\n",
       "      <td>25%</td>\n",
       "      <td>2877.500000</td>\n",
       "      <td>0.00000</td>\n",
       "      <td>100250.000000</td>\n",
       "      <td>360.000000</td>\n",
       "      <td>1.000000</td>\n",
       "      <td>7.964677</td>\n",
       "      <td>0.000000</td>\n",
       "    </tr>\n",
       "    <tr>\n",
       "      <td>50%</td>\n",
       "      <td>3812.250000</td>\n",
       "      <td>1177.75000</td>\n",
       "      <td>128000.000000</td>\n",
       "      <td>360.000000</td>\n",
       "      <td>1.000000</td>\n",
       "      <td>8.246040</td>\n",
       "      <td>34.473218</td>\n",
       "    </tr>\n",
       "    <tr>\n",
       "      <td>75%</td>\n",
       "      <td>5690.500000</td>\n",
       "      <td>2250.00000</td>\n",
       "      <td>160000.000000</td>\n",
       "      <td>360.000000</td>\n",
       "      <td>1.000000</td>\n",
       "      <td>8.664750</td>\n",
       "      <td>47.929559</td>\n",
       "    </tr>\n",
       "    <tr>\n",
       "      <td>max</td>\n",
       "      <td>20833.000000</td>\n",
       "      <td>8980.00000</td>\n",
       "      <td>380000.000000</td>\n",
       "      <td>480.000000</td>\n",
       "      <td>2.000000</td>\n",
       "      <td>11.302204</td>\n",
       "      <td>204.124962</td>\n",
       "    </tr>\n",
       "  </tbody>\n",
       "</table>\n",
       "</div>"
      ],
      "text/plain": [
       "       ApplicantIncome  CoapplicantIncome     LoanAmount  Loan_Amount_Term  \\\n",
       "count       614.000000          614.00000     614.000000        614.000000   \n",
       "mean       4849.527687         1408.47544  136205.211726        342.410423   \n",
       "std        3369.960378         1677.16081   58406.129191         64.428629   \n",
       "min         150.000000            0.00000    9000.000000         12.000000   \n",
       "25%        2877.500000            0.00000  100250.000000        360.000000   \n",
       "50%        3812.250000         1177.75000  128000.000000        360.000000   \n",
       "75%        5690.500000         2250.00000  160000.000000        360.000000   \n",
       "max       20833.000000         8980.00000  380000.000000        480.000000   \n",
       "\n",
       "       Credit_History  log_appincome  sqrt_coappincome  \n",
       "count      614.000000     614.000000        614.000000  \n",
       "mean         0.936482       8.341213         28.006444  \n",
       "std          0.471924       0.645263         28.952550  \n",
       "min          0.000000       5.010635          0.000000  \n",
       "25%          1.000000       7.964677          0.000000  \n",
       "50%          1.000000       8.246040         34.473218  \n",
       "75%          1.000000       8.664750         47.929559  \n",
       "max          2.000000      11.302204        204.124962  "
      ]
     },
     "execution_count": 47,
     "metadata": {},
     "output_type": "execute_result"
    }
   ],
   "source": [
    "train.describe()"
   ]
  },
  {
   "cell_type": "markdown",
   "metadata": {},
   "source": [
    "### Feature Engineering"
   ]
  },
  {
   "cell_type": "code",
   "execution_count": 48,
   "metadata": {},
   "outputs": [
    {
     "data": {
      "image/png": "[encoded data removed]",
      "text/plain": [
       "<Figure size 432x288 with 1 Axes>"
      ]
     },
     "metadata": {
      "needs_background": "light"
     },
     "output_type": "display_data"
    }
   ],
   "source": [
    "train['loanamt']=pd.cut(train['LoanAmount'],bins=[8999,100250,160000,380001],labels=['low','avg','high'])\n",
    "a=pd.crosstab(train['loanamt'],train['Loan_Status'])\n",
    "a.div(a.sum(1),axis=0).plot(kind='bar')\n",
    "plt.show()"
   ]
  },
  {
   "cell_type": "markdown",
   "metadata": {},
   "source": [
    "From above graph it can be concluded that if the loan amount is less than chances of loan getting approved is higher"
   ]
  },
  {
   "cell_type": "code",
   "execution_count": 49,
   "metadata": {
    "scrolled": true
   },
   "outputs": [
    {
     "data": {
      "image/png": "[encoded data removed]",
      "text/plain": [
       "<Figure size 432x288 with 1 Axes>"
      ]
     },
     "metadata": {
      "needs_background": "light"
     },
     "output_type": "display_data"
    }
   ],
   "source": [
    "train['Total_Income']=train['ApplicantIncome']+train['CoapplicantIncome']\n",
    "train['Total_Income_bin']=pd.cut(train['Total_Income'],bins=[1441,3997.5,7165,27501],labels=['low','avg','high'])\n",
    "a=pd.crosstab(train['Total_Income_bin'],train['Loan_Status'])\n",
    "a.div(a.sum(1),axis=0).plot(kind='bar')\n",
    "plt.show()"
   ]
  },
  {
   "cell_type": "code",
   "execution_count": 50,
   "metadata": {},
   "outputs": [
    {
     "data": {
      "text/html": [
       "<div>\n",
       "<style scoped>\n",
       "    .dataframe tbody tr th:only-of-type {\n",
       "        vertical-align: middle;\n",
       "    }\n",
       "\n",
       "    .dataframe tbody tr th {\n",
       "        vertical-align: top;\n",
       "    }\n",
       "\n",
       "    .dataframe thead th {\n",
       "        text-align: right;\n",
       "    }\n",
       "</style>\n",
       "<table border=\"1\" class=\"dataframe\">\n",
       "  <thead>\n",
       "    <tr style=\"text-align: right;\">\n",
       "      <th></th>\n",
       "      <th>Loan_ID</th>\n",
       "      <th>Gender</th>\n",
       "      <th>Married</th>\n",
       "      <th>Dependents</th>\n",
       "      <th>Education</th>\n",
       "      <th>Self_Employed</th>\n",
       "      <th>ApplicantIncome</th>\n",
       "      <th>CoapplicantIncome</th>\n",
       "      <th>LoanAmount</th>\n",
       "      <th>Loan_Amount_Term</th>\n",
       "      <th>Credit_History</th>\n",
       "      <th>Property_Area</th>\n",
       "      <th>Loan_Status</th>\n",
       "      <th>log_appincome</th>\n",
       "      <th>sqrt_coappincome</th>\n",
       "      <th>loanamt</th>\n",
       "      <th>Total_Income</th>\n",
       "      <th>Total_Income_bin</th>\n",
       "      <th>score</th>\n",
       "    </tr>\n",
       "  </thead>\n",
       "  <tbody>\n",
       "    <tr>\n",
       "      <td>0</td>\n",
       "      <td>LP001002</td>\n",
       "      <td>Male</td>\n",
       "      <td>No</td>\n",
       "      <td>0</td>\n",
       "      <td>Graduate</td>\n",
       "      <td>No</td>\n",
       "      <td>5849.0</td>\n",
       "      <td>0.0</td>\n",
       "      <td>128000.0</td>\n",
       "      <td>360.0</td>\n",
       "      <td>1.0</td>\n",
       "      <td>Urban</td>\n",
       "      <td>Y</td>\n",
       "      <td>8.674026</td>\n",
       "      <td>0.000000</td>\n",
       "      <td>avg</td>\n",
       "      <td>5849.0</td>\n",
       "      <td>avg</td>\n",
       "      <td>7</td>\n",
       "    </tr>\n",
       "    <tr>\n",
       "      <td>1</td>\n",
       "      <td>LP001003</td>\n",
       "      <td>Male</td>\n",
       "      <td>Yes</td>\n",
       "      <td>1</td>\n",
       "      <td>Graduate</td>\n",
       "      <td>No</td>\n",
       "      <td>4583.0</td>\n",
       "      <td>1508.0</td>\n",
       "      <td>128000.0</td>\n",
       "      <td>360.0</td>\n",
       "      <td>1.0</td>\n",
       "      <td>Rural</td>\n",
       "      <td>N</td>\n",
       "      <td>8.430109</td>\n",
       "      <td>38.832976</td>\n",
       "      <td>avg</td>\n",
       "      <td>6091.0</td>\n",
       "      <td>avg</td>\n",
       "      <td>7</td>\n",
       "    </tr>\n",
       "    <tr>\n",
       "      <td>2</td>\n",
       "      <td>LP001005</td>\n",
       "      <td>Male</td>\n",
       "      <td>Yes</td>\n",
       "      <td>0</td>\n",
       "      <td>Graduate</td>\n",
       "      <td>Yes</td>\n",
       "      <td>3000.0</td>\n",
       "      <td>0.0</td>\n",
       "      <td>66000.0</td>\n",
       "      <td>360.0</td>\n",
       "      <td>1.0</td>\n",
       "      <td>Urban</td>\n",
       "      <td>Y</td>\n",
       "      <td>8.006368</td>\n",
       "      <td>0.000000</td>\n",
       "      <td>low</td>\n",
       "      <td>3000.0</td>\n",
       "      <td>low</td>\n",
       "      <td>3</td>\n",
       "    </tr>\n",
       "    <tr>\n",
       "      <td>3</td>\n",
       "      <td>LP001006</td>\n",
       "      <td>Male</td>\n",
       "      <td>Yes</td>\n",
       "      <td>0</td>\n",
       "      <td>Not Graduate</td>\n",
       "      <td>No</td>\n",
       "      <td>2583.0</td>\n",
       "      <td>2358.0</td>\n",
       "      <td>120000.0</td>\n",
       "      <td>360.0</td>\n",
       "      <td>1.0</td>\n",
       "      <td>Urban</td>\n",
       "      <td>Y</td>\n",
       "      <td>7.856707</td>\n",
       "      <td>48.559242</td>\n",
       "      <td>avg</td>\n",
       "      <td>4941.0</td>\n",
       "      <td>avg</td>\n",
       "      <td>7</td>\n",
       "    </tr>\n",
       "    <tr>\n",
       "      <td>4</td>\n",
       "      <td>LP001008</td>\n",
       "      <td>Male</td>\n",
       "      <td>No</td>\n",
       "      <td>0</td>\n",
       "      <td>Graduate</td>\n",
       "      <td>No</td>\n",
       "      <td>6000.0</td>\n",
       "      <td>0.0</td>\n",
       "      <td>141000.0</td>\n",
       "      <td>360.0</td>\n",
       "      <td>1.0</td>\n",
       "      <td>Urban</td>\n",
       "      <td>Y</td>\n",
       "      <td>8.699515</td>\n",
       "      <td>0.000000</td>\n",
       "      <td>avg</td>\n",
       "      <td>6000.0</td>\n",
       "      <td>avg</td>\n",
       "      <td>7</td>\n",
       "    </tr>\n",
       "  </tbody>\n",
       "</table>\n",
       "</div>"
      ],
      "text/plain": [
       "    Loan_ID Gender Married Dependents     Education Self_Employed  \\\n",
       "0  LP001002   Male      No          0      Graduate            No   \n",
       "1  LP001003   Male     Yes          1      Graduate            No   \n",
       "2  LP001005   Male     Yes          0      Graduate           Yes   \n",
       "3  LP001006   Male     Yes          0  Not Graduate            No   \n",
       "4  LP001008   Male      No          0      Graduate            No   \n",
       "\n",
       "   ApplicantIncome  CoapplicantIncome  LoanAmount  Loan_Amount_Term  \\\n",
       "0           5849.0                0.0    128000.0             360.0   \n",
       "1           4583.0             1508.0    128000.0             360.0   \n",
       "2           3000.0                0.0     66000.0             360.0   \n",
       "3           2583.0             2358.0    120000.0             360.0   \n",
       "4           6000.0                0.0    141000.0             360.0   \n",
       "\n",
       "   Credit_History Property_Area Loan_Status  log_appincome  sqrt_coappincome  \\\n",
       "0             1.0         Urban           Y       8.674026          0.000000   \n",
       "1             1.0         Rural           N       8.430109         38.832976   \n",
       "2             1.0         Urban           Y       8.006368          0.000000   \n",
       "3             1.0         Urban           Y       7.856707         48.559242   \n",
       "4             1.0         Urban           Y       8.699515          0.000000   \n",
       "\n",
       "  loanamt  Total_Income Total_Income_bin  score  \n",
       "0     avg        5849.0              avg      7  \n",
       "1     avg        6091.0              avg      7  \n",
       "2     low        3000.0              low      3  \n",
       "3     avg        4941.0              avg      7  \n",
       "4     avg        6000.0              avg      7  "
      ]
     },
     "execution_count": 50,
     "metadata": {},
     "output_type": "execute_result"
    }
   ],
   "source": [
    "def set_scr(train):\n",
    "    if train[\"Total_Income_bin\"] == \"low\" and train[\"loanamt\"] == \"high\":\n",
    "        return 1\n",
    "    elif train[\"Total_Income_bin\"] == \"avg\" and train[\"loanamt\"] == \"high\":\n",
    "        return 2\n",
    "    elif train[\"Total_Income_bin\"] == \"low\" and train[\"loanamt\"] == \"avg\":\n",
    "        return 4\n",
    "    elif train[\"Total_Income_bin\"] == \"high\" and train[\"loanamt\"] == \"high\":\n",
    "        return 8\n",
    "    elif train[\"Total_Income_bin\"] == \"avg\" and train[\"loanamt\"] == \"avg\":\n",
    "        return 7\n",
    "    elif train[\"Total_Income_bin\"] == \"low\" and train[\"loanamt\"] == \"low\":\n",
    "        return 3\n",
    "    elif train[\"Total_Income_bin\"] == \"high\" and train[\"loanamt\"] == \"avg\":\n",
    "        return 6\n",
    "    elif train[\"Total_Income_bin\"] == \"avg\" and train[\"loanamt\"] == \"low\":\n",
    "        return 5\n",
    "    else :\n",
    "        return 9\n",
    "train['score']=train.apply(set_scr,axis=1)\n",
    "train.head()"
   ]
  },
  {
   "cell_type": "markdown",
   "metadata": {},
   "source": [
    "Previously we had given the score from 1 to 9 following the general trend bu when we studied the behaviour of our bank we came to know that our bank follows diff trend to give loan so we manipulated the credit score"
   ]
  },
  {
   "cell_type": "code",
   "execution_count": 51,
   "metadata": {},
   "outputs": [
    {
     "data": {
      "image/png": "[encoded data removed]",
      "text/plain": [
       "<Figure size 432x288 with 1 Axes>"
      ]
     },
     "metadata": {
      "needs_background": "light"
     },
     "output_type": "display_data"
    }
   ],
   "source": [
    "a=pd.crosstab(train['score'],train['Loan_Status'])\n",
    "a.div(a.sum(1),axis=0).plot(kind='bar',stacked=True)\n",
    "plt.show()"
   ]
  },
  {
   "cell_type": "code",
   "execution_count": 52,
   "metadata": {},
   "outputs": [
    {
     "data": {
      "text/plain": [
       "<seaborn.axisgrid.FacetGrid at 0x22ee5e33988>"
      ]
     },
     "execution_count": 52,
     "metadata": {},
     "output_type": "execute_result"
    },
    {
     "data": {
      "image/png": "[encoded data removed]",
      "text/plain": [
       "<Figure size 360x360 with 1 Axes>"
      ]
     },
     "metadata": {
      "needs_background": "light"
     },
     "output_type": "display_data"
    }
   ],
   "source": [
    "sns.lmplot('ApplicantIncome','LoanAmount',data=train)"
   ]
  },
  {
   "cell_type": "markdown",
   "metadata": {},
   "source": [
    "Above graph shows the positive correlation between loanamount and applicantincome.\n",
    "\n",
    "As ApplicantIncome increases loanamount also increases"
   ]
  },
  {
   "cell_type": "code",
   "execution_count": 53,
   "metadata": {},
   "outputs": [
    {
     "data": {
      "text/plain": [
       "<seaborn.axisgrid.FacetGrid at 0x22ee5ec8748>"
      ]
     },
     "execution_count": 53,
     "metadata": {},
     "output_type": "execute_result"
    },
    {
     "data": {
      "image/png": "[encoded data removed]",
      "text/plain": [
       "<Figure size 463.375x360 with 1 Axes>"
      ]
     },
     "metadata": {
      "needs_background": "light"
     },
     "output_type": "display_data"
    }
   ],
   "source": [
    "sns.lmplot('Total_Income','LoanAmount',data=train,hue='Education')"
   ]
  },
  {
   "cell_type": "code",
   "execution_count": 54,
   "metadata": {},
   "outputs": [],
   "source": [
    "#I've calculated EMI that every person will pa eah and every month\n",
    "train['EMI']=(train['LoanAmount']*(7.85/1200)*((1+(7.85/1200))**train['Loan_Amount_Term']))/((1+(7.85/1200))**(train['Loan_Amount_Term']-1))\n",
    "#Now we will calculate Risk factor\n",
    "train['Risk_Percent']=(train['EMI']/train['ApplicantIncome'])\n"
   ]
  },
  {
   "cell_type": "code",
   "execution_count": 55,
   "metadata": {},
   "outputs": [
    {
     "data": {
      "text/plain": [
       "<matplotlib.axes._subplots.AxesSubplot at 0x22ee5ecd748>"
      ]
     },
     "execution_count": 55,
     "metadata": {},
     "output_type": "execute_result"
    },
    {
     "data": {
      "image/png": "[encoded data removed]",
      "text/plain": [
       "<Figure size 432x288 with 1 Axes>"
      ]
     },
     "metadata": {
      "needs_background": "light"
     },
     "output_type": "display_data"
    }
   ],
   "source": [
    "sns.barplot('Loan_Status','Risk_Percent',data=train)"
   ]
  },
  {
   "cell_type": "markdown",
   "metadata": {},
   "source": [
    "Above graph clearly signifies that there is high risk percent for loan status of no.\n",
    "\n",
    "So if there is high risk percent chances of loan approval is low"
   ]
  },
  {
   "cell_type": "code",
   "execution_count": 56,
   "metadata": {},
   "outputs": [],
   "source": [
    "train['Risk_Percent_bin']=pd.cut(train['Risk_Percent'],bins=[0.019859,0.153936,0.204763,0.281542,5.926015],labels=[0,1,2,3])"
   ]
  },
  {
   "cell_type": "markdown",
   "metadata": {},
   "source": [
    "0 - Very low risk\n",
    "\n",
    "1 - Low risk\n",
    "\n",
    "2 - High risk\n",
    "\n",
    "3 - Very high risk"
   ]
  },
  {
   "cell_type": "code",
   "execution_count": 57,
   "metadata": {},
   "outputs": [
    {
     "data": {
      "image/png": "[encoded data removed]",
      "text/plain": [
       "<Figure size 432x288 with 1 Axes>"
      ]
     },
     "metadata": {
      "needs_background": "light"
     },
     "output_type": "display_data"
    }
   ],
   "source": [
    "a=pd.crosstab(train['Risk_Percent_bin'],train['Loan_Status'])\n",
    "a.plot(kind='bar')\n",
    "plt.show()"
   ]
  },
  {
   "cell_type": "markdown",
   "metadata": {},
   "source": [
    "Creating risk percent bin didnt justify our main aim as for high risk there are more chances for approvd loans"
   ]
  },
  {
   "cell_type": "markdown",
   "metadata": {},
   "source": [
    "We have tried to make new columns which shows no of coapplicant based on coapplicant income"
   ]
  },
  {
   "cell_type": "code",
   "execution_count": 58,
   "metadata": {},
   "outputs": [],
   "source": [
    "def num(train):\n",
    "    if train['CoapplicantIncome']==0:\n",
    "        return 0\n",
    "    elif train['CoapplicantIncome']>=0 and train['CoapplicantIncome']<=2250:\n",
    "        return 1\n",
    "    elif train['CoapplicantIncome']>2250 and train['CoapplicantIncome']<=9000:\n",
    "        return 2\n",
    "train['coapplicant']=train.apply(num,axis=1)"
   ]
  },
  {
   "cell_type": "code",
   "execution_count": 59,
   "metadata": {},
   "outputs": [
    {
     "data": {
      "image/png": "[encoded data removed]",
      "text/plain": [
       "<Figure size 432x288 with 1 Axes>"
      ]
     },
     "metadata": {
      "needs_background": "light"
     },
     "output_type": "display_data"
    }
   ],
   "source": [
    "a=pd.crosstab(train['coapplicant'],train['Loan_Status'])\n",
    "a.plot(kind='bar')\n",
    "plt.show()"
   ]
  },
  {
   "cell_type": "code",
   "execution_count": 60,
   "metadata": {},
   "outputs": [
    {
     "data": {
      "text/html": [
       "<div>\n",
       "<style scoped>\n",
       "    .dataframe tbody tr th:only-of-type {\n",
       "        vertical-align: middle;\n",
       "    }\n",
       "\n",
       "    .dataframe tbody tr th {\n",
       "        vertical-align: top;\n",
       "    }\n",
       "\n",
       "    .dataframe thead th {\n",
       "        text-align: right;\n",
       "    }\n",
       "</style>\n",
       "<table border=\"1\" class=\"dataframe\">\n",
       "  <thead>\n",
       "    <tr style=\"text-align: right;\">\n",
       "      <th>Loan_Status</th>\n",
       "      <th>N</th>\n",
       "      <th>Y</th>\n",
       "    </tr>\n",
       "    <tr>\n",
       "      <th>coapplicant</th>\n",
       "      <th></th>\n",
       "      <th></th>\n",
       "    </tr>\n",
       "  </thead>\n",
       "  <tbody>\n",
       "    <tr>\n",
       "      <td>0</td>\n",
       "      <td>96</td>\n",
       "      <td>177</td>\n",
       "    </tr>\n",
       "    <tr>\n",
       "      <td>1</td>\n",
       "      <td>52</td>\n",
       "      <td>137</td>\n",
       "    </tr>\n",
       "    <tr>\n",
       "      <td>2</td>\n",
       "      <td>44</td>\n",
       "      <td>108</td>\n",
       "    </tr>\n",
       "  </tbody>\n",
       "</table>\n",
       "</div>"
      ],
      "text/plain": [
       "Loan_Status   N    Y\n",
       "coapplicant         \n",
       "0            96  177\n",
       "1            52  137\n",
       "2            44  108"
      ]
     },
     "execution_count": 60,
     "metadata": {},
     "output_type": "execute_result"
    }
   ],
   "source": [
    "a"
   ]
  },
  {
   "cell_type": "markdown",
   "metadata": {},
   "source": [
    "So if there are more no of coapplicant there is low chance that your loan will get rejected but that proportion of higher approved loans is not that significant for coapplicant 1 and 2"
   ]
  },
  {
   "cell_type": "code",
   "execution_count": 61,
   "metadata": {},
   "outputs": [
    {
     "data": {
      "image/png": "[encoded data removed]",
      "text/plain": [
       "<Figure size 432x288 with 1 Axes>"
      ]
     },
     "metadata": {
      "needs_background": "light"
     },
     "output_type": "display_data"
    }
   ],
   "source": [
    "plt.hist(train['Total_Income'],bins=8)\n",
    "plt.xlabel('Total Income')\n",
    "plt.show()"
   ]
  },
  {
   "cell_type": "code",
   "execution_count": 62,
   "metadata": {},
   "outputs": [
    {
     "data": {
      "image/png": "[encoded data removed]",
      "text/plain": [
       "<Figure size 432x288 with 1 Axes>"
      ]
     },
     "metadata": {
      "needs_background": "light"
     },
     "output_type": "display_data"
    }
   ],
   "source": [
    "plt.hist(train['EMI'],bins=8)\n",
    "plt.xlabel('EMI')\n",
    "plt.show()"
   ]
  },
  {
   "cell_type": "code",
   "execution_count": 63,
   "metadata": {},
   "outputs": [],
   "source": [
    "# So we also need to remove skewness from Total Income\n",
    "train['log_total_income']=np.log(train['Total_Income'])"
   ]
  },
  {
   "cell_type": "code",
   "execution_count": 64,
   "metadata": {},
   "outputs": [],
   "source": [
    "# As there are 650 zero's in coapplicantincome and we have craeted a new column total income so we can drop coapplicant income\n",
    "train=train.drop(['CoapplicantIncome'],axis=1)"
   ]
  },
  {
   "cell_type": "markdown",
   "metadata": {},
   "source": [
    "### Label Encoding"
   ]
  },
  {
   "cell_type": "code",
   "execution_count": 65,
   "metadata": {},
   "outputs": [
    {
     "name": "stdout",
     "output_type": "stream",
     "text": [
      "<class 'pandas.core.frame.DataFrame'>\n",
      "RangeIndex: 614 entries, 0 to 613\n",
      "Data columns (total 23 columns):\n",
      "Loan_ID             614 non-null object\n",
      "Gender              614 non-null object\n",
      "Married             614 non-null object\n",
      "Dependents          614 non-null object\n",
      "Education           614 non-null object\n",
      "Self_Employed       614 non-null object\n",
      "ApplicantIncome     614 non-null float64\n",
      "LoanAmount          614 non-null float64\n",
      "Loan_Amount_Term    614 non-null float64\n",
      "Credit_History      614 non-null float64\n",
      "Property_Area       614 non-null object\n",
      "Loan_Status         614 non-null object\n",
      "log_appincome       614 non-null float64\n",
      "sqrt_coappincome    614 non-null float64\n",
      "loanamt             614 non-null category\n",
      "Total_Income        614 non-null float64\n",
      "Total_Income_bin    614 non-null category\n",
      "score               614 non-null int64\n",
      "EMI                 614 non-null float64\n",
      "Risk_Percent        614 non-null float64\n",
      "Risk_Percent_bin    614 non-null category\n",
      "coapplicant         614 non-null int64\n",
      "log_total_income    614 non-null float64\n",
      "dtypes: category(3), float64(10), int64(2), object(8)\n",
      "memory usage: 98.3+ KB\n"
     ]
    }
   ],
   "source": [
    "train.info()"
   ]
  },
  {
   "cell_type": "code",
   "execution_count": 66,
   "metadata": {},
   "outputs": [],
   "source": [
    "from sklearn.preprocessing import LabelEncoder\n",
    "le=LabelEncoder()\n",
    "train['Gender']=le.fit_transform(train['Gender'])\n",
    "train['Married']=le.fit_transform(train['Married'])\n",
    "\n",
    "train['Self_Employed']=le.fit_transform(train['Self_Employed'])\n",
    "train['Loan_Status']=le.fit_transform(train['Loan_Status'])\n",
    "train['loanamt']=train['loanamt'].astype('object')\n",
    "train['Total_Income_bin']=train['Total_Income_bin'].astype('object')\n",
    "dict={'low':1,'avg':2,'high':3}\n",
    "dict1={'low':1,'avg':2,'high':3}\n",
    "dict2={'Graduate':1,'Not Graduate':0}\n",
    "dict3={\"Rural\":0,'Urban':2,'Semiurban':1}\n",
    "dict4={12:2,36:3,60:4,84:5,120:6,180:7,240:8,300:9,350:10,360:11,480:12}\n",
    "train['Loan_Amount_Term']=train['Loan_Amount_Term'].map(dict4)\n",
    "train['loanamt']=train['loanamt'].map(dict)\n",
    "train['Education']=train['Education'].map(dict2)\n",
    "train['Total_Income_bin']=train['Total_Income_bin'].map(dict1)\n",
    "train['Property_Area']=train['Property_Area'].map(dict3)"
   ]
  },
  {
   "cell_type": "code",
   "execution_count": 67,
   "metadata": {},
   "outputs": [
    {
     "data": {
      "text/html": [
       "<div>\n",
       "<style scoped>\n",
       "    .dataframe tbody tr th:only-of-type {\n",
       "        vertical-align: middle;\n",
       "    }\n",
       "\n",
       "    .dataframe tbody tr th {\n",
       "        vertical-align: top;\n",
       "    }\n",
       "\n",
       "    .dataframe thead th {\n",
       "        text-align: right;\n",
       "    }\n",
       "</style>\n",
       "<table border=\"1\" class=\"dataframe\">\n",
       "  <thead>\n",
       "    <tr style=\"text-align: right;\">\n",
       "      <th></th>\n",
       "      <th>Loan_ID</th>\n",
       "      <th>Gender</th>\n",
       "      <th>Married</th>\n",
       "      <th>Dependents</th>\n",
       "      <th>Education</th>\n",
       "      <th>Self_Employed</th>\n",
       "      <th>ApplicantIncome</th>\n",
       "      <th>LoanAmount</th>\n",
       "      <th>Loan_Amount_Term</th>\n",
       "      <th>Credit_History</th>\n",
       "      <th>Property_Area</th>\n",
       "      <th>Loan_Status</th>\n",
       "      <th>log_appincome</th>\n",
       "      <th>sqrt_coappincome</th>\n",
       "      <th>loanamt</th>\n",
       "      <th>Total_Income</th>\n",
       "      <th>Total_Income_bin</th>\n",
       "      <th>score</th>\n",
       "      <th>EMI</th>\n",
       "      <th>Risk_Percent</th>\n",
       "      <th>Risk_Percent_bin</th>\n",
       "      <th>coapplicant</th>\n",
       "      <th>log_total_income</th>\n",
       "    </tr>\n",
       "  </thead>\n",
       "  <tbody>\n",
       "    <tr>\n",
       "      <td>0</td>\n",
       "      <td>LP001002</td>\n",
       "      <td>1</td>\n",
       "      <td>0</td>\n",
       "      <td>0</td>\n",
       "      <td>1</td>\n",
       "      <td>0</td>\n",
       "      <td>5849.0</td>\n",
       "      <td>128000.0</td>\n",
       "      <td>11</td>\n",
       "      <td>1.0</td>\n",
       "      <td>2</td>\n",
       "      <td>1</td>\n",
       "      <td>8.674026</td>\n",
       "      <td>0.000000</td>\n",
       "      <td>2</td>\n",
       "      <td>5849.0</td>\n",
       "      <td>2</td>\n",
       "      <td>7</td>\n",
       "      <td>842.810889</td>\n",
       "      <td>0.144095</td>\n",
       "      <td>0</td>\n",
       "      <td>0</td>\n",
       "      <td>8.674026</td>\n",
       "    </tr>\n",
       "    <tr>\n",
       "      <td>1</td>\n",
       "      <td>LP001003</td>\n",
       "      <td>1</td>\n",
       "      <td>1</td>\n",
       "      <td>1</td>\n",
       "      <td>1</td>\n",
       "      <td>0</td>\n",
       "      <td>4583.0</td>\n",
       "      <td>128000.0</td>\n",
       "      <td>11</td>\n",
       "      <td>1.0</td>\n",
       "      <td>0</td>\n",
       "      <td>0</td>\n",
       "      <td>8.430109</td>\n",
       "      <td>38.832976</td>\n",
       "      <td>2</td>\n",
       "      <td>6091.0</td>\n",
       "      <td>2</td>\n",
       "      <td>7</td>\n",
       "      <td>842.810889</td>\n",
       "      <td>0.183899</td>\n",
       "      <td>1</td>\n",
       "      <td>1</td>\n",
       "      <td>8.714568</td>\n",
       "    </tr>\n",
       "    <tr>\n",
       "      <td>2</td>\n",
       "      <td>LP001005</td>\n",
       "      <td>1</td>\n",
       "      <td>1</td>\n",
       "      <td>0</td>\n",
       "      <td>1</td>\n",
       "      <td>1</td>\n",
       "      <td>3000.0</td>\n",
       "      <td>66000.0</td>\n",
       "      <td>11</td>\n",
       "      <td>1.0</td>\n",
       "      <td>2</td>\n",
       "      <td>1</td>\n",
       "      <td>8.006368</td>\n",
       "      <td>0.000000</td>\n",
       "      <td>1</td>\n",
       "      <td>3000.0</td>\n",
       "      <td>1</td>\n",
       "      <td>3</td>\n",
       "      <td>434.574365</td>\n",
       "      <td>0.144858</td>\n",
       "      <td>0</td>\n",
       "      <td>0</td>\n",
       "      <td>8.006368</td>\n",
       "    </tr>\n",
       "    <tr>\n",
       "      <td>3</td>\n",
       "      <td>LP001006</td>\n",
       "      <td>1</td>\n",
       "      <td>1</td>\n",
       "      <td>0</td>\n",
       "      <td>0</td>\n",
       "      <td>0</td>\n",
       "      <td>2583.0</td>\n",
       "      <td>120000.0</td>\n",
       "      <td>11</td>\n",
       "      <td>1.0</td>\n",
       "      <td>2</td>\n",
       "      <td>1</td>\n",
       "      <td>7.856707</td>\n",
       "      <td>48.559242</td>\n",
       "      <td>2</td>\n",
       "      <td>4941.0</td>\n",
       "      <td>2</td>\n",
       "      <td>7</td>\n",
       "      <td>790.135208</td>\n",
       "      <td>0.305898</td>\n",
       "      <td>3</td>\n",
       "      <td>2</td>\n",
       "      <td>8.505323</td>\n",
       "    </tr>\n",
       "    <tr>\n",
       "      <td>4</td>\n",
       "      <td>LP001008</td>\n",
       "      <td>1</td>\n",
       "      <td>0</td>\n",
       "      <td>0</td>\n",
       "      <td>1</td>\n",
       "      <td>0</td>\n",
       "      <td>6000.0</td>\n",
       "      <td>141000.0</td>\n",
       "      <td>11</td>\n",
       "      <td>1.0</td>\n",
       "      <td>2</td>\n",
       "      <td>1</td>\n",
       "      <td>8.699515</td>\n",
       "      <td>0.000000</td>\n",
       "      <td>2</td>\n",
       "      <td>6000.0</td>\n",
       "      <td>2</td>\n",
       "      <td>7</td>\n",
       "      <td>928.408870</td>\n",
       "      <td>0.154735</td>\n",
       "      <td>1</td>\n",
       "      <td>0</td>\n",
       "      <td>8.699515</td>\n",
       "    </tr>\n",
       "  </tbody>\n",
       "</table>\n",
       "</div>"
      ],
      "text/plain": [
       "    Loan_ID  Gender  Married Dependents  Education  Self_Employed  \\\n",
       "0  LP001002       1        0          0          1              0   \n",
       "1  LP001003       1        1          1          1              0   \n",
       "2  LP001005       1        1          0          1              1   \n",
       "3  LP001006       1        1          0          0              0   \n",
       "4  LP001008       1        0          0          1              0   \n",
       "\n",
       "   ApplicantIncome  LoanAmount  Loan_Amount_Term  Credit_History  \\\n",
       "0           5849.0    128000.0                11             1.0   \n",
       "1           4583.0    128000.0                11             1.0   \n",
       "2           3000.0     66000.0                11             1.0   \n",
       "3           2583.0    120000.0                11             1.0   \n",
       "4           6000.0    141000.0                11             1.0   \n",
       "\n",
       "   Property_Area  Loan_Status  log_appincome  sqrt_coappincome  loanamt  \\\n",
       "0              2            1       8.674026          0.000000        2   \n",
       "1              0            0       8.430109         38.832976        2   \n",
       "2              2            1       8.006368          0.000000        1   \n",
       "3              2            1       7.856707         48.559242        2   \n",
       "4              2            1       8.699515          0.000000        2   \n",
       "\n",
       "   Total_Income  Total_Income_bin  score         EMI  Risk_Percent  \\\n",
       "0        5849.0                 2      7  842.810889      0.144095   \n",
       "1        6091.0                 2      7  842.810889      0.183899   \n",
       "2        3000.0                 1      3  434.574365      0.144858   \n",
       "3        4941.0                 2      7  790.135208      0.305898   \n",
       "4        6000.0                 2      7  928.408870      0.154735   \n",
       "\n",
       "  Risk_Percent_bin  coapplicant  log_total_income  \n",
       "0                0            0          8.674026  \n",
       "1                1            1          8.714568  \n",
       "2                0            0          8.006368  \n",
       "3                3            2          8.505323  \n",
       "4                1            0          8.699515  "
      ]
     },
     "execution_count": 67,
     "metadata": {},
     "output_type": "execute_result"
    }
   ],
   "source": [
    "pd.set_option('display.max_columns',None)\n",
    "train.head()"
   ]
  },
  {
   "cell_type": "markdown",
   "metadata": {},
   "source": [
    "# Feature Selection"
   ]
  },
  {
   "cell_type": "code",
   "execution_count": 68,
   "metadata": {},
   "outputs": [
    {
     "data": {
      "text/plain": [
       "Index(['Loan_ID', 'Gender', 'Married', 'Dependents', 'Education',\n",
       "       'Self_Employed', 'ApplicantIncome', 'LoanAmount', 'Loan_Amount_Term',\n",
       "       'Credit_History', 'Property_Area', 'Loan_Status', 'log_appincome',\n",
       "       'sqrt_coappincome', 'loanamt', 'Total_Income', 'Total_Income_bin',\n",
       "       'score', 'EMI', 'Risk_Percent', 'Risk_Percent_bin', 'coapplicant',\n",
       "       'log_total_income'],\n",
       "      dtype='object')"
      ]
     },
     "execution_count": 68,
     "metadata": {},
     "output_type": "execute_result"
    }
   ],
   "source": [
    "train.columns"
   ]
  },
  {
   "cell_type": "code",
   "execution_count": 69,
   "metadata": {},
   "outputs": [],
   "source": [
    "X=train[['Gender', 'Married', 'Dependents', 'Education',\n",
    "       'Self_Employed', 'ApplicantIncome', 'LoanAmount',\n",
    "       'Loan_Amount_Term', 'Credit_History', 'Property_Area',\n",
    "       'log_appincome', 'sqrt_coappincome', 'loanamt',\n",
    "       'Total_Income', 'Total_Income_bin', 'score', 'EMI', 'Risk_Percent','Risk_Percent_bin','log_total_income','coapplicant']]\n",
    "y=train[['Loan_Status']]\n",
    "X1=train[['loanamt','Total_Income_bin','score','Gender','Married','Dependents','Education','Self_Employed','Property_Area','coapplicant']]"
   ]
  },
  {
   "cell_type": "markdown",
   "metadata": {},
   "source": [
    "### Performing train test split\n"
   ]
  },
  {
   "cell_type": "markdown",
   "metadata": {},
   "source": [
    "Using train test split to create training set and validation set"
   ]
  },
  {
   "cell_type": "code",
   "execution_count": 70,
   "metadata": {},
   "outputs": [],
   "source": [
    "from sklearn.model_selection import train_test_split\n",
    "X_train,X_test,y_train,y_test=train_test_split(X,y,random_state=31,test_size=0.2)"
   ]
  },
  {
   "cell_type": "markdown",
   "metadata": {},
   "source": [
    "### Standard scaling on training and testing data"
   ]
  },
  {
   "cell_type": "markdown",
   "metadata": {},
   "source": [
    "Standardisation is a scaling technique where the values are centred around mean with a unit standard deviation and mean of attributed becomes zero.\n",
    "\n",
    "Normalisation is good to use when we do not have gaussian distribution but generally normalization is used for models like knn and neural network.In general we use standadisation since it is not affected by outliers and it works better compared to normalisation.At the end of the day we use scaling technique which works better.\n",
    "\n",
    "It is good practice to fit scaler on training data and then use it to transform testing data to avoid data leakage"
   ]
  },
  {
   "cell_type": "code",
   "execution_count": 71,
   "metadata": {},
   "outputs": [
    {
     "name": "stderr",
     "output_type": "stream",
     "text": [
      "C:\\Users\\User-1\\Anaconda3\\lib\\site-packages\\ipykernel_launcher.py:3: SettingWithCopyWarning: \n",
      "A value is trying to be set on a copy of a slice from a DataFrame.\n",
      "Try using .loc[row_indexer,col_indexer] = value instead\n",
      "\n",
      "See the caveats in the documentation: http://pandas.pydata.org/pandas-docs/stable/user_guide/indexing.html#returning-a-view-versus-a-copy\n",
      "  This is separate from the ipykernel package so we can avoid doing imports until\n",
      "C:\\Users\\User-1\\Anaconda3\\lib\\site-packages\\pandas\\core\\indexing.py:494: SettingWithCopyWarning: \n",
      "A value is trying to be set on a copy of a slice from a DataFrame.\n",
      "Try using .loc[row_indexer,col_indexer] = value instead\n",
      "\n",
      "See the caveats in the documentation: http://pandas.pydata.org/pandas-docs/stable/user_guide/indexing.html#returning-a-view-versus-a-copy\n",
      "  self.obj[item] = s\n",
      "C:\\Users\\User-1\\Anaconda3\\lib\\site-packages\\ipykernel_launcher.py:4: SettingWithCopyWarning: \n",
      "A value is trying to be set on a copy of a slice from a DataFrame.\n",
      "Try using .loc[row_indexer,col_indexer] = value instead\n",
      "\n",
      "See the caveats in the documentation: http://pandas.pydata.org/pandas-docs/stable/user_guide/indexing.html#returning-a-view-versus-a-copy\n",
      "  after removing the cwd from sys.path.\n",
      "C:\\Users\\User-1\\Anaconda3\\lib\\site-packages\\pandas\\core\\indexing.py:494: SettingWithCopyWarning: \n",
      "A value is trying to be set on a copy of a slice from a DataFrame.\n",
      "Try using .loc[row_indexer,col_indexer] = value instead\n",
      "\n",
      "See the caveats in the documentation: http://pandas.pydata.org/pandas-docs/stable/user_guide/indexing.html#returning-a-view-versus-a-copy\n",
      "  self.obj[item] = s\n"
     ]
    }
   ],
   "source": [
    "from sklearn.preprocessing import StandardScaler\n",
    "scaler=StandardScaler()\n",
    "X_train[['ApplicantIncome','LoanAmount','Total_Income','EMI','log_appincome','Risk_Percent','sqrt_coappincome','log_total_income']]=scaler.fit_transform(X_train[['ApplicantIncome','LoanAmount','Total_Income','EMI','log_appincome','Risk_Percent','sqrt_coappincome','log_total_income']])\n",
    "X_test[['ApplicantIncome','LoanAmount','Total_Income','EMI','log_appincome','Risk_Percent','sqrt_coappincome','log_total_income']]=scaler.transform(X_test[['ApplicantIncome','LoanAmount','Total_Income','EMI','log_appincome','Risk_Percent','sqrt_coappincome','log_total_income']])"
   ]
  },
  {
   "cell_type": "markdown",
   "metadata": {},
   "source": [
    "## Univariate Feature Selection Methods"
   ]
  },
  {
   "cell_type": "code",
   "execution_count": 72,
   "metadata": {},
   "outputs": [],
   "source": [
    "from sklearn import metrics\n",
    "from sklearn.neighbors import KNeighborsClassifier\n",
    "knn=KNeighborsClassifier(n_neighbors=30)\n",
    "from sklearn.linear_model import LogisticRegression\n",
    "logreg=LogisticRegression(random_state=31)\n",
    "from sklearn.ensemble import RandomForestClassifier\n",
    "log=RandomForestClassifier(random_state=31)\n",
    "from sklearn.tree import DecisionTreeClassifier\n",
    "dtc=DecisionTreeClassifier(random_state=31)\n",
    "from sklearn.ensemble import GradientBoostingClassifier\n",
    "gbc=GradientBoostingClassifier(random_state=31)\n",
    "from sklearn.ensemble import AdaBoostClassifier\n",
    "abc=AdaBoostClassifier(random_state=31)\n",
    "from sklearn.ensemble import BaggingClassifier\n",
    "bc=BaggingClassifier(AdaBoostClassifier(random_state=31))\n",
    "from mlxtend.classifier import StackingClassifier\n",
    "scc=StackingClassifier(classifiers=[gbc],meta_classifier=abc)\n",
    "from sklearn.svm import SVC\n",
    "svc=SVC(random_state=31)\n",
    "from sklearn.naive_bayes  import GaussianNB\n",
    "gb=GaussianNB()"
   ]
  },
  {
   "cell_type": "markdown",
   "metadata": {},
   "source": [
    "## Filter Methods"
   ]
  },
  {
   "cell_type": "markdown",
   "metadata": {},
   "source": [
    "Pearson’s Correlation: It is used as a measure for quantifying linear dependence between two continuous variables X and Y. Its value varies from -1 to +1. Pearson’s correlation is given as:\n",
    "fs2\n",
    "\n",
    "LDA: Linear discriminant analysis is used to find a linear combination of features that characterizes or separates two or more classes (or levels) of a categorical variable.\n",
    "\n",
    "ANOVA: ANOVA stands for Analysis of variance. It is similar to LDA except for the fact that it is operated using one or more categorical independent features and one continuous dependent feature. It provides a statistical test of whether the means of several groups are equal or not.\n",
    "\n",
    "Chi-Square: It is a is a statistical test applied to the groups of categorical features to evaluate the likelihood of correlation or association between them using their frequency distribution.\n",
    "\n",
    "One thing that should be kept in mind is that filter methods do not remove multicollinearity. So, you must deal with multicollinearity of features as well before training models for your data."
   ]
  },
  {
   "cell_type": "markdown",
   "metadata": {},
   "source": [
    "### Anova Test"
   ]
  },
  {
   "cell_type": "code",
   "execution_count": 73,
   "metadata": {},
   "outputs": [
    {
     "name": "stderr",
     "output_type": "stream",
     "text": [
      "C:\\Users\\User-1\\Anaconda3\\lib\\site-packages\\sklearn\\utils\\validation.py:73: DataConversionWarning: A column-vector y was passed when a 1d array was expected. Please change the shape of y to (n_samples, ), for example using ravel().\n",
      "  return f(**kwargs)\n"
     ]
    },
    {
     "data": {
      "text/plain": [
       "Married           2.607922e-02\n",
       "LoanAmount        1.419503e-02\n",
       "Credit_History    4.763212e-21\n",
       "EMI               1.419503e-02\n",
       "dtype: float64"
      ]
     },
     "execution_count": 73,
     "metadata": {},
     "output_type": "execute_result"
    }
   ],
   "source": [
    "from sklearn.feature_selection import chi2,f_classif\n",
    "sel=f_classif(X_train,y_train)\n",
    "p=pd.Series(sel[1])\n",
    "p.index=X_train.columns\n",
    "p=p[p<0.05]\n",
    "p"
   ]
  },
  {
   "cell_type": "markdown",
   "metadata": {},
   "source": [
    "### Chi Square Test"
   ]
  },
  {
   "cell_type": "code",
   "execution_count": 74,
   "metadata": {},
   "outputs": [
    {
     "data": {
      "text/plain": [
       "loanamt             0.629250\n",
       "Total_Income_bin    0.950917\n",
       "score               0.349414\n",
       "Gender              0.843905\n",
       "Married             0.181852\n",
       "Dependents          0.769387\n",
       "Education           0.320136\n",
       "Self_Employed       0.931982\n",
       "Property_Area       0.538763\n",
       "coapplicant         0.168850\n",
       "dtype: float64"
      ]
     },
     "execution_count": 74,
     "metadata": {},
     "output_type": "execute_result"
    }
   ],
   "source": [
    "from sklearn.feature_selection import chi2\n",
    "sel=chi2(X1,y)\n",
    "pv=pd.Series(sel[1])\n",
    "pv.index=X1.columns\n",
    "\n",
    "pv"
   ]
  },
  {
   "cell_type": "code",
   "execution_count": 75,
   "metadata": {},
   "outputs": [
    {
     "name": "stderr",
     "output_type": "stream",
     "text": [
      "C:\\Users\\User-1\\Anaconda3\\lib\\site-packages\\sklearn\\utils\\validation.py:73: DataConversionWarning: A column-vector y was passed when a 1d array was expected. Please change the shape of y to (n_samples, ), for example using ravel().\n",
      "  return f(**kwargs)\n"
     ]
    },
    {
     "data": {
      "text/plain": [
       "Index(['LoanAmount', 'Loan_Amount_Term', 'Credit_History', 'EMI'], dtype='object')"
      ]
     },
     "execution_count": 75,
     "metadata": {},
     "output_type": "execute_result"
    }
   ],
   "source": [
    "from sklearn.feature_selection import SelectFromModel\n",
    "from sklearn.linear_model import LogisticRegression\n",
    "sel=SelectFromModel(LogisticRegression(penalty='l1',C=0.05,solver='liblinear'))\n",
    "sel.fit(X_train,y_train)\n",
    "X_train.columns[sel.get_support()]"
   ]
  },
  {
   "cell_type": "code",
   "execution_count": 76,
   "metadata": {},
   "outputs": [
    {
     "name": "stderr",
     "output_type": "stream",
     "text": [
      "C:\\Users\\User-1\\Anaconda3\\lib\\site-packages\\sklearn\\utils\\validation.py:73: DataConversionWarning: A column-vector y was passed when a 1d array was expected. Please change the shape of y to (n_samples, ), for example using ravel().\n",
      "  return f(**kwargs)\n"
     ]
    },
    {
     "data": {
      "text/plain": [
       "Index(['Credit_History', 'loanamt'], dtype='object')"
      ]
     },
     "execution_count": 76,
     "metadata": {},
     "output_type": "execute_result"
    }
   ],
   "source": [
    "from sklearn.feature_selection import SelectPercentile , mutual_info_classif\n",
    "sel=SelectPercentile(mutual_info_classif,percentile=10).fit(X_train,y_train)\n",
    "X_train.columns[sel.get_support()]"
   ]
  },
  {
   "cell_type": "code",
   "execution_count": 77,
   "metadata": {},
   "outputs": [
    {
     "data": {
      "text/plain": [
       "{'EMI',\n",
       " 'Total_Income',\n",
       " 'coapplicant',\n",
       " 'loanamt',\n",
       " 'log_appincome',\n",
       " 'log_total_income'}"
      ]
     },
     "execution_count": 77,
     "metadata": {},
     "output_type": "execute_result"
    }
   ],
   "source": [
    "corr_features=set()\n",
    "corr_matrix=train.corr()\n",
    "for i in range(len(corr_matrix.columns)):\n",
    "    for j in range (i):\n",
    "        if(abs(corr_matrix.iloc[i,j]>0.8)):\n",
    "            corr_features.add(corr_matrix.columns[i])\n",
    "corr_features"
   ]
  },
  {
   "cell_type": "markdown",
   "metadata": {},
   "source": [
    "## Wraper Methods"
   ]
  },
  {
   "cell_type": "markdown",
   "metadata": {},
   "source": [
    "Forward Selection: Forward selection is an iterative method in which we start with having no feature in the model. In each iteration, we keep adding the feature which best improves our model till an addition of a new variable does not improve the performance of the model.\n",
    "\n",
    "Backward Elimination: In backward elimination, we start with all the features and removes the least significant feature at each iteration which improves the performance of the model. We repeat this until no improvement is observed on removal of features.\n",
    "\n",
    "Recursive Feature elimination: It is a greedy optimization algorithm which aims to find the best performing feature subset. It repeatedly creates models and keeps aside the best or the worst performing feature at each iteration. It constructs the next model with the left features until all the features are exhausted. It then ranks the features based on the order of their elimination."
   ]
  },
  {
   "cell_type": "code",
   "execution_count": 170,
   "metadata": {},
   "outputs": [
    {
     "name": "stderr",
     "output_type": "stream",
     "text": [
      "[Parallel(n_jobs=-1)]: Using backend LokyBackend with 4 concurrent workers.\n",
      "[Parallel(n_jobs=-1)]: Done  21 out of  21 | elapsed:    7.8s finished\n",
      "\n",
      "[2020-07-05 08:42:39] Features: 1/5 -- score: 0.7983473277355724[Parallel(n_jobs=-1)]: Using backend LokyBackend with 4 concurrent workers.\n",
      "[Parallel(n_jobs=-1)]: Done  20 out of  20 | elapsed:    4.6s finished\n",
      "\n",
      "[2020-07-05 08:42:44] Features: 2/5 -- score: 0.8044448887111821[Parallel(n_jobs=-1)]: Using backend LokyBackend with 4 concurrent workers.\n",
      "[Parallel(n_jobs=-1)]: Done  19 out of  19 | elapsed:    3.9s finished\n",
      "\n",
      "[2020-07-05 08:42:48] Features: 3/5 -- score: 0.806494069039051[Parallel(n_jobs=-1)]: Using backend LokyBackend with 4 concurrent workers.\n",
      "[Parallel(n_jobs=-1)]: Done  18 out of  18 | elapsed:    3.8s finished\n",
      "\n",
      "[2020-07-05 08:42:52] Features: 4/5 -- score: 0.8105591096894575[Parallel(n_jobs=-1)]: Using backend LokyBackend with 4 concurrent workers.\n",
      "[Parallel(n_jobs=-1)]: Done  17 out of  17 | elapsed:    4.7s finished\n",
      "\n",
      "[2020-07-05 08:42:56] Features: 5/5 -- score: 0.8126082900173264"
     ]
    },
    {
     "data": {
      "text/plain": [
       "('Loan_Amount_Term', 'Credit_History', 'loanamt', 'score', 'coapplicant')"
      ]
     },
     "execution_count": 170,
     "metadata": {},
     "output_type": "execute_result"
    }
   ],
   "source": [
    "from mlxtend.feature_selection import SequentialFeatureSelector as SFS\n",
    "from sklearn.ensemble import RandomForestClassifier\n",
    "sfs=SFS(AdaBoostClassifier(random_state=31),\n",
    "        k_features=5,\n",
    "        forward= True,\n",
    "        floating=False,\n",
    "        verbose=2,\n",
    "        cv=4,\n",
    "        scoring='accuracy',\n",
    "        n_jobs=-1\n",
    "       \n",
    "       ).fit(X_train,y_train)\n",
    "sfs.k_feature_names_"
   ]
  },
  {
   "cell_type": "code",
   "execution_count": null,
   "metadata": {},
   "outputs": [],
   "source": [
    "from mlxtend.feature_selection import ExhaustiveFeatureSelector as EFS\n",
    "from sklearn.ensemble import RandomForestClassifier\n",
    "efs=EFS(LogisticRegression(random_state=31),\n",
    "        max_features=5,\n",
    "        min_features=4,\n",
    "        cv = None,\n",
    "        scoring='accuracy',\n",
    "        n_jobs=-1\n",
    "       \n",
    "       ).fit(X_train,y_train)\n",
    "efs.best_feature_names_"
   ]
  },
  {
   "cell_type": "code",
   "execution_count": 171,
   "metadata": {},
   "outputs": [
    {
     "name": "stderr",
     "output_type": "stream",
     "text": [
      "C:\\Users\\User-1\\Anaconda3\\lib\\site-packages\\sklearn\\utils\\validation.py:73: DataConversionWarning: A column-vector y was passed when a 1d array was expected. Please change the shape of y to (n_samples, ), for example using ravel().\n",
      "  return f(**kwargs)\n",
      "C:\\Users\\User-1\\Anaconda3\\lib\\site-packages\\sklearn\\utils\\validation.py:73: DataConversionWarning: A column-vector y was passed when a 1d array was expected. Please change the shape of y to (n_samples, ), for example using ravel().\n",
      "  return f(**kwargs)\n",
      "C:\\Users\\User-1\\Anaconda3\\lib\\site-packages\\sklearn\\utils\\validation.py:73: DataConversionWarning: A column-vector y was passed when a 1d array was expected. Please change the shape of y to (n_samples, ), for example using ravel().\n",
      "  return f(**kwargs)\n",
      "C:\\Users\\User-1\\Anaconda3\\lib\\site-packages\\sklearn\\utils\\validation.py:73: DataConversionWarning: A column-vector y was passed when a 1d array was expected. Please change the shape of y to (n_samples, ), for example using ravel().\n",
      "  return f(**kwargs)\n",
      "C:\\Users\\User-1\\Anaconda3\\lib\\site-packages\\sklearn\\utils\\validation.py:73: DataConversionWarning: A column-vector y was passed when a 1d array was expected. Please change the shape of y to (n_samples, ), for example using ravel().\n",
      "  return f(**kwargs)\n",
      "C:\\Users\\User-1\\Anaconda3\\lib\\site-packages\\sklearn\\utils\\validation.py:73: DataConversionWarning: A column-vector y was passed when a 1d array was expected. Please change the shape of y to (n_samples, ), for example using ravel().\n",
      "  return f(**kwargs)\n",
      "C:\\Users\\User-1\\Anaconda3\\lib\\site-packages\\sklearn\\utils\\validation.py:73: DataConversionWarning: A column-vector y was passed when a 1d array was expected. Please change the shape of y to (n_samples, ), for example using ravel().\n",
      "  return f(**kwargs)\n",
      "C:\\Users\\User-1\\Anaconda3\\lib\\site-packages\\sklearn\\utils\\validation.py:73: DataConversionWarning: A column-vector y was passed when a 1d array was expected. Please change the shape of y to (n_samples, ), for example using ravel().\n",
      "  return f(**kwargs)\n",
      "C:\\Users\\User-1\\Anaconda3\\lib\\site-packages\\sklearn\\utils\\validation.py:73: DataConversionWarning: A column-vector y was passed when a 1d array was expected. Please change the shape of y to (n_samples, ), for example using ravel().\n",
      "  return f(**kwargs)\n",
      "C:\\Users\\User-1\\Anaconda3\\lib\\site-packages\\sklearn\\utils\\validation.py:73: DataConversionWarning: A column-vector y was passed when a 1d array was expected. Please change the shape of y to (n_samples, ), for example using ravel().\n",
      "  return f(**kwargs)\n",
      "C:\\Users\\User-1\\Anaconda3\\lib\\site-packages\\sklearn\\utils\\validation.py:73: DataConversionWarning: A column-vector y was passed when a 1d array was expected. Please change the shape of y to (n_samples, ), for example using ravel().\n",
      "  return f(**kwargs)\n",
      "C:\\Users\\User-1\\Anaconda3\\lib\\site-packages\\sklearn\\utils\\validation.py:73: DataConversionWarning: A column-vector y was passed when a 1d array was expected. Please change the shape of y to (n_samples, ), for example using ravel().\n",
      "  return f(**kwargs)\n",
      "C:\\Users\\User-1\\Anaconda3\\lib\\site-packages\\sklearn\\utils\\validation.py:73: DataConversionWarning: A column-vector y was passed when a 1d array was expected. Please change the shape of y to (n_samples, ), for example using ravel().\n",
      "  return f(**kwargs)\n",
      "C:\\Users\\User-1\\Anaconda3\\lib\\site-packages\\sklearn\\utils\\validation.py:73: DataConversionWarning: A column-vector y was passed when a 1d array was expected. Please change the shape of y to (n_samples, ), for example using ravel().\n",
      "  return f(**kwargs)\n",
      "C:\\Users\\User-1\\Anaconda3\\lib\\site-packages\\sklearn\\utils\\validation.py:73: DataConversionWarning: A column-vector y was passed when a 1d array was expected. Please change the shape of y to (n_samples, ), for example using ravel().\n",
      "  return f(**kwargs)\n"
     ]
    },
    {
     "data": {
      "text/plain": [
       "Index(['ApplicantIncome', 'log_appincome', 'sqrt_coappincome', 'Total_Income',\n",
       "       'EMI', 'Risk_Percent', 'log_total_income'],\n",
       "      dtype='object')"
      ]
     },
     "execution_count": 171,
     "metadata": {},
     "output_type": "execute_result"
    }
   ],
   "source": [
    "from sklearn.feature_selection import RFE\n",
    "sel=RFE(AdaBoostClassifier(random_state=31),n_features_to_select=7)\n",
    "sel.fit(X_train,y_train)\n",
    "X_train.columns[sel.get_support()]"
   ]
  },
  {
   "cell_type": "markdown",
   "metadata": {},
   "source": [
    "# Training the Model"
   ]
  },
  {
   "cell_type": "markdown",
   "metadata": {},
   "source": [
    "I've written this for loop to make the task easier for any analyst.\n",
    "\n",
    "We just have to dump all possible permutation of features in one list and names of the model in another list.\n",
    "So the loop will run in such a way that for one combination of features it will give us the accuracy score of that list of features with all the models"
   ]
  },
  {
   "cell_type": "code",
   "execution_count": 83,
   "metadata": {},
   "outputs": [],
   "source": [
    "x1=X_train.copy()\n",
    "x2=X_test.copy()"
   ]
  },
  {
   "cell_type": "markdown",
   "metadata": {},
   "source": [
    "With the help of the sample codes above , one can manipulate the parameters inside to get the following List\n",
    "\n",
    "List 1 : Is a result of features that our initial training datafile had (feature engineering features excluded)\n",
    "\n",
    "List 2 : Is a result of features that out training datafile has (feature engineering features included)\n",
    "\n",
    "List 3 : Is a result of estimator = AdaBoostRegressor() in FFS\n",
    "\n",
    "List 4 : Is a result of estimator = LogisticRegression() in FFS\n",
    "\n",
    "List 5 : Is a result of estimator = GradientBoostingRegressor() in FFS\n",
    "\n",
    "List 6 : Is a result of estimator = AdaBoostRegressor() in BFE\n",
    "\n",
    "List 7 : Is a result of estimator = LogisticRegression() and n_features_to_select = 5 in RFE\n",
    "\n",
    "List 8 : Is a result of List 9 (keeping only Net_Income) , out of which 1 correlated feature was removed\n",
    "\n",
    "List 9 : Is a result of List 9 (keeping only log_Net_Income) , out of which 1 correlated feature was removed\n",
    "\n",
    "List 10 : Is a result of estimator = AdaBoostRegressor() and cv=2 in EFS\n",
    "\n",
    "List 11 : Is a result of estimator = AdaBoostRegressor() and cv=3 in EFS"
   ]
  },
  {
   "cell_type": "code",
   "execution_count": 78,
   "metadata": {},
   "outputs": [],
   "source": [
    "# List of all possible sets of feature\n",
    "li1=[['EMI','Gender', 'Married', 'Dependents', 'Education',\n",
    "       'Self_Employed', 'ApplicantIncome', 'LoanAmount',\n",
    "       'Loan_Amount_Term', 'Credit_History', 'Property_Area',\n",
    "       'log_appincome', 'sqrt_coappincome', 'loanamt',\n",
    "       'Total_Income', 'Total_Income_bin', 'score', 'Risk_Percent','Risk_Percent_bin','log_total_income','coapplicant'],['Loan_Amount_Term','Gender', 'Married', 'Dependents', 'Education',\n",
    "       'Self_Employed', 'ApplicantIncome', 'LoanAmount',\n",
    "     'Credit_History', 'Property_Area'],['Gender', 'Married', 'Dependents', 'Education', 'Credit_History'],['Married', 'Education', 'Self_Employed', 'Credit_History', 'loanamt'],['Education','Married', 'Credit_History', 'loanamt', 'coapplicant'],['score','Gender', 'Education', 'Credit_History', 'log_total_income'],['Married', 'LoanAmount', 'Credit_History', 'Total_Income_bin',\n",
    "       'log_total_income'],['ApplicantIncome', 'LoanAmount', 'Credit_History', 'Risk_Percent',\n",
    "       'log_total_income'],['ApplicantIncome', 'Credit_History', 'EMI', 'Risk_Percent',\n",
    "       'log_total_income'],['Loan_Amount_Term', 'Credit_History', 'loanamt', 'score', 'coapplicant'],['ApplicantIncome', 'log_appincome', 'Total_Income', 'EMI',\n",
    "       'Risk_Percent'],['ApplicantIncome', 'Total_Income', 'Credit_History', 'Risk_Percent',\n",
    "       'Gender'],['ApplicantIncome', 'Total_Income', 'Credit_History', 'Risk_Percent',\n",
    "       'Dependents'],['LoanAmount','Loan_Amount_Term','Risk_Percent','Credit_History','sqrt_coappincome']]"
   ]
  },
  {
   "cell_type": "code",
   "execution_count": 79,
   "metadata": {},
   "outputs": [],
   "source": [
    "ya=y_train['Loan_Status']\n",
    "yb=y_test['Loan_Status']"
   ]
  },
  {
   "cell_type": "code",
   "execution_count": 80,
   "metadata": {},
   "outputs": [],
   "source": [
    "# List of all models used for classification problem\n",
    "li2=['Logistic','ada','stacking','DecisionTree','RandomForest','Gradient','Bagging','knn','svc','naive']"
   ]
  },
  {
   "cell_type": "markdown",
   "metadata": {},
   "source": [
    "Okay , so we're ready with an all possible features list and models list . What Next ?\n",
    "\n",
    "Lets think like this . What if we have a list 1 and we wish to try that list with each and every model type ? Think .. Think ! ! !\n",
    "\n",
    ".......\n",
    "\n",
    "Okay so a short , sweet and simple for loop would suffice . But, what if we have multiple lists and multiple models ?\n",
    "\n",
    "Ahahahh ....You got that right ! Use 2 for loops !\n",
    "\n",
    "Dont hesitate when you have a look at the code below . It's a pretty simple code (a function named get_models) that shall help us build a dataframe .\n",
    "\n",
    "We've created some temporary files , that can help us overwrite data , in our for loop"
   ]
  },
  {
   "cell_type": "code",
   "execution_count": 84,
   "metadata": {},
   "outputs": [
    {
     "name": "stderr",
     "output_type": "stream",
     "text": [
      "C:\\Users\\User-1\\Anaconda3\\lib\\site-packages\\sklearn\\linear_model\\_logistic.py:764: ConvergenceWarning: lbfgs failed to converge (status=1):\n",
      "STOP: TOTAL NO. of ITERATIONS REACHED LIMIT.\n",
      "\n",
      "Increase the number of iterations (max_iter) or scale the data as shown in:\n",
      "    https://scikit-learn.org/stable/modules/preprocessing.html\n",
      "Please also refer to the documentation for alternative solver options:\n",
      "    https://scikit-learn.org/stable/modules/linear_model.html#logistic-regression\n",
      "  extra_warning_msg=_LOGISTIC_SOLVER_CONVERGENCE_MSG)\n"
     ]
    }
   ],
   "source": [
    "row=[]\n",
    "for i in li1:\n",
    "    for j in li2:\n",
    "        if j=='Logistic':\n",
    "            X_train=X_train[i]\n",
    "            X_test=X_test[i]\n",
    "            logreg.fit(X_train,ya)\n",
    "            final=logreg.predict(X_test)\n",
    "            finall=logreg.predict(X_train)\n",
    "            sub=(metrics.accuracy_score(yb,final)-metrics.accuracy_score(ya,finall))\n",
    "            row.append([i,j,metrics.accuracy_score(yb,final),sub])\n",
    "            X_train=x1\n",
    "            X_test=x2\n",
    "        elif j=='ada':\n",
    "            X_train=X_train[i]\n",
    "            X_test=X_test[i]\n",
    "            abc.fit(X_train,ya)\n",
    "            final1=abc.predict(X_test)\n",
    "            final11=logreg.predict(X_train)\n",
    "            sub=(metrics.accuracy_score(yb,final)-metrics.accuracy_score(ya,final11))\n",
    "            row.append([i,j,metrics.accuracy_score(yb,final1),sub])\n",
    "            X_train=x1\n",
    "            X_test=x2\n",
    "        elif j=='stacking':\n",
    "            X_train=X_train[i]\n",
    "            X_test=X_test[i]\n",
    "            scc.fit(X_train,ya)\n",
    "            final2=scc.predict(X_test)\n",
    "            final22=logreg.predict(X_train)\n",
    "            sub=(metrics.accuracy_score(yb,final)-metrics.accuracy_score(ya,final22))\n",
    "            row.append([i,j,metrics.accuracy_score(yb,final2),sub])\n",
    "            X_train=x1\n",
    "            X_test=x2\n",
    "        elif j=='DecisionTree':\n",
    "            X_train=X_train[i]\n",
    "            X_test=X_test[i]\n",
    "            dtc.fit(X_train,ya)\n",
    "            final3=dtc.predict(X_test)\n",
    "            final33=logreg.predict(X_train)\n",
    "            sub=(metrics.accuracy_score(yb,final)-metrics.accuracy_score(ya,final33))\n",
    "            row.append([i,j,metrics.accuracy_score(yb,final3),sub])\n",
    "            X_train=x1\n",
    "            X_test=x2\n",
    "        elif j=='RandomForest':\n",
    "            X_train=X_train[i]\n",
    "            X_test=X_test[i]\n",
    "            log.fit(X_train,ya)\n",
    "            final4=log.predict(X_test)\n",
    "            final44=logreg.predict(X_train)\n",
    "            sub=(metrics.accuracy_score(yb,final)-metrics.accuracy_score(ya,final44))\n",
    "            row.append([i,j,metrics.accuracy_score(yb,final4),sub])\n",
    "            X_train=x1\n",
    "            X_test=x2\n",
    "        elif j=='Gradient':\n",
    "            X_train=X_train[i]\n",
    "            X_test=X_test[i]\n",
    "            gbc.fit(X_train,ya)\n",
    "            final5=gbc.predict(X_test)\n",
    "            final55=logreg.predict(X_train)\n",
    "            sub=(metrics.accuracy_score(yb,final)-metrics.accuracy_score(ya,final55))\n",
    "            row.append([i,j,metrics.accuracy_score(yb,final5),sub])\n",
    "            X_train=x1\n",
    "            X_test=x2\n",
    "        elif j=='Bagging':\n",
    "            X_train=X_train[i]\n",
    "            X_test=X_test[i]\n",
    "            bc.fit(X_train,ya)\n",
    "            final6=bc.predict(X_test)\n",
    "            final66=logreg.predict(X_train)\n",
    "            sub=(metrics.accuracy_score(yb,final)-metrics.accuracy_score(ya,final66))\n",
    "            row.append([i,j,metrics.accuracy_score(yb,final6),sub])\n",
    "            X_train=x1\n",
    "            X_test=x2\n",
    "        elif j=='knn':\n",
    "            X_train=X_train[i]\n",
    "            X_test=X_test[i]\n",
    "            knn.fit(X_train,ya)\n",
    "            final7=knn.predict(X_test)\n",
    "            final77=logreg.predict(X_train)\n",
    "            sub=(metrics.accuracy_score(yb,final)-metrics.accuracy_score(ya,final77))\n",
    "            row.append([i,j,metrics.accuracy_score(yb,final7),sub])\n",
    "            X_train=x1\n",
    "            X_test=x2\n",
    "        elif j=='svc':\n",
    "            X_train=X_train[i]\n",
    "            X_test=X_test[i]\n",
    "            svc.fit(X_train,ya)\n",
    "            final8=svc.predict(X_test)\n",
    "            final88=logreg.predict(X_train)\n",
    "            sub=(metrics.accuracy_score(yb,final)-metrics.accuracy_score(ya,final88))\n",
    "            row.append([i,j,metrics.accuracy_score(yb,final8),sub])\n",
    "            X_train=x1\n",
    "            X_test=x2\n",
    "        elif j=='naive':\n",
    "            X_train=X_train[i]\n",
    "            X_test=X_test[i]\n",
    "            gb.fit(X_train,ya)\n",
    "            final9=gb.predict(X_test)\n",
    "            final99=logreg.predict(X_train)\n",
    "            sub=(metrics.accuracy_score(yb,final)-metrics.accuracy_score(ya,final99))\n",
    "            row.append([i,j,metrics.accuracy_score(yb,final9),sub])\n",
    "            X_train=x1\n",
    "            X_test=x2"
   ]
  },
  {
   "cell_type": "code",
   "execution_count": 85,
   "metadata": {},
   "outputs": [
    {
     "data": {
      "text/html": [
       "<div>\n",
       "<style scoped>\n",
       "    .dataframe tbody tr th:only-of-type {\n",
       "        vertical-align: middle;\n",
       "    }\n",
       "\n",
       "    .dataframe tbody tr th {\n",
       "        vertical-align: top;\n",
       "    }\n",
       "\n",
       "    .dataframe thead th {\n",
       "        text-align: right;\n",
       "    }\n",
       "</style>\n",
       "<table border=\"1\" class=\"dataframe\">\n",
       "  <thead>\n",
       "    <tr style=\"text-align: right;\">\n",
       "      <th></th>\n",
       "      <th>Features</th>\n",
       "      <th>model</th>\n",
       "      <th>score</th>\n",
       "      <th>sub</th>\n",
       "    </tr>\n",
       "  </thead>\n",
       "  <tbody>\n",
       "    <tr>\n",
       "      <td>101</td>\n",
       "      <td>[ApplicantIncome, log_appincome, Total_Income,...</td>\n",
       "      <td>ada</td>\n",
       "      <td>0.691057</td>\n",
       "      <td>0.020963</td>\n",
       "    </tr>\n",
       "    <tr>\n",
       "      <td>102</td>\n",
       "      <td>[ApplicantIncome, log_appincome, Total_Income,...</td>\n",
       "      <td>stacking</td>\n",
       "      <td>0.666667</td>\n",
       "      <td>0.020963</td>\n",
       "    </tr>\n",
       "    <tr>\n",
       "      <td>103</td>\n",
       "      <td>[ApplicantIncome, log_appincome, Total_Income,...</td>\n",
       "      <td>DecisionTree</td>\n",
       "      <td>0.544715</td>\n",
       "      <td>0.020963</td>\n",
       "    </tr>\n",
       "    <tr>\n",
       "      <td>104</td>\n",
       "      <td>[ApplicantIncome, log_appincome, Total_Income,...</td>\n",
       "      <td>RandomForest</td>\n",
       "      <td>0.585366</td>\n",
       "      <td>0.020963</td>\n",
       "    </tr>\n",
       "    <tr>\n",
       "      <td>105</td>\n",
       "      <td>[ApplicantIncome, log_appincome, Total_Income,...</td>\n",
       "      <td>Gradient</td>\n",
       "      <td>0.666667</td>\n",
       "      <td>0.020963</td>\n",
       "    </tr>\n",
       "    <tr>\n",
       "      <td>100</td>\n",
       "      <td>[ApplicantIncome, log_appincome, Total_Income,...</td>\n",
       "      <td>Logistic</td>\n",
       "      <td>0.707317</td>\n",
       "      <td>0.020963</td>\n",
       "    </tr>\n",
       "    <tr>\n",
       "      <td>107</td>\n",
       "      <td>[ApplicantIncome, log_appincome, Total_Income,...</td>\n",
       "      <td>knn</td>\n",
       "      <td>0.715447</td>\n",
       "      <td>0.020963</td>\n",
       "    </tr>\n",
       "    <tr>\n",
       "      <td>108</td>\n",
       "      <td>[ApplicantIncome, log_appincome, Total_Income,...</td>\n",
       "      <td>svc</td>\n",
       "      <td>0.723577</td>\n",
       "      <td>0.020963</td>\n",
       "    </tr>\n",
       "    <tr>\n",
       "      <td>109</td>\n",
       "      <td>[ApplicantIncome, log_appincome, Total_Income,...</td>\n",
       "      <td>naive</td>\n",
       "      <td>0.682927</td>\n",
       "      <td>0.020963</td>\n",
       "    </tr>\n",
       "    <tr>\n",
       "      <td>106</td>\n",
       "      <td>[ApplicantIncome, log_appincome, Total_Income,...</td>\n",
       "      <td>Bagging</td>\n",
       "      <td>0.691057</td>\n",
       "      <td>0.020963</td>\n",
       "    </tr>\n",
       "  </tbody>\n",
       "</table>\n",
       "</div>"
      ],
      "text/plain": [
       "                                              Features         model  \\\n",
       "101  [ApplicantIncome, log_appincome, Total_Income,...           ada   \n",
       "102  [ApplicantIncome, log_appincome, Total_Income,...      stacking   \n",
       "103  [ApplicantIncome, log_appincome, Total_Income,...  DecisionTree   \n",
       "104  [ApplicantIncome, log_appincome, Total_Income,...  RandomForest   \n",
       "105  [ApplicantIncome, log_appincome, Total_Income,...      Gradient   \n",
       "100  [ApplicantIncome, log_appincome, Total_Income,...      Logistic   \n",
       "107  [ApplicantIncome, log_appincome, Total_Income,...           knn   \n",
       "108  [ApplicantIncome, log_appincome, Total_Income,...           svc   \n",
       "109  [ApplicantIncome, log_appincome, Total_Income,...         naive   \n",
       "106  [ApplicantIncome, log_appincome, Total_Income,...       Bagging   \n",
       "\n",
       "        score       sub  \n",
       "101  0.691057  0.020963  \n",
       "102  0.666667  0.020963  \n",
       "103  0.544715  0.020963  \n",
       "104  0.585366  0.020963  \n",
       "105  0.666667  0.020963  \n",
       "100  0.707317  0.020963  \n",
       "107  0.715447  0.020963  \n",
       "108  0.723577  0.020963  \n",
       "109  0.682927  0.020963  \n",
       "106  0.691057  0.020963  "
      ]
     },
     "execution_count": 85,
     "metadata": {},
     "output_type": "execute_result"
    }
   ],
   "source": [
    "df=pd.DataFrame(row,columns=['Features','model','score','sub'])\n",
    "df=df.sort_values(by=['sub'],ascending=True)\n",
    "df.head(10)\n",
    "#df.iloc[111]['Features']"
   ]
  },
  {
   "cell_type": "markdown",
   "metadata": {},
   "source": [
    "I've written this for loop to make the task easier for any analyst.\n",
    "\n",
    "We just have to dump all possible permutation of features in one list and names of the model in another list.\n",
    "So the loop will run in such a way that for one combination of features it will give us the accuracy score of that list of features with all the models"
   ]
  },
  {
   "cell_type": "code",
   "execution_count": 89,
   "metadata": {},
   "outputs": [],
   "source": [
    "from imblearn.under_sampling import RandomUnderSampler"
   ]
  },
  {
   "cell_type": "markdown",
   "metadata": {},
   "source": [
    "As our dataset has yes to no ratio of 80% is to 20% so i thought of doing undersampling and oversampling.\n",
    "\n",
    "Random oversampling duplicates examples from the minority class in the training dataset and can result in overfitting for some models.\n",
    "\n",
    "Random undersampling deletes examples from the majority class and can result in losing information invaluable to a model."
   ]
  },
  {
   "cell_type": "code",
   "execution_count": 90,
   "metadata": {},
   "outputs": [],
   "source": [
    "undersample=RandomUnderSampler(sampling_strategy='majority')\n",
    "undersample=RandomUnderSampler(sampling_strategy=1)"
   ]
  },
  {
   "cell_type": "code",
   "execution_count": 91,
   "metadata": {},
   "outputs": [],
   "source": [
    "Xa=X_train[['ApplicantIncome', 'Total_Income', 'Credit_History', 'Risk_Percent']]\n",
    "Xb=X_test[['ApplicantIncome', 'Total_Income', 'Credit_History', 'Risk_Percent']]\n",
    "Xaa,yaa = undersample.fit_resample(Xa,ya)"
   ]
  },
  {
   "cell_type": "markdown",
   "metadata": {},
   "source": [
    "But we are not getting any better result after doing this since this technique is efficient for dataset having yes to no ratio ver less . \n",
    "\n",
    "for example 100:1,1000:1"
   ]
  },
  {
   "cell_type": "markdown",
   "metadata": {},
   "source": [
    "# KNeighborsClassifier"
   ]
  },
  {
   "cell_type": "code",
   "execution_count": 174,
   "metadata": {},
   "outputs": [
    {
     "name": "stdout",
     "output_type": "stream",
     "text": [
      "              precision    recall  f1-score   support\n",
      "\n",
      "           0       1.00      0.21      0.34        34\n",
      "           1       0.77      1.00      0.87        89\n",
      "\n",
      "    accuracy                           0.78       123\n",
      "   macro avg       0.88      0.60      0.60       123\n",
      "weighted avg       0.83      0.78      0.72       123\n",
      "\n",
      "[[ 7 27]\n",
      " [ 0 89]]\n"
     ]
    }
   ],
   "source": [
    "from sklearn.neighbors import KNeighborsClassifier\n",
    "knn=KNeighborsClassifier(n_neighbors=30)\n",
    "knn.fit(Xa,ya)\n",
    "pred0=knn.predict(Xb)\n",
    "from sklearn import metrics\n",
    "print(metrics.classification_report(yb,pred0))\n",
    "print(metrics.confusion_matrix(yb,pred0))"
   ]
  },
  {
   "cell_type": "code",
   "execution_count": 175,
   "metadata": {},
   "outputs": [
    {
     "name": "stdout",
     "output_type": "stream",
     "text": [
      "[[ 7 27]\n",
      " [ 0 89]]\n"
     ]
    }
   ],
   "source": [
    "from sklearn.preprocessing import binarize\n",
    "y_prob=knn.predict_proba(Xb)[:,1]\n",
    "\n",
    "print(metrics.confusion_matrix(yb,pred0))"
   ]
  },
  {
   "cell_type": "code",
   "execution_count": 176,
   "metadata": {},
   "outputs": [
    {
     "data": {
      "image/png": "[encoded data removed]",
      "text/plain": [
       "<Figure size 432x288 with 1 Axes>"
      ]
     },
     "metadata": {
      "needs_background": "light"
     },
     "output_type": "display_data"
    }
   ],
   "source": [
    "import sklearn.metrics as metrics\n",
    "fpr,tpr,threshold=metrics.roc_curve(yb,y_prob)\n",
    "plt.plot(fpr,tpr)\n",
    "plt.plot([0,1],[0,1])\n",
    "plt.xlabel('FPR')\n",
    "plt.ylabel('TPR')\n",
    "plt.show()"
   ]
  },
  {
   "cell_type": "code",
   "execution_count": 75,
   "metadata": {},
   "outputs": [
    {
     "data": {
      "text/plain": [
       "0.6843265306122449"
      ]
     },
     "execution_count": 75,
     "metadata": {},
     "output_type": "execute_result"
    }
   ],
   "source": [
    "from sklearn.model_selection import cross_val_score\n",
    "score=cross_val_score(knn,Xa,ya,cv=10,scoring='accuracy')\n",
    "score.mean()"
   ]
  },
  {
   "cell_type": "code",
   "execution_count": 76,
   "metadata": {},
   "outputs": [
    {
     "name": "stdout",
     "output_type": "stream",
     "text": [
      "0.735265306122449\n",
      "{'n_neighbors': 14, 'weights': 'uniform'}\n"
     ]
    }
   ],
   "source": [
    "from sklearn.model_selection import GridSearchCV\n",
    "k_range=range(1,31)\n",
    "weight_option=['uniform','distance']\n",
    "param_grid = {'n_neighbors':k_range , 'weights':weight_option}\n",
    "grid=GridSearchCV(knn,param_grid,cv=10,scoring='accuracy')\n",
    "grid.fit(Xa,ya)\n",
    "print(grid.best_score_)\n",
    "print(grid.best_params_)"
   ]
  },
  {
   "cell_type": "markdown",
   "metadata": {},
   "source": [
    "# Logistic Regression"
   ]
  },
  {
   "cell_type": "code",
   "execution_count": 77,
   "metadata": {},
   "outputs": [
    {
     "name": "stdout",
     "output_type": "stream",
     "text": [
      "              precision    recall  f1-score   support\n",
      "\n",
      "           0       1.00      0.50      0.67        34\n",
      "           1       0.84      1.00      0.91        89\n",
      "\n",
      "    accuracy                           0.86       123\n",
      "   macro avg       0.92      0.75      0.79       123\n",
      "weighted avg       0.88      0.86      0.84       123\n",
      "\n",
      "[[17 17]\n",
      " [ 0 89]]\n"
     ]
    }
   ],
   "source": [
    "from sklearn.linear_model import LogisticRegression\n",
    "logreg=LogisticRegression(random_state=1,multi_class='auto',solver='newton-cg',penalty='l2')\n",
    "logreg.fit(Xa,ya)\n",
    "pred1=logreg.predict(Xb)\n",
    "print(metrics.classification_report(yb,pred1))\n",
    "print(metrics.confusion_matrix(yb,pred1))"
   ]
  },
  {
   "cell_type": "code",
   "execution_count": 78,
   "metadata": {},
   "outputs": [
    {
     "name": "stdout",
     "output_type": "stream",
     "text": [
      "[[17 17]\n",
      " [ 0 89]]\n"
     ]
    },
    {
     "name": "stderr",
     "output_type": "stream",
     "text": [
      "C:\\Users\\User-1\\Anaconda3\\lib\\site-packages\\sklearn\\utils\\validation.py:71: FutureWarning: Pass threshold=0.5 as keyword args. From version 0.25 passing these as positional arguments will result in an error\n",
      "  FutureWarning)\n"
     ]
    }
   ],
   "source": [
    "y_prob=logreg.predict_proba(Xb)[:,1]\n",
    "pred1=binarize([y_prob],0.50)[0]\n",
    "print(metrics.confusion_matrix(yb,pred1))"
   ]
  },
  {
   "cell_type": "code",
   "execution_count": 79,
   "metadata": {},
   "outputs": [
    {
     "data": {
      "text/plain": [
       "0.7963673469387755"
      ]
     },
     "execution_count": 79,
     "metadata": {},
     "output_type": "execute_result"
    }
   ],
   "source": [
    "from sklearn.model_selection import cross_val_score\n",
    "score=cross_val_score(logreg,Xa,ya,cv=10,scoring='accuracy')\n",
    "score.mean()"
   ]
  },
  {
   "cell_type": "code",
   "execution_count": 224,
   "metadata": {},
   "outputs": [
    {
     "name": "stderr",
     "output_type": "stream",
     "text": [
      "C:\\Users\\User-1\\Anaconda3\\lib\\site-packages\\sklearn\\linear_model\\sag.py:337: ConvergenceWarning: The max_iter was reached which means the coef_ did not converge\n",
      "  \"the coef_ did not converge\", ConvergenceWarning)\n",
      "C:\\Users\\User-1\\Anaconda3\\lib\\site-packages\\sklearn\\linear_model\\sag.py:337: ConvergenceWarning: The max_iter was reached which means the coef_ did not converge\n",
      "  \"the coef_ did not converge\", ConvergenceWarning)\n",
      "C:\\Users\\User-1\\Anaconda3\\lib\\site-packages\\sklearn\\linear_model\\sag.py:337: ConvergenceWarning: The max_iter was reached which means the coef_ did not converge\n",
      "  \"the coef_ did not converge\", ConvergenceWarning)\n",
      "C:\\Users\\User-1\\Anaconda3\\lib\\site-packages\\sklearn\\linear_model\\sag.py:337: ConvergenceWarning: The max_iter was reached which means the coef_ did not converge\n",
      "  \"the coef_ did not converge\", ConvergenceWarning)\n",
      "C:\\Users\\User-1\\Anaconda3\\lib\\site-packages\\sklearn\\linear_model\\sag.py:337: ConvergenceWarning: The max_iter was reached which means the coef_ did not converge\n",
      "  \"the coef_ did not converge\", ConvergenceWarning)\n",
      "C:\\Users\\User-1\\Anaconda3\\lib\\site-packages\\sklearn\\linear_model\\sag.py:337: ConvergenceWarning: The max_iter was reached which means the coef_ did not converge\n",
      "  \"the coef_ did not converge\", ConvergenceWarning)\n",
      "C:\\Users\\User-1\\Anaconda3\\lib\\site-packages\\sklearn\\linear_model\\sag.py:337: ConvergenceWarning: The max_iter was reached which means the coef_ did not converge\n",
      "  \"the coef_ did not converge\", ConvergenceWarning)\n",
      "C:\\Users\\User-1\\Anaconda3\\lib\\site-packages\\sklearn\\linear_model\\sag.py:337: ConvergenceWarning: The max_iter was reached which means the coef_ did not converge\n",
      "  \"the coef_ did not converge\", ConvergenceWarning)\n",
      "C:\\Users\\User-1\\Anaconda3\\lib\\site-packages\\sklearn\\linear_model\\sag.py:337: ConvergenceWarning: The max_iter was reached which means the coef_ did not converge\n",
      "  \"the coef_ did not converge\", ConvergenceWarning)\n",
      "C:\\Users\\User-1\\Anaconda3\\lib\\site-packages\\sklearn\\linear_model\\sag.py:337: ConvergenceWarning: The max_iter was reached which means the coef_ did not converge\n",
      "  \"the coef_ did not converge\", ConvergenceWarning)\n",
      "C:\\Users\\User-1\\Anaconda3\\lib\\site-packages\\sklearn\\linear_model\\sag.py:337: ConvergenceWarning: The max_iter was reached which means the coef_ did not converge\n",
      "  \"the coef_ did not converge\", ConvergenceWarning)\n",
      "C:\\Users\\User-1\\Anaconda3\\lib\\site-packages\\sklearn\\linear_model\\sag.py:337: ConvergenceWarning: The max_iter was reached which means the coef_ did not converge\n",
      "  \"the coef_ did not converge\", ConvergenceWarning)\n",
      "C:\\Users\\User-1\\Anaconda3\\lib\\site-packages\\sklearn\\linear_model\\sag.py:337: ConvergenceWarning: The max_iter was reached which means the coef_ did not converge\n",
      "  \"the coef_ did not converge\", ConvergenceWarning)\n",
      "C:\\Users\\User-1\\Anaconda3\\lib\\site-packages\\sklearn\\linear_model\\sag.py:337: ConvergenceWarning: The max_iter was reached which means the coef_ did not converge\n",
      "  \"the coef_ did not converge\", ConvergenceWarning)\n",
      "C:\\Users\\User-1\\Anaconda3\\lib\\site-packages\\sklearn\\linear_model\\sag.py:337: ConvergenceWarning: The max_iter was reached which means the coef_ did not converge\n",
      "  \"the coef_ did not converge\", ConvergenceWarning)\n",
      "C:\\Users\\User-1\\Anaconda3\\lib\\site-packages\\sklearn\\linear_model\\sag.py:337: ConvergenceWarning: The max_iter was reached which means the coef_ did not converge\n",
      "  \"the coef_ did not converge\", ConvergenceWarning)\n",
      "C:\\Users\\User-1\\Anaconda3\\lib\\site-packages\\sklearn\\linear_model\\sag.py:337: ConvergenceWarning: The max_iter was reached which means the coef_ did not converge\n",
      "  \"the coef_ did not converge\", ConvergenceWarning)\n",
      "C:\\Users\\User-1\\Anaconda3\\lib\\site-packages\\sklearn\\linear_model\\sag.py:337: ConvergenceWarning: The max_iter was reached which means the coef_ did not converge\n",
      "  \"the coef_ did not converge\", ConvergenceWarning)\n"
     ]
    },
    {
     "name": "stdout",
     "output_type": "stream",
     "text": [
      "0.7983706720977597\n",
      "{'multi_class': 'auto', 'penalty': 'l2', 'solver': 'liblinear'}\n"
     ]
    },
    {
     "name": "stderr",
     "output_type": "stream",
     "text": [
      "C:\\Users\\User-1\\Anaconda3\\lib\\site-packages\\sklearn\\linear_model\\sag.py:337: ConvergenceWarning: The max_iter was reached which means the coef_ did not converge\n",
      "  \"the coef_ did not converge\", ConvergenceWarning)\n",
      "C:\\Users\\User-1\\Anaconda3\\lib\\site-packages\\sklearn\\linear_model\\sag.py:337: ConvergenceWarning: The max_iter was reached which means the coef_ did not converge\n",
      "  \"the coef_ did not converge\", ConvergenceWarning)\n",
      "C:\\Users\\User-1\\Anaconda3\\lib\\site-packages\\sklearn\\linear_model\\sag.py:337: ConvergenceWarning: The max_iter was reached which means the coef_ did not converge\n",
      "  \"the coef_ did not converge\", ConvergenceWarning)\n",
      "C:\\Users\\User-1\\Anaconda3\\lib\\site-packages\\sklearn\\linear_model\\sag.py:337: ConvergenceWarning: The max_iter was reached which means the coef_ did not converge\n",
      "  \"the coef_ did not converge\", ConvergenceWarning)\n",
      "C:\\Users\\User-1\\Anaconda3\\lib\\site-packages\\sklearn\\linear_model\\sag.py:337: ConvergenceWarning: The max_iter was reached which means the coef_ did not converge\n",
      "  \"the coef_ did not converge\", ConvergenceWarning)\n",
      "C:\\Users\\User-1\\Anaconda3\\lib\\site-packages\\sklearn\\linear_model\\sag.py:337: ConvergenceWarning: The max_iter was reached which means the coef_ did not converge\n",
      "  \"the coef_ did not converge\", ConvergenceWarning)\n",
      "C:\\Users\\User-1\\Anaconda3\\lib\\site-packages\\sklearn\\linear_model\\sag.py:337: ConvergenceWarning: The max_iter was reached which means the coef_ did not converge\n",
      "  \"the coef_ did not converge\", ConvergenceWarning)\n",
      "C:\\Users\\User-1\\Anaconda3\\lib\\site-packages\\sklearn\\linear_model\\sag.py:337: ConvergenceWarning: The max_iter was reached which means the coef_ did not converge\n",
      "  \"the coef_ did not converge\", ConvergenceWarning)\n",
      "C:\\Users\\User-1\\Anaconda3\\lib\\site-packages\\sklearn\\linear_model\\sag.py:337: ConvergenceWarning: The max_iter was reached which means the coef_ did not converge\n",
      "  \"the coef_ did not converge\", ConvergenceWarning)\n",
      "C:\\Users\\User-1\\Anaconda3\\lib\\site-packages\\sklearn\\linear_model\\sag.py:337: ConvergenceWarning: The max_iter was reached which means the coef_ did not converge\n",
      "  \"the coef_ did not converge\", ConvergenceWarning)\n",
      "C:\\Users\\User-1\\Anaconda3\\lib\\site-packages\\sklearn\\linear_model\\sag.py:337: ConvergenceWarning: The max_iter was reached which means the coef_ did not converge\n",
      "  \"the coef_ did not converge\", ConvergenceWarning)\n",
      "C:\\Users\\User-1\\Anaconda3\\lib\\site-packages\\sklearn\\linear_model\\sag.py:337: ConvergenceWarning: The max_iter was reached which means the coef_ did not converge\n",
      "  \"the coef_ did not converge\", ConvergenceWarning)\n",
      "C:\\Users\\User-1\\Anaconda3\\lib\\site-packages\\sklearn\\linear_model\\sag.py:337: ConvergenceWarning: The max_iter was reached which means the coef_ did not converge\n",
      "  \"the coef_ did not converge\", ConvergenceWarning)\n",
      "C:\\Users\\User-1\\Anaconda3\\lib\\site-packages\\sklearn\\linear_model\\sag.py:337: ConvergenceWarning: The max_iter was reached which means the coef_ did not converge\n",
      "  \"the coef_ did not converge\", ConvergenceWarning)\n",
      "C:\\Users\\User-1\\Anaconda3\\lib\\site-packages\\sklearn\\linear_model\\sag.py:337: ConvergenceWarning: The max_iter was reached which means the coef_ did not converge\n",
      "  \"the coef_ did not converge\", ConvergenceWarning)\n",
      "C:\\Users\\User-1\\Anaconda3\\lib\\site-packages\\sklearn\\linear_model\\sag.py:337: ConvergenceWarning: The max_iter was reached which means the coef_ did not converge\n",
      "  \"the coef_ did not converge\", ConvergenceWarning)\n",
      "C:\\Users\\User-1\\Anaconda3\\lib\\site-packages\\sklearn\\linear_model\\sag.py:337: ConvergenceWarning: The max_iter was reached which means the coef_ did not converge\n",
      "  \"the coef_ did not converge\", ConvergenceWarning)\n",
      "C:\\Users\\User-1\\Anaconda3\\lib\\site-packages\\sklearn\\linear_model\\sag.py:337: ConvergenceWarning: The max_iter was reached which means the coef_ did not converge\n",
      "  \"the coef_ did not converge\", ConvergenceWarning)\n"
     ]
    }
   ],
   "source": [
    "state=np.arange(1,50,1)\n",
    "option=['auto','ovr']\n",
    "weight_option=['newton-cg','lbfgs','liblinear','sag','saga']\n",
    "param_grid = {'multi_class': option , 'solver':weight_option,'penalty':['l2']}\n",
    "grid=GridSearchCV(logreg,param_grid,cv=10,scoring='accuracy')\n",
    "grid.fit(Xa,ya)\n",
    "print(grid.best_score_)\n",
    "print(grid.best_params_)"
   ]
  },
  {
   "cell_type": "markdown",
   "metadata": {},
   "source": [
    "# RandomForestClassifier"
   ]
  },
  {
   "cell_type": "code",
   "execution_count": 80,
   "metadata": {},
   "outputs": [
    {
     "name": "stdout",
     "output_type": "stream",
     "text": [
      "              precision    recall  f1-score   support\n",
      "\n",
      "           0       0.62      0.62      0.62        34\n",
      "           1       0.85      0.85      0.85        89\n",
      "\n",
      "    accuracy                           0.79       123\n",
      "   macro avg       0.74      0.74      0.74       123\n",
      "weighted avg       0.79      0.79      0.79       123\n",
      "\n",
      "[[21 13]\n",
      " [13 76]]\n"
     ]
    }
   ],
   "source": [
    "from sklearn.ensemble import RandomForestClassifier\n",
    "log=RandomForestClassifier(random_state=5)\n",
    "log.fit(Xa,ya)\n",
    "pred2=log.predict(Xb)\n",
    "print(metrics.classification_report(yb,pred2))\n",
    "print(metrics.confusion_matrix(yb,pred2))"
   ]
  },
  {
   "cell_type": "code",
   "execution_count": 81,
   "metadata": {},
   "outputs": [
    {
     "name": "stdout",
     "output_type": "stream",
     "text": [
      "[[22 12]\n",
      " [17 72]]\n"
     ]
    },
    {
     "name": "stderr",
     "output_type": "stream",
     "text": [
      "C:\\Users\\User-1\\Anaconda3\\lib\\site-packages\\sklearn\\utils\\validation.py:71: FutureWarning: Pass threshold=0.6 as keyword args. From version 0.25 passing these as positional arguments will result in an error\n",
      "  FutureWarning)\n"
     ]
    }
   ],
   "source": [
    "y_prob=log.predict_proba(Xb)[:,1]\n",
    "pred2=binarize([y_prob],0.60)[0]\n",
    "print(metrics.confusion_matrix(yb,pred2))"
   ]
  },
  {
   "cell_type": "code",
   "execution_count": 77,
   "metadata": {},
   "outputs": [
    {
     "data": {
      "text/plain": [
       "0.7594676870748299"
      ]
     },
     "execution_count": 77,
     "metadata": {},
     "output_type": "execute_result"
    }
   ],
   "source": [
    "from sklearn.model_selection import cross_val_score\n",
    "score=cross_val_score(log,Xa,ya,cv=10,scoring='accuracy')\n",
    "score.mean()"
   ]
  },
  {
   "cell_type": "markdown",
   "metadata": {},
   "source": [
    "# DecisionTreeClassifier"
   ]
  },
  {
   "cell_type": "code",
   "execution_count": 82,
   "metadata": {},
   "outputs": [
    {
     "name": "stdout",
     "output_type": "stream",
     "text": [
      "0.7154471544715447\n",
      "[[20 14]\n",
      " [21 68]]\n"
     ]
    }
   ],
   "source": [
    "from sklearn.tree import DecisionTreeClassifier\n",
    "dtc=DecisionTreeClassifier(random_state=0,splitter='random',max_features='auto')\n",
    "dtc.fit(Xa,ya)\n",
    "pred3=dtc.predict(Xb)\n",
    "print(metrics.accuracy_score(yb,pred3))\n",
    "print(metrics.confusion_matrix(yb,pred3))"
   ]
  },
  {
   "cell_type": "code",
   "execution_count": 83,
   "metadata": {},
   "outputs": [
    {
     "data": {
      "text/plain": [
       "0.6905306122448979"
      ]
     },
     "execution_count": 83,
     "metadata": {},
     "output_type": "execute_result"
    }
   ],
   "source": [
    "from sklearn.model_selection import cross_val_score\n",
    "score=cross_val_score(dtc,Xa,ya,cv=10,scoring='accuracy')\n",
    "score.mean()"
   ]
  },
  {
   "cell_type": "code",
   "execution_count": 84,
   "metadata": {},
   "outputs": [
    {
     "name": "stdout",
     "output_type": "stream",
     "text": [
      "0.7169795918367348\n",
      "{'criterion': 'entropy', 'max_features': 'auto', 'splitter': 'best'}\n"
     ]
    }
   ],
   "source": [
    "option=['gini','entropy']\n",
    "weight_option=['auto','sqrt','log2']\n",
    "param_grid = {'criterion': option , 'max_features':weight_option,'splitter':['best','random']}\n",
    "grid=GridSearchCV(dtc,param_grid,cv=10,scoring='accuracy')\n",
    "grid.fit(Xa,ya)\n",
    "print(grid.best_score_)\n",
    "print(grid.best_params_)"
   ]
  },
  {
   "cell_type": "markdown",
   "metadata": {},
   "source": [
    "# GradientBoostingClassifier"
   ]
  },
  {
   "cell_type": "code",
   "execution_count": 93,
   "metadata": {},
   "outputs": [
    {
     "name": "stdout",
     "output_type": "stream",
     "text": [
      "              precision    recall  f1-score   support\n",
      "\n",
      "           0       0.74      0.59      0.66        34\n",
      "           1       0.85      0.92      0.89        89\n",
      "\n",
      "    accuracy                           0.83       123\n",
      "   macro avg       0.80      0.75      0.77       123\n",
      "weighted avg       0.82      0.83      0.82       123\n",
      "\n",
      "[[20 14]\n",
      " [ 7 82]]\n"
     ]
    }
   ],
   "source": [
    "from sklearn.ensemble import GradientBoostingClassifier\n",
    "gbc=GradientBoostingClassifier(random_state=31)\n",
    "gbc.fit(Xa,ya)\n",
    "pred4=gbc.predict(Xb)\n",
    "print(metrics.classification_report(yb,pred4))\n",
    "print(metrics.confusion_matrix(yb,pred4))"
   ]
  },
  {
   "cell_type": "code",
   "execution_count": 178,
   "metadata": {},
   "outputs": [
    {
     "name": "stdout",
     "output_type": "stream",
     "text": [
      "[[19 15]\n",
      " [10 79]]\n"
     ]
    },
    {
     "name": "stderr",
     "output_type": "stream",
     "text": [
      "C:\\Users\\User-1\\Anaconda3\\lib\\site-packages\\sklearn\\utils\\validation.py:71: FutureWarning: Pass threshold=0.55 as keyword args. From version 0.25 passing these as positional arguments will result in an error\n",
      "  FutureWarning)\n"
     ]
    }
   ],
   "source": [
    "y_prob=gbc.predict_proba(Xb)[:,1]\n",
    "pred4=binarize([y_prob],0.55)[0]\n",
    "print(metrics.confusion_matrix(yb,pred4))"
   ]
  },
  {
   "cell_type": "code",
   "execution_count": 179,
   "metadata": {},
   "outputs": [
    {
     "data": {
      "text/plain": [
       "0.6843265306122449"
      ]
     },
     "execution_count": 179,
     "metadata": {},
     "output_type": "execute_result"
    }
   ],
   "source": [
    "from sklearn.model_selection import cross_val_score\n",
    "score=cross_val_score(knn,Xa,ya,cv=10,scoring='accuracy')\n",
    "score.mean()"
   ]
  },
  {
   "cell_type": "code",
   "execution_count": null,
   "metadata": {},
   "outputs": [],
   "source": [
    "param_grid = {'criterion':['friedman_mse','mse','mae'] , 'loss':['deviance','exponential'],'max_features':['auto','sqrt','log2'],'learning_rate':[0.1,0.01,0.001,1]}\n",
    "grid=GridSearchCV(gbc,param_grid,cv=10,scoring='accuracy')\n",
    "grid.fit(Xa,ya)\n",
    "print(grid.best_score_)\n",
    "print(grid.best_params_)"
   ]
  },
  {
   "cell_type": "markdown",
   "metadata": {},
   "source": [
    "# AdaBoostClassifier"
   ]
  },
  {
   "cell_type": "code",
   "execution_count": 72,
   "metadata": {},
   "outputs": [
    {
     "name": "stdout",
     "output_type": "stream",
     "text": [
      "              precision    recall  f1-score   support\n",
      "\n",
      "           0       1.00      0.53      0.69        34\n",
      "           1       0.85      1.00      0.92        89\n",
      "\n",
      "    accuracy                           0.87       123\n",
      "   macro avg       0.92      0.76      0.80       123\n",
      "weighted avg       0.89      0.87      0.86       123\n",
      "\n",
      "[[18 16]\n",
      " [ 0 89]]\n"
     ]
    }
   ],
   "source": [
    "from sklearn.ensemble import AdaBoostClassifier\n",
    "abc=AdaBoostClassifier(random_state=0,algorithm='SAMME',n_estimators=1000,learning_rate=0.1)\n",
    "abc.fit(Xa,ya)\n",
    "pred5=abc.predict(Xb)\n",
    "print(metrics.classification_report(yb,pred5))\n",
    "print(metrics.confusion_matrix(yb,pred5))"
   ]
  },
  {
   "cell_type": "code",
   "execution_count": 73,
   "metadata": {},
   "outputs": [
    {
     "data": {
      "text/plain": [
       "Total_Income       0.309481\n",
       "Credit_History     0.283346\n",
       "ApplicantIncome    0.273257\n",
       "Risk_Percent       0.133915\n",
       "dtype: float64"
      ]
     },
     "execution_count": 73,
     "metadata": {},
     "output_type": "execute_result"
    },
    {
     "data": {
      "image/png": "[encoded data removed]",
      "text/plain": [
       "<Figure size 432x288 with 1 Axes>"
      ]
     },
     "metadata": {
      "needs_background": "light"
     },
     "output_type": "display_data"
    }
   ],
   "source": [
    "best=pd.Series(abc.feature_importances_,index=Xa.columns)\n",
    "best.nlargest(7).plot(kind='bar')\n",
    "best.nlargest(7)"
   ]
  },
  {
   "cell_type": "code",
   "execution_count": 75,
   "metadata": {},
   "outputs": [
    {
     "data": {
      "image/png": "[encoded data removed]",
      "text/plain": [
       "<Figure size 432x288 with 1 Axes>"
      ]
     },
     "metadata": {
      "needs_background": "light"
     },
     "output_type": "display_data"
    }
   ],
   "source": [
    "import sklearn.metrics as metrics\n",
    "fpr,tpr,threshold=metrics.roc_curve(yb,y_prob5)\n",
    "plt.plot(fpr,tpr)\n",
    "plt.plot([0,1],[0,1])\n",
    "plt.xlabel('FPR')\n",
    "plt.ylabel('TPR')\n",
    "plt.show()"
   ]
  },
  {
   "cell_type": "code",
   "execution_count": 76,
   "metadata": {},
   "outputs": [
    {
     "data": {
      "image/png": "[encoded data removed]",
      "text/plain": [
       "<Figure size 432x288 with 1 Axes>"
      ]
     },
     "metadata": {
      "needs_background": "light"
     },
     "output_type": "display_data"
    }
   ],
   "source": [
    "plt.hist(y_prob5,bins=4)\n",
    "plt.show()"
   ]
  },
  {
   "cell_type": "code",
   "execution_count": 89,
   "metadata": {},
   "outputs": [
    {
     "data": {
      "text/plain": [
       "0.7984489795918368"
      ]
     },
     "execution_count": 89,
     "metadata": {},
     "output_type": "execute_result"
    }
   ],
   "source": [
    "from sklearn.model_selection import cross_val_score\n",
    "score=cross_val_score(abc,Xa,ya,cv=10,scoring='accuracy')\n",
    "score.mean()"
   ]
  },
  {
   "cell_type": "code",
   "execution_count": 120,
   "metadata": {},
   "outputs": [
    {
     "name": "stderr",
     "output_type": "stream",
     "text": [
      "C:\\Users\\User-1\\Anaconda3\\lib\\site-packages\\sklearn\\model_selection\\_search.py:814: DeprecationWarning: The default of the `iid` parameter will change from True to False in version 0.22 and will be removed in 0.24. This will change numeric results when test-set sizes are unequal.\n",
      "  DeprecationWarning)\n"
     ]
    },
    {
     "name": "stdout",
     "output_type": "stream",
     "text": [
      "0.8004073319755601\n",
      "{'algorithm': 'SAMME', 'learning_rate': 0.1, 'n_estimators': 1000}\n"
     ]
    }
   ],
   "source": [
    "param_grid = {'algorithm':['SAMME','SAMME.R'] ,'n_estimators':[10,100,1000,50],'learning_rate':[0.1,0.01,0.001,1]}\n",
    "grid=GridSearchCV(abc,param_grid,cv=10,scoring='accuracy')\n",
    "grid.fit(Xa,ya)\n",
    "print(grid.best_score_)\n",
    "print(grid.best_params_)"
   ]
  },
  {
   "cell_type": "markdown",
   "metadata": {},
   "source": [
    "# BaggingClassifier"
   ]
  },
  {
   "cell_type": "code",
   "execution_count": 90,
   "metadata": {},
   "outputs": [
    {
     "name": "stdout",
     "output_type": "stream",
     "text": [
      "0.8536585365853658\n"
     ]
    }
   ],
   "source": [
    "from sklearn.ensemble import BaggingClassifier\n",
    "bc=BaggingClassifier(AdaBoostClassifier(random_state=0,algorithm='SAMME',n_estimators=10,learning_rate=0.1))\n",
    "bc.fit(Xa,ya)\n",
    "pred6=bc.predict(Xb)\n",
    "print(metrics.accuracy_score(yb,pred6))"
   ]
  },
  {
   "cell_type": "code",
   "execution_count": 91,
   "metadata": {},
   "outputs": [
    {
     "name": "stdout",
     "output_type": "stream",
     "text": [
      "[[16 18]\n",
      " [ 0 89]]\n"
     ]
    },
    {
     "name": "stderr",
     "output_type": "stream",
     "text": [
      "C:\\Users\\User-1\\Anaconda3\\lib\\site-packages\\sklearn\\utils\\validation.py:71: FutureWarning: Pass threshold=0.5 as keyword args. From version 0.25 passing these as positional arguments will result in an error\n",
      "  FutureWarning)\n"
     ]
    }
   ],
   "source": [
    "from sklearn.preprocessing import binarize\n",
    "y_prob=bc.predict_proba(Xb)[:,1]\n",
    "pred6=binarize([y_prob],0.50)[0]\n",
    "\n",
    "print(metrics.confusion_matrix(yb,pred6))"
   ]
  },
  {
   "cell_type": "markdown",
   "metadata": {},
   "source": [
    "# Stacking Classifier"
   ]
  },
  {
   "cell_type": "code",
   "execution_count": 92,
   "metadata": {},
   "outputs": [
    {
     "name": "stdout",
     "output_type": "stream",
     "text": [
      "0.8536585365853658\n"
     ]
    }
   ],
   "source": [
    "from mlxtend.classifier import StackingClassifier\n",
    "scc=StackingClassifier(classifiers=[gbc],meta_classifier=logreg)\n",
    "scc.fit(Xa,ya)\n",
    "pred7=scc.predict(Xb)\n",
    "print(metrics.accuracy_score(yb,pred7))"
   ]
  },
  {
   "cell_type": "code",
   "execution_count": 93,
   "metadata": {},
   "outputs": [
    {
     "name": "stdout",
     "output_type": "stream",
     "text": [
      "[[18 16]\n",
      " [ 2 87]]\n"
     ]
    },
    {
     "name": "stderr",
     "output_type": "stream",
     "text": [
      "C:\\Users\\User-1\\Anaconda3\\lib\\site-packages\\sklearn\\utils\\validation.py:71: FutureWarning: Pass threshold=0.55 as keyword args. From version 0.25 passing these as positional arguments will result in an error\n",
      "  FutureWarning)\n"
     ]
    }
   ],
   "source": [
    "y_prob=scc.predict_proba(Xb)[:,1]\n",
    "pred7=binarize([y_prob],0.55)[0]\n",
    "\n",
    "print(metrics.confusion_matrix(yb,pred7))"
   ]
  },
  {
   "cell_type": "markdown",
   "metadata": {},
   "source": [
    "# Support Vector Machine"
   ]
  },
  {
   "cell_type": "code",
   "execution_count": 94,
   "metadata": {},
   "outputs": [
    {
     "name": "stdout",
     "output_type": "stream",
     "text": [
      "              precision    recall  f1-score   support\n",
      "\n",
      "           0       1.00      0.50      0.67        34\n",
      "           1       0.84      1.00      0.91        89\n",
      "\n",
      "    accuracy                           0.86       123\n",
      "   macro avg       0.92      0.75      0.79       123\n",
      "weighted avg       0.88      0.86      0.84       123\n",
      "\n",
      "[[17 17]\n",
      " [ 0 89]]\n"
     ]
    }
   ],
   "source": [
    "from sklearn.svm import SVC\n",
    "svc=SVC()\n",
    "svc.fit(Xa,ya)\n",
    "pred8=svc.predict(Xb)\n",
    "print(metrics.classification_report(yb,pred8))\n",
    "print(metrics.confusion_matrix(yb,pred8))"
   ]
  },
  {
   "cell_type": "markdown",
   "metadata": {},
   "source": [
    "# Naive Bayes"
   ]
  },
  {
   "cell_type": "code",
   "execution_count": 95,
   "metadata": {},
   "outputs": [
    {
     "name": "stdout",
     "output_type": "stream",
     "text": [
      "              precision    recall  f1-score   support\n",
      "\n",
      "           0       0.90      0.53      0.67        34\n",
      "           1       0.84      0.98      0.91        89\n",
      "\n",
      "    accuracy                           0.85       123\n",
      "   macro avg       0.87      0.75      0.79       123\n",
      "weighted avg       0.86      0.85      0.84       123\n",
      "\n",
      "[[18 16]\n",
      " [ 2 87]]\n"
     ]
    }
   ],
   "source": [
    "from sklearn.naive_bayes  import GaussianNB\n",
    "gb=GaussianNB()\n",
    "gb.fit(Xa,ya)\n",
    "pred9=gb.predict(Xb)\n",
    "print(metrics.classification_report(yb,pred9))\n",
    "print(metrics.confusion_matrix(yb,pred9))"
   ]
  },
  {
   "cell_type": "markdown",
   "metadata": {},
   "source": [
    "We tried submitting our results with many different combinations , as shown by our dataframe\n",
    "\n",
    "And....\n",
    "\n",
    "Here is our best list and the best model"
   ]
  },
  {
   "cell_type": "markdown",
   "metadata": {},
   "source": [
    "As you may notice , we've got the best result when our model type is Gradient Boosting and List type is : 1"
   ]
  },
  {
   "cell_type": "markdown",
   "metadata": {},
   "source": [
    "##### Reason why we selected this model is  In banking sector giving loans is primary source of money but at the same time your repayment rate is not good you will not make any money.\n",
    "\n",
    "##### Banks dont wamt to lose good customers at the same time  they dont want to aquire bad customers so in this scenarion FP as well as FN are that important so we selected this model rather than selecting model having high FP and 0 FN"
   ]
  },
  {
   "cell_type": "markdown",
   "metadata": {},
   "source": [
    "# Preparing testing dataset for final submission"
   ]
  },
  {
   "cell_type": "code",
   "execution_count": 180,
   "metadata": {},
   "outputs": [
    {
     "data": {
      "text/plain": [
       "Loan_ID               0\n",
       "Gender               11\n",
       "Married               0\n",
       "Dependents           10\n",
       "Education             0\n",
       "Self_Employed        23\n",
       "ApplicantIncome       0\n",
       "CoapplicantIncome     0\n",
       "LoanAmount            5\n",
       "Loan_Amount_Term      6\n",
       "Credit_History       29\n",
       "Property_Area         0\n",
       "dtype: int64"
      ]
     },
     "execution_count": 180,
     "metadata": {},
     "output_type": "execute_result"
    }
   ],
   "source": [
    "test.isnull().sum()"
   ]
  },
  {
   "cell_type": "code",
   "execution_count": 181,
   "metadata": {},
   "outputs": [],
   "source": [
    "dict={'Yes':'Male','No':'Female'}\n",
    "test['Gender'].fillna(test['Married'].map(dict),inplace=True)"
   ]
  },
  {
   "cell_type": "code",
   "execution_count": 182,
   "metadata": {},
   "outputs": [],
   "source": [
    "test['Credit_History'].fillna(2,inplace=True)"
   ]
  },
  {
   "cell_type": "code",
   "execution_count": 183,
   "metadata": {},
   "outputs": [],
   "source": [
    "test['Self_Employed'].fillna('No',inplace=True)"
   ]
  },
  {
   "cell_type": "code",
   "execution_count": 184,
   "metadata": {},
   "outputs": [],
   "source": [
    "test['Dependents'].replace('3+',3,inplace=True)\n",
    "test['Dependents'].fillna('0',inplace=True)\n",
    "test['Loan_Amount_Term'].fillna(test['Loan_Amount_Term'].mode()[0],inplace=True)\n",
    "test['LoanAmount'].fillna(test['LoanAmount'].median(),inplace=True)"
   ]
  },
  {
   "cell_type": "code",
   "execution_count": 185,
   "metadata": {},
   "outputs": [],
   "source": [
    "test['ApplicantIncome']=test['ApplicantIncome'].where(test['ApplicantIncome']>0,test['ApplicantIncome'].mean())"
   ]
  },
  {
   "cell_type": "code",
   "execution_count": 186,
   "metadata": {},
   "outputs": [],
   "source": [
    "test['log_appincome']=np.log(test['ApplicantIncome'])\n",
    "test['sqrt_coappincome']=np.sqrt(test['CoapplicantIncome'])"
   ]
  },
  {
   "cell_type": "code",
   "execution_count": 187,
   "metadata": {},
   "outputs": [],
   "source": [
    "test['loanamt']=pd.cut(test['LoanAmount'],bins=[27000,101000,157500,560000],labels=['low','avg','high'])"
   ]
  },
  {
   "cell_type": "code",
   "execution_count": 188,
   "metadata": {},
   "outputs": [],
   "source": [
    "test['Total_Income']=test['ApplicantIncome']+test['CoapplicantIncome']\n",
    "test['Total_Income_bin']=pd.cut(test['Total_Income'],bins=[2082,4161.5,6980,72530],labels=['low','avg','high'])"
   ]
  },
  {
   "cell_type": "code",
   "execution_count": 189,
   "metadata": {},
   "outputs": [
    {
     "data": {
      "text/html": [
       "<div>\n",
       "<style scoped>\n",
       "    .dataframe tbody tr th:only-of-type {\n",
       "        vertical-align: middle;\n",
       "    }\n",
       "\n",
       "    .dataframe tbody tr th {\n",
       "        vertical-align: top;\n",
       "    }\n",
       "\n",
       "    .dataframe thead th {\n",
       "        text-align: right;\n",
       "    }\n",
       "</style>\n",
       "<table border=\"1\" class=\"dataframe\">\n",
       "  <thead>\n",
       "    <tr style=\"text-align: right;\">\n",
       "      <th></th>\n",
       "      <th>ApplicantIncome</th>\n",
       "      <th>CoapplicantIncome</th>\n",
       "      <th>LoanAmount</th>\n",
       "      <th>Loan_Amount_Term</th>\n",
       "      <th>Credit_History</th>\n",
       "      <th>log_appincome</th>\n",
       "      <th>sqrt_coappincome</th>\n",
       "      <th>Total_Income</th>\n",
       "    </tr>\n",
       "  </thead>\n",
       "  <tbody>\n",
       "    <tr>\n",
       "      <td>count</td>\n",
       "      <td>367.000000</td>\n",
       "      <td>367.000000</td>\n",
       "      <td>367.000000</td>\n",
       "      <td>367.000000</td>\n",
       "      <td>367.000000</td>\n",
       "      <td>367.000000</td>\n",
       "      <td>367.000000</td>\n",
       "      <td>367.000000</td>\n",
       "    </tr>\n",
       "    <tr>\n",
       "      <td>mean</td>\n",
       "      <td>4831.788008</td>\n",
       "      <td>1569.577657</td>\n",
       "      <td>135980.926431</td>\n",
       "      <td>342.822888</td>\n",
       "      <td>0.918256</td>\n",
       "      <td>8.294887</td>\n",
       "      <td>28.206995</td>\n",
       "      <td>6401.365665</td>\n",
       "    </tr>\n",
       "    <tr>\n",
       "      <td>std</td>\n",
       "      <td>4897.749261</td>\n",
       "      <td>2334.232099</td>\n",
       "      <td>60959.739166</td>\n",
       "      <td>64.658402</td>\n",
       "      <td>0.483463</td>\n",
       "      <td>0.547110</td>\n",
       "      <td>27.857812</td>\n",
       "      <td>5244.153719</td>\n",
       "    </tr>\n",
       "    <tr>\n",
       "      <td>min</td>\n",
       "      <td>570.000000</td>\n",
       "      <td>0.000000</td>\n",
       "      <td>28000.000000</td>\n",
       "      <td>6.000000</td>\n",
       "      <td>0.000000</td>\n",
       "      <td>6.345636</td>\n",
       "      <td>0.000000</td>\n",
       "      <td>2083.000000</td>\n",
       "    </tr>\n",
       "    <tr>\n",
       "      <td>25%</td>\n",
       "      <td>2885.500000</td>\n",
       "      <td>0.000000</td>\n",
       "      <td>101000.000000</td>\n",
       "      <td>360.000000</td>\n",
       "      <td>1.000000</td>\n",
       "      <td>7.967447</td>\n",
       "      <td>0.000000</td>\n",
       "      <td>4161.500000</td>\n",
       "    </tr>\n",
       "    <tr>\n",
       "      <td>50%</td>\n",
       "      <td>3808.000000</td>\n",
       "      <td>1025.000000</td>\n",
       "      <td>125000.000000</td>\n",
       "      <td>360.000000</td>\n",
       "      <td>1.000000</td>\n",
       "      <td>8.244859</td>\n",
       "      <td>32.015621</td>\n",
       "      <td>5225.000000</td>\n",
       "    </tr>\n",
       "    <tr>\n",
       "      <td>75%</td>\n",
       "      <td>5060.000000</td>\n",
       "      <td>2430.500000</td>\n",
       "      <td>157500.000000</td>\n",
       "      <td>360.000000</td>\n",
       "      <td>1.000000</td>\n",
       "      <td>8.529122</td>\n",
       "      <td>49.299911</td>\n",
       "      <td>6980.000000</td>\n",
       "    </tr>\n",
       "    <tr>\n",
       "      <td>max</td>\n",
       "      <td>72529.000000</td>\n",
       "      <td>24000.000000</td>\n",
       "      <td>550000.000000</td>\n",
       "      <td>480.000000</td>\n",
       "      <td>2.000000</td>\n",
       "      <td>11.191742</td>\n",
       "      <td>154.919334</td>\n",
       "      <td>72529.000000</td>\n",
       "    </tr>\n",
       "  </tbody>\n",
       "</table>\n",
       "</div>"
      ],
      "text/plain": [
       "       ApplicantIncome  CoapplicantIncome     LoanAmount  Loan_Amount_Term  \\\n",
       "count       367.000000         367.000000     367.000000        367.000000   \n",
       "mean       4831.788008        1569.577657  135980.926431        342.822888   \n",
       "std        4897.749261        2334.232099   60959.739166         64.658402   \n",
       "min         570.000000           0.000000   28000.000000          6.000000   \n",
       "25%        2885.500000           0.000000  101000.000000        360.000000   \n",
       "50%        3808.000000        1025.000000  125000.000000        360.000000   \n",
       "75%        5060.000000        2430.500000  157500.000000        360.000000   \n",
       "max       72529.000000       24000.000000  550000.000000        480.000000   \n",
       "\n",
       "       Credit_History  log_appincome  sqrt_coappincome  Total_Income  \n",
       "count      367.000000     367.000000        367.000000    367.000000  \n",
       "mean         0.918256       8.294887         28.206995   6401.365665  \n",
       "std          0.483463       0.547110         27.857812   5244.153719  \n",
       "min          0.000000       6.345636          0.000000   2083.000000  \n",
       "25%          1.000000       7.967447          0.000000   4161.500000  \n",
       "50%          1.000000       8.244859         32.015621   5225.000000  \n",
       "75%          1.000000       8.529122         49.299911   6980.000000  \n",
       "max          2.000000      11.191742        154.919334  72529.000000  "
      ]
     },
     "execution_count": 189,
     "metadata": {},
     "output_type": "execute_result"
    }
   ],
   "source": [
    "test.describe()"
   ]
  },
  {
   "cell_type": "code",
   "execution_count": 190,
   "metadata": {},
   "outputs": [
    {
     "data": {
      "text/html": [
       "<div>\n",
       "<style scoped>\n",
       "    .dataframe tbody tr th:only-of-type {\n",
       "        vertical-align: middle;\n",
       "    }\n",
       "\n",
       "    .dataframe tbody tr th {\n",
       "        vertical-align: top;\n",
       "    }\n",
       "\n",
       "    .dataframe thead th {\n",
       "        text-align: right;\n",
       "    }\n",
       "</style>\n",
       "<table border=\"1\" class=\"dataframe\">\n",
       "  <thead>\n",
       "    <tr style=\"text-align: right;\">\n",
       "      <th></th>\n",
       "      <th>Loan_ID</th>\n",
       "      <th>Gender</th>\n",
       "      <th>Married</th>\n",
       "      <th>Dependents</th>\n",
       "      <th>Education</th>\n",
       "      <th>Self_Employed</th>\n",
       "      <th>ApplicantIncome</th>\n",
       "      <th>CoapplicantIncome</th>\n",
       "      <th>LoanAmount</th>\n",
       "      <th>Loan_Amount_Term</th>\n",
       "      <th>Credit_History</th>\n",
       "      <th>Property_Area</th>\n",
       "      <th>log_appincome</th>\n",
       "      <th>sqrt_coappincome</th>\n",
       "      <th>loanamt</th>\n",
       "      <th>Total_Income</th>\n",
       "      <th>Total_Income_bin</th>\n",
       "      <th>score</th>\n",
       "    </tr>\n",
       "  </thead>\n",
       "  <tbody>\n",
       "    <tr>\n",
       "      <td>0</td>\n",
       "      <td>LP001015</td>\n",
       "      <td>Male</td>\n",
       "      <td>Yes</td>\n",
       "      <td>0</td>\n",
       "      <td>Graduate</td>\n",
       "      <td>No</td>\n",
       "      <td>5720.0</td>\n",
       "      <td>0</td>\n",
       "      <td>110000.0</td>\n",
       "      <td>360.0</td>\n",
       "      <td>1.0</td>\n",
       "      <td>Urban</td>\n",
       "      <td>8.651724</td>\n",
       "      <td>0.000000</td>\n",
       "      <td>avg</td>\n",
       "      <td>5720.0</td>\n",
       "      <td>avg</td>\n",
       "      <td>7</td>\n",
       "    </tr>\n",
       "    <tr>\n",
       "      <td>1</td>\n",
       "      <td>LP001022</td>\n",
       "      <td>Male</td>\n",
       "      <td>Yes</td>\n",
       "      <td>1</td>\n",
       "      <td>Graduate</td>\n",
       "      <td>No</td>\n",
       "      <td>3076.0</td>\n",
       "      <td>1500</td>\n",
       "      <td>126000.0</td>\n",
       "      <td>360.0</td>\n",
       "      <td>1.0</td>\n",
       "      <td>Urban</td>\n",
       "      <td>8.031385</td>\n",
       "      <td>38.729833</td>\n",
       "      <td>avg</td>\n",
       "      <td>4576.0</td>\n",
       "      <td>avg</td>\n",
       "      <td>7</td>\n",
       "    </tr>\n",
       "    <tr>\n",
       "      <td>2</td>\n",
       "      <td>LP001031</td>\n",
       "      <td>Male</td>\n",
       "      <td>Yes</td>\n",
       "      <td>2</td>\n",
       "      <td>Graduate</td>\n",
       "      <td>No</td>\n",
       "      <td>5000.0</td>\n",
       "      <td>1800</td>\n",
       "      <td>208000.0</td>\n",
       "      <td>360.0</td>\n",
       "      <td>1.0</td>\n",
       "      <td>Urban</td>\n",
       "      <td>8.517193</td>\n",
       "      <td>42.426407</td>\n",
       "      <td>high</td>\n",
       "      <td>6800.0</td>\n",
       "      <td>avg</td>\n",
       "      <td>2</td>\n",
       "    </tr>\n",
       "    <tr>\n",
       "      <td>3</td>\n",
       "      <td>LP001035</td>\n",
       "      <td>Male</td>\n",
       "      <td>Yes</td>\n",
       "      <td>2</td>\n",
       "      <td>Graduate</td>\n",
       "      <td>No</td>\n",
       "      <td>2340.0</td>\n",
       "      <td>2546</td>\n",
       "      <td>100000.0</td>\n",
       "      <td>360.0</td>\n",
       "      <td>2.0</td>\n",
       "      <td>Urban</td>\n",
       "      <td>7.757906</td>\n",
       "      <td>50.457903</td>\n",
       "      <td>low</td>\n",
       "      <td>4886.0</td>\n",
       "      <td>avg</td>\n",
       "      <td>5</td>\n",
       "    </tr>\n",
       "    <tr>\n",
       "      <td>4</td>\n",
       "      <td>LP001051</td>\n",
       "      <td>Male</td>\n",
       "      <td>No</td>\n",
       "      <td>0</td>\n",
       "      <td>Not Graduate</td>\n",
       "      <td>No</td>\n",
       "      <td>3276.0</td>\n",
       "      <td>0</td>\n",
       "      <td>78000.0</td>\n",
       "      <td>360.0</td>\n",
       "      <td>1.0</td>\n",
       "      <td>Urban</td>\n",
       "      <td>8.094378</td>\n",
       "      <td>0.000000</td>\n",
       "      <td>low</td>\n",
       "      <td>3276.0</td>\n",
       "      <td>low</td>\n",
       "      <td>3</td>\n",
       "    </tr>\n",
       "  </tbody>\n",
       "</table>\n",
       "</div>"
      ],
      "text/plain": [
       "    Loan_ID Gender Married Dependents     Education Self_Employed  \\\n",
       "0  LP001015   Male     Yes          0      Graduate            No   \n",
       "1  LP001022   Male     Yes          1      Graduate            No   \n",
       "2  LP001031   Male     Yes          2      Graduate            No   \n",
       "3  LP001035   Male     Yes          2      Graduate            No   \n",
       "4  LP001051   Male      No          0  Not Graduate            No   \n",
       "\n",
       "   ApplicantIncome  CoapplicantIncome  LoanAmount  Loan_Amount_Term  \\\n",
       "0           5720.0                  0    110000.0             360.0   \n",
       "1           3076.0               1500    126000.0             360.0   \n",
       "2           5000.0               1800    208000.0             360.0   \n",
       "3           2340.0               2546    100000.0             360.0   \n",
       "4           3276.0                  0     78000.0             360.0   \n",
       "\n",
       "   Credit_History Property_Area  log_appincome  sqrt_coappincome loanamt  \\\n",
       "0             1.0         Urban       8.651724          0.000000     avg   \n",
       "1             1.0         Urban       8.031385         38.729833     avg   \n",
       "2             1.0         Urban       8.517193         42.426407    high   \n",
       "3             2.0         Urban       7.757906         50.457903     low   \n",
       "4             1.0         Urban       8.094378          0.000000     low   \n",
       "\n",
       "   Total_Income Total_Income_bin  score  \n",
       "0        5720.0              avg      7  \n",
       "1        4576.0              avg      7  \n",
       "2        6800.0              avg      2  \n",
       "3        4886.0              avg      5  \n",
       "4        3276.0              low      3  "
      ]
     },
     "execution_count": 190,
     "metadata": {},
     "output_type": "execute_result"
    }
   ],
   "source": [
    "def set_scr(test):\n",
    "    if test[\"Total_Income_bin\"] == \"low\" and test[\"loanamt\"] == \"high\":\n",
    "        return 1\n",
    "    elif test[\"Total_Income_bin\"] == \"avg\" and test[\"loanamt\"] == \"high\":\n",
    "        return 2\n",
    "    elif test[\"Total_Income_bin\"] == \"low\" and test[\"loanamt\"] == \"avg\":\n",
    "        return 4\n",
    "    elif test[\"Total_Income_bin\"] == \"high\" and test[\"loanamt\"] == \"high\":\n",
    "        return 8\n",
    "    elif test[\"Total_Income_bin\"] == \"avg\" and test[\"loanamt\"] == \"avg\":\n",
    "        return 7\n",
    "    elif test[\"Total_Income_bin\"] == \"low\" and test[\"loanamt\"] == \"low\":\n",
    "        return 3\n",
    "    elif test[\"Total_Income_bin\"] == \"high\" and test[\"loanamt\"] == \"avg\":\n",
    "        return 6\n",
    "    elif test[\"Total_Income_bin\"] == \"avg\" and test[\"loanamt\"] == \"low\":\n",
    "        return 5\n",
    "    else :\n",
    "        return 9\n",
    "test['score']=test.apply(set_scr,axis=1)\n",
    "test.head()"
   ]
  },
  {
   "cell_type": "code",
   "execution_count": 191,
   "metadata": {},
   "outputs": [],
   "source": [
    "test['EMI']=(test['LoanAmount']*(7.85/1200)*((1+(7.85/1200))**test['Loan_Amount_Term']))/((1+(7.85/1200))**(test['Loan_Amount_Term']-1))\n",
    "\n",
    "test['Risk_Percent']=(test['EMI']/test['ApplicantIncome'])"
   ]
  },
  {
   "cell_type": "code",
   "execution_count": 192,
   "metadata": {},
   "outputs": [],
   "source": [
    "def num(test):\n",
    "    if test['CoapplicantIncome']==0:\n",
    "        return 0\n",
    "    elif test['CoapplicantIncome']>=0 and test['CoapplicantIncome']<=1025:\n",
    "        return 1\n",
    "    elif test['CoapplicantIncome']>1025 and test['CoapplicantIncome']<=2430.5:\n",
    "        return 1\n",
    "    elif test['CoapplicantIncome']>2430.5 and test['CoapplicantIncome']<=25000:\n",
    "        return 2\n",
    "test['coapplicant']=test.apply(num,axis=1)"
   ]
  },
  {
   "cell_type": "code",
   "execution_count": 193,
   "metadata": {},
   "outputs": [],
   "source": [
    "# So we also need to remove skewness from Total Income\n",
    "\n",
    "test['log_total_income']=np.log(test['Total_Income'])"
   ]
  },
  {
   "cell_type": "code",
   "execution_count": 194,
   "metadata": {},
   "outputs": [],
   "source": [
    "from sklearn.preprocessing import LabelEncoder\n",
    "le=LabelEncoder()\n",
    "dict5={'Male':1,'Female':0}\n",
    "test['Gender']=test['Gender'].map(dict5)\n",
    "test['Married']=le.fit_transform(test['Married'])\n",
    "dict6={'Yes':1,'No':0}\n",
    "test['Self_Employed']=test['Self_Employed'].map(dict6)\n",
    "test['loanamt']=test['loanamt'].astype('object')\n",
    "test['Total_Income_bin']=test['Total_Income_bin'].astype('object')\n",
    "dict={'low':1,'avg':2,'high':3}\n",
    "dict1={'low':1,'avg':2,'high':3}\n",
    "dict2={'Graduate':1,'Not Graduate':0}\n",
    "dict3={\"Rural\":0,'Urban':2,'Semiurban':1}\n",
    "dict4={6:0,8:1,12:2,36:3,60:4,84:5,120:6,180:7,240:8,300:9,350:10,360:11,480:12}\n",
    "test['Loan_Amount_Term']=test['Loan_Amount_Term'].map(dict4)\n",
    "test['loanamt']=test['loanamt'].map(dict)\n",
    "test['Education']=test['Education'].map(dict2)\n",
    "test['Total_Income_bin']=test['Total_Income_bin'].map(dict1)\n",
    "test['Property_Area']=test['Property_Area'].map(dict3)\n"
   ]
  },
  {
   "cell_type": "code",
   "execution_count": 195,
   "metadata": {},
   "outputs": [
    {
     "data": {
      "text/html": [
       "<div>\n",
       "<style scoped>\n",
       "    .dataframe tbody tr th:only-of-type {\n",
       "        vertical-align: middle;\n",
       "    }\n",
       "\n",
       "    .dataframe tbody tr th {\n",
       "        vertical-align: top;\n",
       "    }\n",
       "\n",
       "    .dataframe thead th {\n",
       "        text-align: right;\n",
       "    }\n",
       "</style>\n",
       "<table border=\"1\" class=\"dataframe\">\n",
       "  <thead>\n",
       "    <tr style=\"text-align: right;\">\n",
       "      <th></th>\n",
       "      <th>Gender</th>\n",
       "      <th>Married</th>\n",
       "      <th>Education</th>\n",
       "      <th>Self_Employed</th>\n",
       "      <th>ApplicantIncome</th>\n",
       "      <th>CoapplicantIncome</th>\n",
       "      <th>LoanAmount</th>\n",
       "      <th>Loan_Amount_Term</th>\n",
       "      <th>Credit_History</th>\n",
       "      <th>Property_Area</th>\n",
       "      <th>log_appincome</th>\n",
       "      <th>sqrt_coappincome</th>\n",
       "      <th>loanamt</th>\n",
       "      <th>Total_Income</th>\n",
       "      <th>Total_Income_bin</th>\n",
       "      <th>score</th>\n",
       "      <th>EMI</th>\n",
       "      <th>Risk_Percent</th>\n",
       "      <th>coapplicant</th>\n",
       "      <th>log_total_income</th>\n",
       "    </tr>\n",
       "  </thead>\n",
       "  <tbody>\n",
       "    <tr>\n",
       "      <td>count</td>\n",
       "      <td>367.000000</td>\n",
       "      <td>367.000000</td>\n",
       "      <td>367.000000</td>\n",
       "      <td>367.000000</td>\n",
       "      <td>367.000000</td>\n",
       "      <td>367.000000</td>\n",
       "      <td>367.000000</td>\n",
       "      <td>367.000000</td>\n",
       "      <td>367.000000</td>\n",
       "      <td>367.000000</td>\n",
       "      <td>367.000000</td>\n",
       "      <td>367.000000</td>\n",
       "      <td>367.000000</td>\n",
       "      <td>367.000000</td>\n",
       "      <td>367.000000</td>\n",
       "      <td>367.000000</td>\n",
       "      <td>367.000000</td>\n",
       "      <td>367.000000</td>\n",
       "      <td>367.000000</td>\n",
       "      <td>367.000000</td>\n",
       "    </tr>\n",
       "    <tr>\n",
       "      <td>mean</td>\n",
       "      <td>0.787466</td>\n",
       "      <td>0.634877</td>\n",
       "      <td>0.771117</td>\n",
       "      <td>0.100817</td>\n",
       "      <td>4831.788008</td>\n",
       "      <td>1569.577657</td>\n",
       "      <td>135980.926431</td>\n",
       "      <td>10.550409</td>\n",
       "      <td>0.918256</td>\n",
       "      <td>1.079019</td>\n",
       "      <td>8.294887</td>\n",
       "      <td>28.206995</td>\n",
       "      <td>1.997275</td>\n",
       "      <td>6401.365665</td>\n",
       "      <td>2.000000</td>\n",
       "      <td>5.572207</td>\n",
       "      <td>895.360980</td>\n",
       "      <td>0.233344</td>\n",
       "      <td>0.825613</td>\n",
       "      <td>8.621348</td>\n",
       "    </tr>\n",
       "    <tr>\n",
       "      <td>std</td>\n",
       "      <td>0.409659</td>\n",
       "      <td>0.482122</td>\n",
       "      <td>0.420687</td>\n",
       "      <td>0.301498</td>\n",
       "      <td>4897.749261</td>\n",
       "      <td>2334.232099</td>\n",
       "      <td>60959.739166</td>\n",
       "      <td>1.477349</td>\n",
       "      <td>0.483463</td>\n",
       "      <td>0.824337</td>\n",
       "      <td>0.547110</td>\n",
       "      <td>27.857812</td>\n",
       "      <td>0.710955</td>\n",
       "      <td>5244.153719</td>\n",
       "      <td>0.709036</td>\n",
       "      <td>2.092033</td>\n",
       "      <td>401.386968</td>\n",
       "      <td>0.139704</td>\n",
       "      <td>0.804426</td>\n",
       "      <td>0.473654</td>\n",
       "    </tr>\n",
       "    <tr>\n",
       "      <td>min</td>\n",
       "      <td>0.000000</td>\n",
       "      <td>0.000000</td>\n",
       "      <td>0.000000</td>\n",
       "      <td>0.000000</td>\n",
       "      <td>570.000000</td>\n",
       "      <td>0.000000</td>\n",
       "      <td>28000.000000</td>\n",
       "      <td>0.000000</td>\n",
       "      <td>0.000000</td>\n",
       "      <td>0.000000</td>\n",
       "      <td>6.345636</td>\n",
       "      <td>0.000000</td>\n",
       "      <td>1.000000</td>\n",
       "      <td>2083.000000</td>\n",
       "      <td>1.000000</td>\n",
       "      <td>1.000000</td>\n",
       "      <td>184.364882</td>\n",
       "      <td>0.016461</td>\n",
       "      <td>0.000000</td>\n",
       "      <td>7.641564</td>\n",
       "    </tr>\n",
       "    <tr>\n",
       "      <td>25%</td>\n",
       "      <td>1.000000</td>\n",
       "      <td>0.000000</td>\n",
       "      <td>1.000000</td>\n",
       "      <td>0.000000</td>\n",
       "      <td>2885.500000</td>\n",
       "      <td>0.000000</td>\n",
       "      <td>101000.000000</td>\n",
       "      <td>11.000000</td>\n",
       "      <td>1.000000</td>\n",
       "      <td>0.000000</td>\n",
       "      <td>7.967447</td>\n",
       "      <td>0.000000</td>\n",
       "      <td>1.000000</td>\n",
       "      <td>4161.500000</td>\n",
       "      <td>1.500000</td>\n",
       "      <td>4.000000</td>\n",
       "      <td>665.030467</td>\n",
       "      <td>0.158027</td>\n",
       "      <td>0.000000</td>\n",
       "      <td>8.333630</td>\n",
       "    </tr>\n",
       "    <tr>\n",
       "      <td>50%</td>\n",
       "      <td>1.000000</td>\n",
       "      <td>1.000000</td>\n",
       "      <td>1.000000</td>\n",
       "      <td>0.000000</td>\n",
       "      <td>3808.000000</td>\n",
       "      <td>1025.000000</td>\n",
       "      <td>125000.000000</td>\n",
       "      <td>11.000000</td>\n",
       "      <td>1.000000</td>\n",
       "      <td>1.000000</td>\n",
       "      <td>8.244859</td>\n",
       "      <td>32.015621</td>\n",
       "      <td>2.000000</td>\n",
       "      <td>5225.000000</td>\n",
       "      <td>2.000000</td>\n",
       "      <td>6.000000</td>\n",
       "      <td>823.057509</td>\n",
       "      <td>0.204019</td>\n",
       "      <td>1.000000</td>\n",
       "      <td>8.561210</td>\n",
       "    </tr>\n",
       "    <tr>\n",
       "      <td>75%</td>\n",
       "      <td>1.000000</td>\n",
       "      <td>1.000000</td>\n",
       "      <td>1.000000</td>\n",
       "      <td>0.000000</td>\n",
       "      <td>5060.000000</td>\n",
       "      <td>2430.500000</td>\n",
       "      <td>157500.000000</td>\n",
       "      <td>11.000000</td>\n",
       "      <td>1.000000</td>\n",
       "      <td>2.000000</td>\n",
       "      <td>8.529122</td>\n",
       "      <td>49.299911</td>\n",
       "      <td>2.500000</td>\n",
       "      <td>6980.000000</td>\n",
       "      <td>2.500000</td>\n",
       "      <td>7.000000</td>\n",
       "      <td>1037.052461</td>\n",
       "      <td>0.286618</td>\n",
       "      <td>1.500000</td>\n",
       "      <td>8.850789</td>\n",
       "    </tr>\n",
       "    <tr>\n",
       "      <td>max</td>\n",
       "      <td>1.000000</td>\n",
       "      <td>1.000000</td>\n",
       "      <td>1.000000</td>\n",
       "      <td>1.000000</td>\n",
       "      <td>72529.000000</td>\n",
       "      <td>24000.000000</td>\n",
       "      <td>550000.000000</td>\n",
       "      <td>12.000000</td>\n",
       "      <td>2.000000</td>\n",
       "      <td>2.000000</td>\n",
       "      <td>11.191742</td>\n",
       "      <td>154.919334</td>\n",
       "      <td>3.000000</td>\n",
       "      <td>72529.000000</td>\n",
       "      <td>3.000000</td>\n",
       "      <td>9.000000</td>\n",
       "      <td>3621.453038</td>\n",
       "      <td>1.937141</td>\n",
       "      <td>2.000000</td>\n",
       "      <td>11.191742</td>\n",
       "    </tr>\n",
       "  </tbody>\n",
       "</table>\n",
       "</div>"
      ],
      "text/plain": [
       "           Gender     Married   Education  Self_Employed  ApplicantIncome  \\\n",
       "count  367.000000  367.000000  367.000000     367.000000       367.000000   \n",
       "mean     0.787466    0.634877    0.771117       0.100817      4831.788008   \n",
       "std      0.409659    0.482122    0.420687       0.301498      4897.749261   \n",
       "min      0.000000    0.000000    0.000000       0.000000       570.000000   \n",
       "25%      1.000000    0.000000    1.000000       0.000000      2885.500000   \n",
       "50%      1.000000    1.000000    1.000000       0.000000      3808.000000   \n",
       "75%      1.000000    1.000000    1.000000       0.000000      5060.000000   \n",
       "max      1.000000    1.000000    1.000000       1.000000     72529.000000   \n",
       "\n",
       "       CoapplicantIncome     LoanAmount  Loan_Amount_Term  Credit_History  \\\n",
       "count         367.000000     367.000000        367.000000      367.000000   \n",
       "mean         1569.577657  135980.926431         10.550409        0.918256   \n",
       "std          2334.232099   60959.739166          1.477349        0.483463   \n",
       "min             0.000000   28000.000000          0.000000        0.000000   \n",
       "25%             0.000000  101000.000000         11.000000        1.000000   \n",
       "50%          1025.000000  125000.000000         11.000000        1.000000   \n",
       "75%          2430.500000  157500.000000         11.000000        1.000000   \n",
       "max         24000.000000  550000.000000         12.000000        2.000000   \n",
       "\n",
       "       Property_Area  log_appincome  sqrt_coappincome     loanamt  \\\n",
       "count     367.000000     367.000000        367.000000  367.000000   \n",
       "mean        1.079019       8.294887         28.206995    1.997275   \n",
       "std         0.824337       0.547110         27.857812    0.710955   \n",
       "min         0.000000       6.345636          0.000000    1.000000   \n",
       "25%         0.000000       7.967447          0.000000    1.000000   \n",
       "50%         1.000000       8.244859         32.015621    2.000000   \n",
       "75%         2.000000       8.529122         49.299911    2.500000   \n",
       "max         2.000000      11.191742        154.919334    3.000000   \n",
       "\n",
       "       Total_Income  Total_Income_bin       score          EMI  Risk_Percent  \\\n",
       "count    367.000000        367.000000  367.000000   367.000000    367.000000   \n",
       "mean    6401.365665          2.000000    5.572207   895.360980      0.233344   \n",
       "std     5244.153719          0.709036    2.092033   401.386968      0.139704   \n",
       "min     2083.000000          1.000000    1.000000   184.364882      0.016461   \n",
       "25%     4161.500000          1.500000    4.000000   665.030467      0.158027   \n",
       "50%     5225.000000          2.000000    6.000000   823.057509      0.204019   \n",
       "75%     6980.000000          2.500000    7.000000  1037.052461      0.286618   \n",
       "max    72529.000000          3.000000    9.000000  3621.453038      1.937141   \n",
       "\n",
       "       coapplicant  log_total_income  \n",
       "count   367.000000        367.000000  \n",
       "mean      0.825613          8.621348  \n",
       "std       0.804426          0.473654  \n",
       "min       0.000000          7.641564  \n",
       "25%       0.000000          8.333630  \n",
       "50%       1.000000          8.561210  \n",
       "75%       1.500000          8.850789  \n",
       "max       2.000000         11.191742  "
      ]
     },
     "execution_count": 195,
     "metadata": {},
     "output_type": "execute_result"
    }
   ],
   "source": [
    "test.describe()"
   ]
  },
  {
   "cell_type": "code",
   "execution_count": 196,
   "metadata": {},
   "outputs": [],
   "source": [
    "from sklearn.preprocessing import StandardScaler\n",
    "scaler=StandardScaler()\n",
    "train[['ApplicantIncome','LoanAmount','Total_Income','EMI','log_appincome','Risk_Percent','log_total_income','sqrt_coappincome']]=scaler.fit_transform(train[['ApplicantIncome','LoanAmount','Total_Income','EMI','log_appincome','Risk_Percent','log_total_income','sqrt_coappincome']])"
   ]
  },
  {
   "cell_type": "code",
   "execution_count": 197,
   "metadata": {},
   "outputs": [],
   "source": [
    "from sklearn.preprocessing import StandardScaler\n",
    "scaler=StandardScaler()\n",
    "test[['ApplicantIncome','LoanAmount','EMI','Total_Income','log_appincome','Risk_Percent','log_total_income','sqrt_coappincome']]=scaler.fit_transform(test[['ApplicantIncome','LoanAmount','EMI','Total_Income','log_appincome','Risk_Percent','log_total_income','sqrt_coappincome']])"
   ]
  },
  {
   "cell_type": "code",
   "execution_count": 198,
   "metadata": {},
   "outputs": [],
   "source": [
    "XX=test[['Gender', 'Married', 'Dependents', 'Education',\n",
    "       'Self_Employed', 'ApplicantIncome', 'LoanAmount','Loan_Amount_Term',\n",
    "     'Credit_History', 'Property_Area']]"
   ]
  },
  {
   "cell_type": "code",
   "execution_count": 199,
   "metadata": {},
   "outputs": [],
   "source": [
    "X1=train[['Gender', 'Married', 'Dependents', 'Education',\n",
    "       'Self_Employed', 'ApplicantIncome', 'LoanAmount','Loan_Amount_Term',\n",
    "     'Credit_History', 'Property_Area']]\n",
    "y1=train['Loan_Status']"
   ]
  },
  {
   "cell_type": "code",
   "execution_count": 200,
   "metadata": {},
   "outputs": [
    {
     "data": {
      "text/plain": [
       "Gender              0\n",
       "Married             0\n",
       "Dependents          0\n",
       "Education           0\n",
       "Self_Employed       0\n",
       "ApplicantIncome     0\n",
       "LoanAmount          0\n",
       "Loan_Amount_Term    0\n",
       "Credit_History      0\n",
       "Property_Area       0\n",
       "dtype: int64"
      ]
     },
     "execution_count": 200,
     "metadata": {},
     "output_type": "execute_result"
    }
   ],
   "source": [
    "XX.isnull().sum()"
   ]
  },
  {
   "cell_type": "code",
   "execution_count": 109,
   "metadata": {},
   "outputs": [],
   "source": [
    "from sklearn.ensemble import AdaBoostClassifier\n",
    "abc=AdaBoostClassifier(random_state=0,algorithm='SAMME',n_estimators=1000,learning_rate=0.1)\n",
    "abc.fit(X1,y1)\n",
    "predddd=abc.predict(XX)\n",
    "predddd=pd.DataFrame(predddd,columns=['Loan_Status'])\n"
   ]
  },
  {
   "cell_type": "code",
   "execution_count": 202,
   "metadata": {},
   "outputs": [],
   "source": [
    "from sklearn.ensemble import GradientBoostingClassifier\n",
    "gbc=GradientBoostingClassifier(random_state=31)\n",
    "gbc.fit(X1,y1)\n",
    "log_pred=gbc.predict(XX)\n",
    "log_pred=pd.DataFrame(log_pred,columns=['Loan_Status'])"
   ]
  },
  {
   "cell_type": "code",
   "execution_count": 203,
   "metadata": {},
   "outputs": [
    {
     "data": {
      "text/html": [
       "<div>\n",
       "<style scoped>\n",
       "    .dataframe tbody tr th:only-of-type {\n",
       "        vertical-align: middle;\n",
       "    }\n",
       "\n",
       "    .dataframe tbody tr th {\n",
       "        vertical-align: top;\n",
       "    }\n",
       "\n",
       "    .dataframe thead th {\n",
       "        text-align: right;\n",
       "    }\n",
       "</style>\n",
       "<table border=\"1\" class=\"dataframe\">\n",
       "  <thead>\n",
       "    <tr style=\"text-align: right;\">\n",
       "      <th></th>\n",
       "      <th>Loan_ID</th>\n",
       "      <th>Gender</th>\n",
       "      <th>Married</th>\n",
       "      <th>Dependents</th>\n",
       "      <th>Education</th>\n",
       "      <th>Self_Employed</th>\n",
       "      <th>ApplicantIncome</th>\n",
       "      <th>CoapplicantIncome</th>\n",
       "      <th>LoanAmount</th>\n",
       "      <th>Loan_Amount_Term</th>\n",
       "      <th>Credit_History</th>\n",
       "      <th>Property_Area</th>\n",
       "      <th>log_appincome</th>\n",
       "      <th>sqrt_coappincome</th>\n",
       "      <th>loanamt</th>\n",
       "      <th>Total_Income</th>\n",
       "      <th>Total_Income_bin</th>\n",
       "      <th>score</th>\n",
       "      <th>EMI</th>\n",
       "      <th>Risk_Percent</th>\n",
       "      <th>coapplicant</th>\n",
       "      <th>log_total_income</th>\n",
       "      <th>Loan_Status</th>\n",
       "    </tr>\n",
       "  </thead>\n",
       "  <tbody>\n",
       "    <tr>\n",
       "      <td>0</td>\n",
       "      <td>LP001015</td>\n",
       "      <td>1</td>\n",
       "      <td>1</td>\n",
       "      <td>0</td>\n",
       "      <td>1</td>\n",
       "      <td>0</td>\n",
       "      <td>0.181599</td>\n",
       "      <td>0</td>\n",
       "      <td>-0.426780</td>\n",
       "      <td>11</td>\n",
       "      <td>1.0</td>\n",
       "      <td>2</td>\n",
       "      <td>0.653111</td>\n",
       "      <td>-1.013917</td>\n",
       "      <td>2</td>\n",
       "      <td>-0.130106</td>\n",
       "      <td>2</td>\n",
       "      <td>7</td>\n",
       "      <td>-0.426780</td>\n",
       "      <td>-0.764938</td>\n",
       "      <td>0</td>\n",
       "      <td>0.064219</td>\n",
       "      <td>1</td>\n",
       "    </tr>\n",
       "    <tr>\n",
       "      <td>1</td>\n",
       "      <td>LP001022</td>\n",
       "      <td>1</td>\n",
       "      <td>1</td>\n",
       "      <td>1</td>\n",
       "      <td>1</td>\n",
       "      <td>0</td>\n",
       "      <td>-0.358978</td>\n",
       "      <td>1500</td>\n",
       "      <td>-0.163953</td>\n",
       "      <td>11</td>\n",
       "      <td>1.0</td>\n",
       "      <td>2</td>\n",
       "      <td>-0.482283</td>\n",
       "      <td>0.378250</td>\n",
       "      <td>2</td>\n",
       "      <td>-0.348551</td>\n",
       "      <td>2</td>\n",
       "      <td>7</td>\n",
       "      <td>-0.163953</td>\n",
       "      <td>0.260697</td>\n",
       "      <td>1</td>\n",
       "      <td>-0.407535</td>\n",
       "      <td>1</td>\n",
       "    </tr>\n",
       "    <tr>\n",
       "      <td>2</td>\n",
       "      <td>LP001031</td>\n",
       "      <td>1</td>\n",
       "      <td>1</td>\n",
       "      <td>2</td>\n",
       "      <td>1</td>\n",
       "      <td>0</td>\n",
       "      <td>0.034392</td>\n",
       "      <td>1800</td>\n",
       "      <td>1.183033</td>\n",
       "      <td>11</td>\n",
       "      <td>1.0</td>\n",
       "      <td>2</td>\n",
       "      <td>0.406882</td>\n",
       "      <td>0.511125</td>\n",
       "      <td>3</td>\n",
       "      <td>0.076119</td>\n",
       "      <td>2</td>\n",
       "      <td>2</td>\n",
       "      <td>1.183033</td>\n",
       "      <td>0.290795</td>\n",
       "      <td>1</td>\n",
       "      <td>0.429865</td>\n",
       "      <td>1</td>\n",
       "    </tr>\n",
       "    <tr>\n",
       "      <td>3</td>\n",
       "      <td>LP001035</td>\n",
       "      <td>1</td>\n",
       "      <td>1</td>\n",
       "      <td>2</td>\n",
       "      <td>1</td>\n",
       "      <td>0</td>\n",
       "      <td>-0.509456</td>\n",
       "      <td>2546</td>\n",
       "      <td>-0.591047</td>\n",
       "      <td>11</td>\n",
       "      <td>2.0</td>\n",
       "      <td>2</td>\n",
       "      <td>-0.982826</td>\n",
       "      <td>0.799822</td>\n",
       "      <td>1</td>\n",
       "      <td>-0.289357</td>\n",
       "      <td>2</td>\n",
       "      <td>5</td>\n",
       "      <td>-0.591047</td>\n",
       "      <td>0.344364</td>\n",
       "      <td>2</td>\n",
       "      <td>-0.268957</td>\n",
       "      <td>1</td>\n",
       "    </tr>\n",
       "    <tr>\n",
       "      <td>4</td>\n",
       "      <td>LP001051</td>\n",
       "      <td>1</td>\n",
       "      <td>0</td>\n",
       "      <td>0</td>\n",
       "      <td>0</td>\n",
       "      <td>0</td>\n",
       "      <td>-0.318087</td>\n",
       "      <td>0</td>\n",
       "      <td>-0.952433</td>\n",
       "      <td>11</td>\n",
       "      <td>1.0</td>\n",
       "      <td>2</td>\n",
       "      <td>-0.366988</td>\n",
       "      <td>-1.013917</td>\n",
       "      <td>1</td>\n",
       "      <td>-0.596785</td>\n",
       "      <td>1</td>\n",
       "      <td>3</td>\n",
       "      <td>-0.952433</td>\n",
       "      <td>-0.548840</td>\n",
       "      <td>0</td>\n",
       "      <td>-1.114081</td>\n",
       "      <td>1</td>\n",
       "    </tr>\n",
       "  </tbody>\n",
       "</table>\n",
       "</div>"
      ],
      "text/plain": [
       "    Loan_ID  Gender  Married Dependents  Education  Self_Employed  \\\n",
       "0  LP001015       1        1          0          1              0   \n",
       "1  LP001022       1        1          1          1              0   \n",
       "2  LP001031       1        1          2          1              0   \n",
       "3  LP001035       1        1          2          1              0   \n",
       "4  LP001051       1        0          0          0              0   \n",
       "\n",
       "   ApplicantIncome  CoapplicantIncome  LoanAmount  Loan_Amount_Term  \\\n",
       "0         0.181599                  0   -0.426780                11   \n",
       "1        -0.358978               1500   -0.163953                11   \n",
       "2         0.034392               1800    1.183033                11   \n",
       "3        -0.509456               2546   -0.591047                11   \n",
       "4        -0.318087                  0   -0.952433                11   \n",
       "\n",
       "   Credit_History  Property_Area  log_appincome  sqrt_coappincome  loanamt  \\\n",
       "0             1.0              2       0.653111         -1.013917        2   \n",
       "1             1.0              2      -0.482283          0.378250        2   \n",
       "2             1.0              2       0.406882          0.511125        3   \n",
       "3             2.0              2      -0.982826          0.799822        1   \n",
       "4             1.0              2      -0.366988         -1.013917        1   \n",
       "\n",
       "   Total_Income  Total_Income_bin  score       EMI  Risk_Percent  coapplicant  \\\n",
       "0     -0.130106                 2      7 -0.426780     -0.764938            0   \n",
       "1     -0.348551                 2      7 -0.163953      0.260697            1   \n",
       "2      0.076119                 2      2  1.183033      0.290795            1   \n",
       "3     -0.289357                 2      5 -0.591047      0.344364            2   \n",
       "4     -0.596785                 1      3 -0.952433     -0.548840            0   \n",
       "\n",
       "   log_total_income  Loan_Status  \n",
       "0          0.064219            1  \n",
       "1         -0.407535            1  \n",
       "2          0.429865            1  \n",
       "3         -0.268957            1  \n",
       "4         -1.114081            1  "
      ]
     },
     "execution_count": 203,
     "metadata": {},
     "output_type": "execute_result"
    }
   ],
   "source": [
    "final=pd.merge(test,gbc,left_index=True,right_index=True,how='outer')\n",
    "final.head()"
   ]
  },
  {
   "cell_type": "code",
   "execution_count": 204,
   "metadata": {},
   "outputs": [
    {
     "data": {
      "text/plain": [
       "Y    290\n",
       "N     77\n",
       "Name: Loan_Status, dtype: int64"
      ]
     },
     "execution_count": 204,
     "metadata": {},
     "output_type": "execute_result"
    }
   ],
   "source": [
    "final=final[['Loan_ID','Loan_Status']]\n",
    "final['Loan_Status'].replace(1,'Y',inplace=True)\n",
    "final['Loan_Status'].replace(0,'N',inplace=True)\n",
    "final['Loan_Status'].value_counts()"
   ]
  },
  {
   "cell_type": "markdown",
   "metadata": {},
   "source": [
    "As you may notice , we've got the best result when our model type is Gradient Boosting and List type is : 1"
   ]
  },
  {
   "cell_type": "code",
   "execution_count": 206,
   "metadata": {},
   "outputs": [],
   "source": [
    "final.to_csv('C:\\\\Users\\\\User-1\\\\Desktop\\\\final4.csv')"
   ]
  },
  {
   "cell_type": "markdown",
   "metadata": {},
   "source": [
    "Lastly , We have a current rank of 45 for this competition .\n",
    "\n",
    "It is an ongoing competition , so our rank would ofcourse decrease .\n",
    "\n",
    "But as and when required , we would like to learn new skills and grow each and everyday . And therefore , we would bring our new skills to test by aiming for a better rank in the future"
   ]
  },
  {
   "cell_type": "code",
   "execution_count": null,
   "metadata": {},
   "outputs": [],
   "source": []
  }
 ],
 "metadata": {
  "kernelspec": {
   "display_name": "Python 3",
   "language": "python",
   "name": "python3"
  },
  "language_info": {
   "codemirror_mode": {
    "name": "ipython",
    "version": 3
   },
   "file_extension": ".py",
   "mimetype": "text/x-python",
   "name": "python",
   "nbconvert_exporter": "python",
   "pygments_lexer": "ipython3",
   "version": "3.7.4"
  }
 },
 "nbformat": 4,
 "nbformat_minor": 2
}
